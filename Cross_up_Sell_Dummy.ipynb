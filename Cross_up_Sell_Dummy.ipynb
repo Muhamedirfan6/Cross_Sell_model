{
  "nbformat": 4,
  "nbformat_minor": 0,
  "metadata": {
    "colab": {
      "name": "Cross/up Sell Dummy",
      "provenance": [],
      "collapsed_sections": [],
      "authorship_tag": "ABX9TyPcGOTH0yoPSIMgYdTSHgpU",
      "include_colab_link": true
    },
    "kernelspec": {
      "display_name": "Python 3",
      "name": "python3"
    },
    "language_info": {
      "name": "python"
    },
    "accelerator": "GPU",
    "widgets": {
      "application/vnd.jupyter.widget-state+json": {
        "746cc1ff5ed045f99e8c85daab0cf03a": {
          "model_module": "catboost-widget",
          "model_name": "CatboostWidgetModel",
          "model_module_version": "^1.0.0",
          "state": {
            "_view_name": "CatboostWidgetView",
            "_dom_classes": [],
            "_model_name": "CatboostWidgetModel",
            "data": {
              "catboost_info": {
                "content": {
                  "data": {
                    "meta": {
                      "name": "experiment",
                      "parameters": "",
                      "test_metrics": [],
                      "learn_sets": [
                        "learn"
                      ],
                      "launch_mode": "Train",
                      "learn_metrics": [
                        {
                          "best_value": "Min",
                          "name": "Logloss"
                        }
                      ],
                      "iteration_count": 1000,
                      "test_sets": []
                    },
                    "iterations": [
                      {
                        "passed_time": 0.1732969271,
                        "iteration": 0,
                        "remaining_time": 173.1236301,
                        "learn": [
                          0.4964019297
                        ]
                      },
                      {
                        "passed_time": 0.2820628409,
                        "iteration": 1,
                        "remaining_time": 140.7493576,
                        "learn": [
                          0.3977045817
                        ]
                      },
                      {
                        "passed_time": 0.3942687836,
                        "iteration": 2,
                        "remaining_time": 131.0286591,
                        "learn": [
                          0.3479219736
                        ]
                      },
                      {
                        "passed_time": 0.512079308,
                        "iteration": 3,
                        "remaining_time": 127.5077477,
                        "learn": [
                          0.3205193018
                        ]
                      },
                      {
                        "passed_time": 0.6214109914,
                        "iteration": 4,
                        "remaining_time": 123.6607873,
                        "learn": [
                          0.3052449994
                        ]
                      },
                      {
                        "passed_time": 0.73344256,
                        "iteration": 5,
                        "remaining_time": 121.5069841,
                        "learn": [
                          0.2946504654
                        ]
                      },
                      {
                        "passed_time": 0.8599112644,
                        "iteration": 6,
                        "remaining_time": 121.9845551,
                        "learn": [
                          0.2884914667
                        ]
                      },
                      {
                        "passed_time": 0.9654613593,
                        "iteration": 7,
                        "remaining_time": 119.7172086,
                        "learn": [
                          0.2839830319
                        ]
                      },
                      {
                        "passed_time": 1.073410121,
                        "iteration": 8,
                        "remaining_time": 118.1943811,
                        "learn": [
                          0.2809577488
                        ]
                      },
                      {
                        "passed_time": 1.179068686,
                        "iteration": 9,
                        "remaining_time": 116.7277999,
                        "learn": [
                          0.2779493838
                        ]
                      },
                      {
                        "passed_time": 1.289297326,
                        "iteration": 10,
                        "remaining_time": 115.9195505,
                        "learn": [
                          0.2760307788
                        ]
                      },
                      {
                        "passed_time": 1.395798527,
                        "iteration": 11,
                        "remaining_time": 114.9207454,
                        "learn": [
                          0.2742610384
                        ]
                      },
                      {
                        "passed_time": 1.501264105,
                        "iteration": 12,
                        "remaining_time": 113.9805901,
                        "learn": [
                          0.2730073892
                        ]
                      },
                      {
                        "passed_time": 1.619293602,
                        "iteration": 13,
                        "remaining_time": 114.0445351,
                        "learn": [
                          0.2719233748
                        ]
                      },
                      {
                        "passed_time": 1.728745206,
                        "iteration": 14,
                        "remaining_time": 113.5209352,
                        "learn": [
                          0.2712278744
                        ]
                      },
                      {
                        "passed_time": 1.854965022,
                        "iteration": 15,
                        "remaining_time": 114.0803489,
                        "learn": [
                          0.2706737503
                        ]
                      },
                      {
                        "passed_time": 1.959733874,
                        "iteration": 16,
                        "remaining_time": 113.3187293,
                        "learn": [
                          0.2702768868
                        ]
                      },
                      {
                        "passed_time": 2.063074874,
                        "iteration": 17,
                        "remaining_time": 112.5521959,
                        "learn": [
                          0.2696856803
                        ]
                      },
                      {
                        "passed_time": 2.169427086,
                        "iteration": 18,
                        "remaining_time": 112.0109459,
                        "learn": [
                          0.2693417939
                        ]
                      },
                      {
                        "passed_time": 2.275503164,
                        "iteration": 19,
                        "remaining_time": 111.499655,
                        "learn": [
                          0.2690271038
                        ]
                      },
                      {
                        "passed_time": 2.380957905,
                        "iteration": 20,
                        "remaining_time": 110.9979899,
                        "learn": [
                          0.2687395161
                        ]
                      },
                      {
                        "passed_time": 2.487449658,
                        "iteration": 21,
                        "remaining_time": 110.5784439,
                        "learn": [
                          0.2683908841
                        ]
                      },
                      {
                        "passed_time": 2.600060596,
                        "iteration": 22,
                        "remaining_time": 110.4460523,
                        "learn": [
                          0.2682456024
                        ]
                      },
                      {
                        "passed_time": 2.705551942,
                        "iteration": 23,
                        "remaining_time": 110.025779,
                        "learn": [
                          0.2680377011
                        ]
                      },
                      {
                        "passed_time": 2.811201063,
                        "iteration": 24,
                        "remaining_time": 109.6368414,
                        "learn": [
                          0.2679117396
                        ]
                      },
                      {
                        "passed_time": 2.936119318,
                        "iteration": 25,
                        "remaining_time": 109.9915467,
                        "learn": [
                          0.267716456
                        ]
                      },
                      {
                        "passed_time": 3.047751268,
                        "iteration": 26,
                        "remaining_time": 109.8319253,
                        "learn": [
                          0.2675703815
                        ]
                      },
                      {
                        "passed_time": 3.157482515,
                        "iteration": 27,
                        "remaining_time": 109.6097502,
                        "learn": [
                          0.2674276498
                        ]
                      },
                      {
                        "passed_time": 3.273219426,
                        "iteration": 28,
                        "remaining_time": 109.5964159,
                        "learn": [
                          0.2673227743
                        ]
                      },
                      {
                        "passed_time": 3.375526656,
                        "iteration": 29,
                        "remaining_time": 109.1420285,
                        "learn": [
                          0.2670807622
                        ]
                      },
                      {
                        "passed_time": 3.47993796,
                        "iteration": 30,
                        "remaining_time": 108.7761253,
                        "learn": [
                          0.2669118137
                        ]
                      },
                      {
                        "passed_time": 3.585118902,
                        "iteration": 31,
                        "remaining_time": 108.4498468,
                        "learn": [
                          0.2668496761
                        ]
                      },
                      {
                        "passed_time": 3.690749595,
                        "iteration": 32,
                        "remaining_time": 108.1501472,
                        "learn": [
                          0.2667711143
                        ]
                      },
                      {
                        "passed_time": 3.803152174,
                        "iteration": 33,
                        "remaining_time": 108.0542647,
                        "learn": [
                          0.266669248
                        ]
                      },
                      {
                        "passed_time": 3.925479707,
                        "iteration": 34,
                        "remaining_time": 108.2310834,
                        "learn": [
                          0.2665835036
                        ]
                      },
                      {
                        "passed_time": 4.03152509,
                        "iteration": 35,
                        "remaining_time": 107.955283,
                        "learn": [
                          0.2664643594
                        ]
                      },
                      {
                        "passed_time": 4.138334037,
                        "iteration": 36,
                        "remaining_time": 107.7085318,
                        "learn": [
                          0.2664015066
                        ]
                      },
                      {
                        "passed_time": 4.241040317,
                        "iteration": 37,
                        "remaining_time": 107.3652838,
                        "learn": [
                          0.266347603
                        ]
                      },
                      {
                        "passed_time": 4.369265143,
                        "iteration": 38,
                        "remaining_time": 107.6631744,
                        "learn": [
                          0.2662891255
                        ]
                      },
                      {
                        "passed_time": 4.478658145,
                        "iteration": 39,
                        "remaining_time": 107.4877955,
                        "learn": [
                          0.2661712474
                        ]
                      },
                      {
                        "passed_time": 4.582245049,
                        "iteration": 40,
                        "remaining_time": 107.1798293,
                        "learn": [
                          0.2660582574
                        ]
                      },
                      {
                        "passed_time": 4.689575262,
                        "iteration": 41,
                        "remaining_time": 106.9669786,
                        "learn": [
                          0.266008616
                        ]
                      },
                      {
                        "passed_time": 4.798587821,
                        "iteration": 42,
                        "remaining_time": 106.7964778,
                        "learn": [
                          0.265942589
                        ]
                      },
                      {
                        "passed_time": 4.924983691,
                        "iteration": 43,
                        "remaining_time": 107.0064638,
                        "learn": [
                          0.2658888594
                        ]
                      },
                      {
                        "passed_time": 5.033420484,
                        "iteration": 44,
                        "remaining_time": 106.820368,
                        "learn": [
                          0.265830332
                        ]
                      },
                      {
                        "passed_time": 5.140672292,
                        "iteration": 45,
                        "remaining_time": 106.6130732,
                        "learn": [
                          0.2657834891
                        ]
                      },
                      {
                        "passed_time": 5.252610888,
                        "iteration": 46,
                        "remaining_time": 106.5050676,
                        "learn": [
                          0.2657323388
                        ]
                      },
                      {
                        "passed_time": 5.357622869,
                        "iteration": 47,
                        "remaining_time": 106.2595202,
                        "learn": [
                          0.2656967555
                        ]
                      },
                      {
                        "passed_time": 5.466084375,
                        "iteration": 48,
                        "remaining_time": 106.086658,
                        "learn": [
                          0.265643553
                        ]
                      },
                      {
                        "passed_time": 5.574481313,
                        "iteration": 49,
                        "remaining_time": 105.915145,
                        "learn": [
                          0.2655945613
                        ]
                      },
                      {
                        "passed_time": 5.684186218,
                        "iteration": 50,
                        "remaining_time": 105.7704455,
                        "learn": [
                          0.2655343129
                        ]
                      },
                      {
                        "passed_time": 5.795560413,
                        "iteration": 51,
                        "remaining_time": 105.6575245,
                        "learn": [
                          0.2654632613
                        ]
                      },
                      {
                        "passed_time": 5.92172378,
                        "iteration": 52,
                        "remaining_time": 105.8089136,
                        "learn": [
                          0.2654224023
                        ]
                      },
                      {
                        "passed_time": 6.02664795,
                        "iteration": 53,
                        "remaining_time": 105.5779437,
                        "learn": [
                          0.2653875609
                        ]
                      },
                      {
                        "passed_time": 6.133949959,
                        "iteration": 54,
                        "remaining_time": 105.3924129,
                        "learn": [
                          0.2653399863
                        ]
                      },
                      {
                        "passed_time": 6.241774544,
                        "iteration": 55,
                        "remaining_time": 105.2184852,
                        "learn": [
                          0.2653091661
                        ]
                      },
                      {
                        "passed_time": 6.344974241,
                        "iteration": 56,
                        "remaining_time": 104.9703633,
                        "learn": [
                          0.2652623517
                        ]
                      },
                      {
                        "passed_time": 6.448012143,
                        "iteration": 57,
                        "remaining_time": 104.724611,
                        "learn": [
                          0.2651979387
                        ]
                      },
                      {
                        "passed_time": 6.557099503,
                        "iteration": 58,
                        "remaining_time": 104.5801802,
                        "learn": [
                          0.2651540183
                        ]
                      },
                      {
                        "passed_time": 6.661769374,
                        "iteration": 59,
                        "remaining_time": 104.3677202,
                        "learn": [
                          0.2651280323
                        ]
                      },
                      {
                        "passed_time": 6.766179155,
                        "iteration": 60,
                        "remaining_time": 104.1547906,
                        "learn": [
                          0.2650999935
                        ]
                      },
                      {
                        "passed_time": 6.882332747,
                        "iteration": 61,
                        "remaining_time": 104.1230341,
                        "learn": [
                          0.2650632749
                        ]
                      },
                      {
                        "passed_time": 7.002497171,
                        "iteration": 62,
                        "remaining_time": 104.1482516,
                        "learn": [
                          0.2650382027
                        ]
                      },
                      {
                        "passed_time": 7.108566797,
                        "iteration": 63,
                        "remaining_time": 103.9627894,
                        "learn": [
                          0.2650106522
                        ]
                      },
                      {
                        "passed_time": 7.213217855,
                        "iteration": 64,
                        "remaining_time": 103.7593645,
                        "learn": [
                          0.2649760357
                        ]
                      },
                      {
                        "passed_time": 7.322662084,
                        "iteration": 65,
                        "remaining_time": 103.6267634,
                        "learn": [
                          0.2649513094
                        ]
                      },
                      {
                        "passed_time": 7.428451392,
                        "iteration": 66,
                        "remaining_time": 103.4439574,
                        "learn": [
                          0.2649276376
                        ]
                      },
                      {
                        "passed_time": 7.533979333,
                        "iteration": 67,
                        "remaining_time": 103.2598344,
                        "learn": [
                          0.2648936352
                        ]
                      },
                      {
                        "passed_time": 7.641134022,
                        "iteration": 68,
                        "remaining_time": 103.0999388,
                        "learn": [
                          0.2648604957
                        ]
                      },
                      {
                        "passed_time": 7.740444623,
                        "iteration": 69,
                        "remaining_time": 102.8373357,
                        "learn": [
                          0.2648325124
                        ]
                      },
                      {
                        "passed_time": 7.844520931,
                        "iteration": 70,
                        "remaining_time": 102.6416894,
                        "learn": [
                          0.2648166286
                        ]
                      },
                      {
                        "passed_time": 7.966769817,
                        "iteration": 71,
                        "remaining_time": 102.682811,
                        "learn": [
                          0.2647933926
                        ]
                      },
                      {
                        "passed_time": 8.075849877,
                        "iteration": 72,
                        "remaining_time": 102.5522306,
                        "learn": [
                          0.2647341022
                        ]
                      },
                      {
                        "passed_time": 8.1835156,
                        "iteration": 73,
                        "remaining_time": 102.404533,
                        "learn": [
                          0.2647015097
                        ]
                      },
                      {
                        "passed_time": 8.286340463,
                        "iteration": 74,
                        "remaining_time": 102.198199,
                        "learn": [
                          0.2646736491
                        ]
                      },
                      {
                        "passed_time": 8.38732774,
                        "iteration": 75,
                        "remaining_time": 101.9722478,
                        "learn": [
                          0.264655948
                        ]
                      },
                      {
                        "passed_time": 8.49208564,
                        "iteration": 76,
                        "remaining_time": 101.7947408,
                        "learn": [
                          0.2646317927
                        ]
                      },
                      {
                        "passed_time": 8.605401858,
                        "iteration": 77,
                        "remaining_time": 101.720263,
                        "learn": [
                          0.2646142953
                        ]
                      },
                      {
                        "passed_time": 8.711456771,
                        "iteration": 78,
                        "remaining_time": 101.5601479,
                        "learn": [
                          0.2645720056
                        ]
                      },
                      {
                        "passed_time": 8.817989609,
                        "iteration": 79,
                        "remaining_time": 101.4068805,
                        "learn": [
                          0.2645344899
                        ]
                      },
                      {
                        "passed_time": 8.943374193,
                        "iteration": 80,
                        "remaining_time": 101.4686529,
                        "learn": [
                          0.2645057594
                        ]
                      },
                      {
                        "passed_time": 9.046408224,
                        "iteration": 81,
                        "remaining_time": 101.2756433,
                        "learn": [
                          0.2644870067
                        ]
                      },
                      {
                        "passed_time": 9.152174697,
                        "iteration": 82,
                        "remaining_time": 101.1149903,
                        "learn": [
                          0.2644685212
                        ]
                      },
                      {
                        "passed_time": 9.256973604,
                        "iteration": 83,
                        "remaining_time": 100.9450931,
                        "learn": [
                          0.2644381298
                        ]
                      },
                      {
                        "passed_time": 9.354631638,
                        "iteration": 84,
                        "remaining_time": 100.6998582,
                        "learn": [
                          0.2644137297
                        ]
                      },
                      {
                        "passed_time": 9.45702877,
                        "iteration": 85,
                        "remaining_time": 100.508422,
                        "learn": [
                          0.2643957661
                        ]
                      },
                      {
                        "passed_time": 9.566206319,
                        "iteration": 86,
                        "remaining_time": 100.3901881,
                        "learn": [
                          0.2643770354
                        ]
                      },
                      {
                        "passed_time": 9.674694126,
                        "iteration": 87,
                        "remaining_time": 100.2650119,
                        "learn": [
                          0.2643462905
                        ]
                      },
                      {
                        "passed_time": 9.78282466,
                        "iteration": 88,
                        "remaining_time": 100.1365535,
                        "learn": [
                          0.264324989
                        ]
                      },
                      {
                        "passed_time": 9.892269618,
                        "iteration": 89,
                        "remaining_time": 100.0218373,
                        "learn": [
                          0.2642897991
                        ]
                      },
                      {
                        "passed_time": 10.01781468,
                        "iteration": 90,
                        "remaining_time": 100.0680609,
                        "learn": [
                          0.2642677648
                        ]
                      },
                      {
                        "passed_time": 10.12196045,
                        "iteration": 91,
                        "remaining_time": 99.8993488,
                        "learn": [
                          0.2642484276
                        ]
                      },
                      {
                        "passed_time": 10.2298961,
                        "iteration": 92,
                        "remaining_time": 99.76898671,
                        "learn": [
                          0.2642335568
                        ]
                      },
                      {
                        "passed_time": 10.33560861,
                        "iteration": 93,
                        "remaining_time": 99.61767443,
                        "learn": [
                          0.2642202951
                        ]
                      },
                      {
                        "passed_time": 10.43862953,
                        "iteration": 94,
                        "remaining_time": 99.44168127,
                        "learn": [
                          0.2641985676
                        ]
                      },
                      {
                        "passed_time": 10.54231358,
                        "iteration": 95,
                        "remaining_time": 99.27345284,
                        "learn": [
                          0.264182349
                        ]
                      },
                      {
                        "passed_time": 10.64656265,
                        "iteration": 96,
                        "remaining_time": 99.11181518,
                        "learn": [
                          0.2641612568
                        ]
                      },
                      {
                        "passed_time": 10.754298,
                        "iteration": 97,
                        "remaining_time": 98.98343665,
                        "learn": [
                          0.26413785
                        ]
                      },
                      {
                        "passed_time": 10.86621075,
                        "iteration": 98,
                        "remaining_time": 98.89349377,
                        "learn": [
                          0.2641168281
                        ]
                      },
                      {
                        "passed_time": 10.97898423,
                        "iteration": 99,
                        "remaining_time": 98.81085806,
                        "learn": [
                          0.2640756382
                        ]
                      },
                      {
                        "passed_time": 11.08654756,
                        "iteration": 100,
                        "remaining_time": 98.68125011,
                        "learn": [
                          0.2640546345
                        ]
                      },
                      {
                        "passed_time": 11.19076715,
                        "iteration": 101,
                        "remaining_time": 98.52263626,
                        "learn": [
                          0.2640441632
                        ]
                      },
                      {
                        "passed_time": 11.30344115,
                        "iteration": 102,
                        "remaining_time": 98.43870591,
                        "learn": [
                          0.264014537
                        ]
                      },
                      {
                        "passed_time": 11.40522087,
                        "iteration": 103,
                        "remaining_time": 98.26036444,
                        "learn": [
                          0.2639944813
                        ]
                      },
                      {
                        "passed_time": 11.50740236,
                        "iteration": 104,
                        "remaining_time": 98.08690581,
                        "learn": [
                          0.263965008
                        ]
                      },
                      {
                        "passed_time": 11.61875468,
                        "iteration": 105,
                        "remaining_time": 97.99213853,
                        "learn": [
                          0.2639514078
                        ]
                      },
                      {
                        "passed_time": 11.71903556,
                        "iteration": 106,
                        "remaining_time": 97.80466127,
                        "learn": [
                          0.2639340623
                        ]
                      },
                      {
                        "passed_time": 11.82450414,
                        "iteration": 107,
                        "remaining_time": 97.66164527,
                        "learn": [
                          0.2639009259
                        ]
                      },
                      {
                        "passed_time": 11.92763709,
                        "iteration": 108,
                        "remaining_time": 97.50022614,
                        "learn": [
                          0.2638751853
                        ]
                      },
                      {
                        "passed_time": 12.05401074,
                        "iteration": 109,
                        "remaining_time": 97.52790505,
                        "learn": [
                          0.2638473203
                        ]
                      },
                      {
                        "passed_time": 12.15984126,
                        "iteration": 110,
                        "remaining_time": 97.3882782,
                        "learn": [
                          0.2638280195
                        ]
                      },
                      {
                        "passed_time": 12.26850698,
                        "iteration": 111,
                        "remaining_time": 97.27173395,
                        "learn": [
                          0.2637988289
                        ]
                      },
                      {
                        "passed_time": 12.37294746,
                        "iteration": 112,
                        "remaining_time": 97.12216279,
                        "learn": [
                          0.2637796862
                        ]
                      },
                      {
                        "passed_time": 12.47930313,
                        "iteration": 113,
                        "remaining_time": 96.98826819,
                        "learn": [
                          0.2637500556
                        ]
                      },
                      {
                        "passed_time": 12.58785654,
                        "iteration": 114,
                        "remaining_time": 96.87176557,
                        "learn": [
                          0.2637315843
                        ]
                      },
                      {
                        "passed_time": 12.69507161,
                        "iteration": 115,
                        "remaining_time": 96.74520085,
                        "learn": [
                          0.2637160578
                        ]
                      },
                      {
                        "passed_time": 12.80526687,
                        "iteration": 116,
                        "remaining_time": 96.64145849,
                        "learn": [
                          0.2636972863
                        ]
                      },
                      {
                        "passed_time": 12.92223909,
                        "iteration": 117,
                        "remaining_time": 96.58826166,
                        "learn": [
                          0.2636620642
                        ]
                      },
                      {
                        "passed_time": 13.05512322,
                        "iteration": 118,
                        "remaining_time": 96.65179457,
                        "learn": [
                          0.2636460908
                        ]
                      },
                      {
                        "passed_time": 13.16735174,
                        "iteration": 119,
                        "remaining_time": 96.56057939,
                        "learn": [
                          0.2636291121
                        ]
                      },
                      {
                        "passed_time": 13.28246538,
                        "iteration": 120,
                        "remaining_time": 96.48997575,
                        "learn": [
                          0.2636055017
                        ]
                      },
                      {
                        "passed_time": 13.40054037,
                        "iteration": 121,
                        "remaining_time": 96.43995449,
                        "learn": [
                          0.2635818595
                        ]
                      },
                      {
                        "passed_time": 13.50765754,
                        "iteration": 122,
                        "remaining_time": 96.31069641,
                        "learn": [
                          0.2635549946
                        ]
                      },
                      {
                        "passed_time": 13.61932185,
                        "iteration": 123,
                        "remaining_time": 96.21391887,
                        "learn": [
                          0.2635331299
                        ]
                      },
                      {
                        "passed_time": 13.72954813,
                        "iteration": 124,
                        "remaining_time": 96.1068369,
                        "learn": [
                          0.2635158839
                        ]
                      },
                      {
                        "passed_time": 13.84400845,
                        "iteration": 125,
                        "remaining_time": 96.0290745,
                        "learn": [
                          0.2634854918
                        ]
                      },
                      {
                        "passed_time": 13.95368025,
                        "iteration": 126,
                        "remaining_time": 95.9178178,
                        "learn": [
                          0.2634711697
                        ]
                      },
                      {
                        "passed_time": 14.08296934,
                        "iteration": 127,
                        "remaining_time": 95.94022862,
                        "learn": [
                          0.2634526593
                        ]
                      },
                      {
                        "passed_time": 14.18496961,
                        "iteration": 128,
                        "remaining_time": 95.77603509,
                        "learn": [
                          0.2634410576
                        ]
                      },
                      {
                        "passed_time": 14.29409962,
                        "iteration": 129,
                        "remaining_time": 95.66051287,
                        "learn": [
                          0.2634257722
                        ]
                      },
                      {
                        "passed_time": 14.40660107,
                        "iteration": 130,
                        "remaining_time": 95.56745289,
                        "learn": [
                          0.2633945382
                        ]
                      },
                      {
                        "passed_time": 14.51469917,
                        "iteration": 131,
                        "remaining_time": 95.44514303,
                        "learn": [
                          0.2633825746
                        ]
                      },
                      {
                        "passed_time": 14.63453497,
                        "iteration": 132,
                        "remaining_time": 95.39956256,
                        "learn": [
                          0.2633578893
                        ]
                      },
                      {
                        "passed_time": 14.75261645,
                        "iteration": 133,
                        "remaining_time": 95.34153615,
                        "learn": [
                          0.2633332676
                        ]
                      },
                      {
                        "passed_time": 14.86224358,
                        "iteration": 134,
                        "remaining_time": 95.22844958,
                        "learn": [
                          0.2633126417
                        ]
                      },
                      {
                        "passed_time": 14.97054504,
                        "iteration": 135,
                        "remaining_time": 95.10699204,
                        "learn": [
                          0.2632906537
                        ]
                      },
                      {
                        "passed_time": 15.09806735,
                        "iteration": 136,
                        "remaining_time": 95.10680381,
                        "learn": [
                          0.2632695226
                        ]
                      },
                      {
                        "passed_time": 15.2017411,
                        "iteration": 137,
                        "remaining_time": 94.9558031,
                        "learn": [
                          0.2632396581
                        ]
                      },
                      {
                        "passed_time": 15.31048833,
                        "iteration": 138,
                        "remaining_time": 94.83690976,
                        "learn": [
                          0.2632197958
                        ]
                      },
                      {
                        "passed_time": 15.4153463,
                        "iteration": 139,
                        "remaining_time": 94.69427012,
                        "learn": [
                          0.263204142
                        ]
                      },
                      {
                        "passed_time": 15.52751014,
                        "iteration": 140,
                        "remaining_time": 94.59667525,
                        "learn": [
                          0.2631750746
                        ]
                      },
                      {
                        "passed_time": 15.63245838,
                        "iteration": 141,
                        "remaining_time": 94.45527668,
                        "learn": [
                          0.2631557905
                        ]
                      },
                      {
                        "passed_time": 15.73994005,
                        "iteration": 142,
                        "remaining_time": 94.32957077,
                        "learn": [
                          0.2631313221
                        ]
                      },
                      {
                        "passed_time": 15.84689167,
                        "iteration": 143,
                        "remaining_time": 94.20096717,
                        "learn": [
                          0.2631126481
                        ]
                      },
                      {
                        "passed_time": 15.96047156,
                        "iteration": 144,
                        "remaining_time": 94.11174611,
                        "learn": [
                          0.2630897054
                        ]
                      },
                      {
                        "passed_time": 16.09348894,
                        "iteration": 145,
                        "remaining_time": 94.13588737,
                        "learn": [
                          0.2630694032
                        ]
                      },
                      {
                        "passed_time": 16.2003727,
                        "iteration": 146,
                        "remaining_time": 94.00624431,
                        "learn": [
                          0.2630464404
                        ]
                      },
                      {
                        "passed_time": 16.30175006,
                        "iteration": 147,
                        "remaining_time": 93.84520978,
                        "learn": [
                          0.263020839
                        ]
                      },
                      {
                        "passed_time": 16.41377297,
                        "iteration": 148,
                        "remaining_time": 93.74577716,
                        "learn": [
                          0.2629993004
                        ]
                      },
                      {
                        "passed_time": 16.52297351,
                        "iteration": 149,
                        "remaining_time": 93.63018322,
                        "learn": [
                          0.26298617
                        ]
                      },
                      {
                        "passed_time": 16.62720224,
                        "iteration": 150,
                        "remaining_time": 93.48671986,
                        "learn": [
                          0.2629739333
                        ]
                      },
                      {
                        "passed_time": 16.73712983,
                        "iteration": 151,
                        "remaining_time": 93.37556643,
                        "learn": [
                          0.2629556888
                        ]
                      },
                      {
                        "passed_time": 16.8488216,
                        "iteration": 152,
                        "remaining_time": 93.2741954,
                        "learn": [
                          0.2629410957
                        ]
                      },
                      {
                        "passed_time": 16.95279562,
                        "iteration": 153,
                        "remaining_time": 93.13029283,
                        "learn": [
                          0.2629348704
                        ]
                      },
                      {
                        "passed_time": 17.08296412,
                        "iteration": 154,
                        "remaining_time": 93.12970762,
                        "learn": [
                          0.2629149536
                        ]
                      },
                      {
                        "passed_time": 17.18888932,
                        "iteration": 155,
                        "remaining_time": 92.99629865,
                        "learn": [
                          0.2628991225
                        ]
                      },
                      {
                        "passed_time": 17.29751892,
                        "iteration": 156,
                        "remaining_time": 92.87776081,
                        "learn": [
                          0.2628798707
                        ]
                      },
                      {
                        "passed_time": 17.40479065,
                        "iteration": 157,
                        "remaining_time": 92.75211221,
                        "learn": [
                          0.2628612788
                        ]
                      },
                      {
                        "passed_time": 17.51179673,
                        "iteration": 158,
                        "remaining_time": 92.62528962,
                        "learn": [
                          0.2628503703
                        ]
                      },
                      {
                        "passed_time": 17.61949984,
                        "iteration": 159,
                        "remaining_time": 92.50237417,
                        "learn": [
                          0.2628261731
                        ]
                      },
                      {
                        "passed_time": 17.72601836,
                        "iteration": 160,
                        "remaining_time": 92.37347457,
                        "learn": [
                          0.2628040114
                        ]
                      },
                      {
                        "passed_time": 17.83402797,
                        "iteration": 161,
                        "remaining_time": 92.25256444,
                        "learn": [
                          0.2627914413
                        ]
                      },
                      {
                        "passed_time": 17.94484928,
                        "iteration": 162,
                        "remaining_time": 92.14625062,
                        "learn": [
                          0.2627734768
                        ]
                      },
                      {
                        "passed_time": 18.04989676,
                        "iteration": 163,
                        "remaining_time": 92.01044933,
                        "learn": [
                          0.2627581873
                        ]
                      },
                      {
                        "passed_time": 18.18206529,
                        "iteration": 164,
                        "remaining_time": 92.01226981,
                        "learn": [
                          0.2627430714
                        ]
                      },
                      {
                        "passed_time": 18.2885925,
                        "iteration": 165,
                        "remaining_time": 91.8836515,
                        "learn": [
                          0.262724282
                        ]
                      },
                      {
                        "passed_time": 18.39137261,
                        "iteration": 166,
                        "remaining_time": 91.73660707,
                        "learn": [
                          0.2627138712
                        ]
                      },
                      {
                        "passed_time": 18.5016179,
                        "iteration": 167,
                        "remaining_time": 91.6270601,
                        "learn": [
                          0.2626944339
                        ]
                      },
                      {
                        "passed_time": 18.6052717,
                        "iteration": 168,
                        "remaining_time": 91.48509338,
                        "learn": [
                          0.2626807977
                        ]
                      },
                      {
                        "passed_time": 18.70882337,
                        "iteration": 169,
                        "remaining_time": 91.3430788,
                        "learn": [
                          0.262667917
                        ]
                      },
                      {
                        "passed_time": 18.8030642,
                        "iteration": 170,
                        "remaining_time": 91.15637556,
                        "learn": [
                          0.2626478493
                        ]
                      },
                      {
                        "passed_time": 18.91239544,
                        "iteration": 171,
                        "remaining_time": 91.04339202,
                        "learn": [
                          0.2626293618
                        ]
                      },
                      {
                        "passed_time": 19.0219272,
                        "iteration": 172,
                        "remaining_time": 90.93140921,
                        "learn": [
                          0.2626092371
                        ]
                      },
                      {
                        "passed_time": 19.1510188,
                        "iteration": 173,
                        "remaining_time": 90.91230766,
                        "learn": [
                          0.2625898707
                        ]
                      },
                      {
                        "passed_time": 19.25809809,
                        "iteration": 174,
                        "remaining_time": 90.78817673,
                        "learn": [
                          0.2625751652
                        ]
                      },
                      {
                        "passed_time": 19.36102066,
                        "iteration": 175,
                        "remaining_time": 90.64477853,
                        "learn": [
                          0.2625598118
                        ]
                      },
                      {
                        "passed_time": 19.47220813,
                        "iteration": 176,
                        "remaining_time": 90.54026719,
                        "learn": [
                          0.2625442547
                        ]
                      },
                      {
                        "passed_time": 19.58020115,
                        "iteration": 177,
                        "remaining_time": 90.4209289,
                        "learn": [
                          0.2625252126
                        ]
                      },
                      {
                        "passed_time": 19.68646601,
                        "iteration": 178,
                        "remaining_time": 90.29379104,
                        "learn": [
                          0.2625095498
                        ]
                      },
                      {
                        "passed_time": 19.79062354,
                        "iteration": 179,
                        "remaining_time": 90.15728503,
                        "learn": [
                          0.262486153
                        ]
                      },
                      {
                        "passed_time": 19.89210501,
                        "iteration": 180,
                        "remaining_time": 90.00902763,
                        "learn": [
                          0.2624718681
                        ]
                      },
                      {
                        "passed_time": 20.00503892,
                        "iteration": 181,
                        "remaining_time": 89.91275733,
                        "learn": [
                          0.2624515018
                        ]
                      },
                      {
                        "passed_time": 20.13848472,
                        "iteration": 182,
                        "remaining_time": 89.90787989,
                        "learn": [
                          0.2624285647
                        ]
                      },
                      {
                        "passed_time": 20.24867179,
                        "iteration": 183,
                        "remaining_time": 89.79845748,
                        "learn": [
                          0.2624131871
                        ]
                      },
                      {
                        "passed_time": 20.36009115,
                        "iteration": 184,
                        "remaining_time": 89.69445562,
                        "learn": [
                          0.2623955572
                        ]
                      },
                      {
                        "passed_time": 20.47873432,
                        "iteration": 185,
                        "remaining_time": 89.62198785,
                        "learn": [
                          0.2623825963
                        ]
                      },
                      {
                        "passed_time": 20.59182558,
                        "iteration": 186,
                        "remaining_time": 89.52488876,
                        "learn": [
                          0.2623747179
                        ]
                      },
                      {
                        "passed_time": 20.70108381,
                        "iteration": 187,
                        "remaining_time": 89.41106412,
                        "learn": [
                          0.262360124
                        ]
                      },
                      {
                        "passed_time": 20.81147463,
                        "iteration": 188,
                        "remaining_time": 89.30214776,
                        "learn": [
                          0.2623448828
                        ]
                      },
                      {
                        "passed_time": 20.92063652,
                        "iteration": 189,
                        "remaining_time": 89.18797674,
                        "learn": [
                          0.2623311409
                        ]
                      },
                      {
                        "passed_time": 21.02882192,
                        "iteration": 190,
                        "remaining_time": 89.06972217,
                        "learn": [
                          0.262316217
                        ]
                      },
                      {
                        "passed_time": 21.1638505,
                        "iteration": 191,
                        "remaining_time": 89.0645375,
                        "learn": [
                          0.2623054853
                        ]
                      },
                      {
                        "passed_time": 21.2756625,
                        "iteration": 192,
                        "remaining_time": 88.96093075,
                        "learn": [
                          0.2622853952
                        ]
                      },
                      {
                        "passed_time": 21.38528119,
                        "iteration": 193,
                        "remaining_time": 88.84812702,
                        "learn": [
                          0.2622694488
                        ]
                      },
                      {
                        "passed_time": 21.50223981,
                        "iteration": 194,
                        "remaining_time": 88.76565667,
                        "learn": [
                          0.2622567584
                        ]
                      },
                      {
                        "passed_time": 21.61160207,
                        "iteration": 195,
                        "remaining_time": 88.65167378,
                        "learn": [
                          0.2622382824
                        ]
                      },
                      {
                        "passed_time": 21.71871281,
                        "iteration": 196,
                        "remaining_time": 88.52856033,
                        "learn": [
                          0.2622232969
                        ]
                      },
                      {
                        "passed_time": 21.83009027,
                        "iteration": 197,
                        "remaining_time": 88.42289091,
                        "learn": [
                          0.262207334
                        ]
                      },
                      {
                        "passed_time": 21.93842379,
                        "iteration": 198,
                        "remaining_time": 88.30491186,
                        "learn": [
                          0.2621921345
                        ]
                      },
                      {
                        "passed_time": 22.04563193,
                        "iteration": 199,
                        "remaining_time": 88.18252774,
                        "learn": [
                          0.2621794638
                        ]
                      },
                      {
                        "passed_time": 22.17687127,
                        "iteration": 200,
                        "remaining_time": 88.15582162,
                        "learn": [
                          0.262165588
                        ]
                      },
                      {
                        "passed_time": 22.28237392,
                        "iteration": 201,
                        "remaining_time": 88.02640785,
                        "learn": [
                          0.2621540521
                        ]
                      },
                      {
                        "passed_time": 22.39650319,
                        "iteration": 202,
                        "remaining_time": 87.93109874,
                        "learn": [
                          0.2621412656
                        ]
                      },
                      {
                        "passed_time": 22.51345077,
                        "iteration": 203,
                        "remaining_time": 87.84660202,
                        "learn": [
                          0.2621290335
                        ]
                      },
                      {
                        "passed_time": 22.61680523,
                        "iteration": 204,
                        "remaining_time": 87.70907393,
                        "learn": [
                          0.262118862
                        ]
                      },
                      {
                        "passed_time": 22.72118522,
                        "iteration": 205,
                        "remaining_time": 87.5758304,
                        "learn": [
                          0.2621044041
                        ]
                      },
                      {
                        "passed_time": 22.83629693,
                        "iteration": 206,
                        "remaining_time": 87.48397808,
                        "learn": [
                          0.2620876324
                        ]
                      },
                      {
                        "passed_time": 22.94432292,
                        "iteration": 207,
                        "remaining_time": 87.36492188,
                        "learn": [
                          0.2620707198
                        ]
                      },
                      {
                        "passed_time": 23.05248694,
                        "iteration": 208,
                        "remaining_time": 87.24649365,
                        "learn": [
                          0.262056589
                        ]
                      },
                      {
                        "passed_time": 23.18459255,
                        "iteration": 209,
                        "remaining_time": 87.2182291,
                        "learn": [
                          0.2620422334
                        ]
                      },
                      {
                        "passed_time": 23.28993517,
                        "iteration": 210,
                        "remaining_time": 87.08890451,
                        "learn": [
                          0.262028526
                        ]
                      },
                      {
                        "passed_time": 23.39374942,
                        "iteration": 211,
                        "remaining_time": 86.95412519,
                        "learn": [
                          0.2620193376
                        ]
                      },
                      {
                        "passed_time": 23.50829449,
                        "iteration": 212,
                        "remaining_time": 86.85928527,
                        "learn": [
                          0.2620049134
                        ]
                      },
                      {
                        "passed_time": 23.61581775,
                        "iteration": 213,
                        "remaining_time": 86.73847082,
                        "learn": [
                          0.2619926191
                        ]
                      },
                      {
                        "passed_time": 23.72362589,
                        "iteration": 214,
                        "remaining_time": 86.61882011,
                        "learn": [
                          0.2619716412
                        ]
                      },
                      {
                        "passed_time": 23.83029126,
                        "iteration": 215,
                        "remaining_time": 86.49513124,
                        "learn": [
                          0.2619577476
                        ]
                      },
                      {
                        "passed_time": 23.93676337,
                        "iteration": 216,
                        "remaining_time": 86.37090192,
                        "learn": [
                          0.2619403068
                        ]
                      },
                      {
                        "passed_time": 24.04398262,
                        "iteration": 217,
                        "remaining_time": 86.24951565,
                        "learn": [
                          0.2619193705
                        ]
                      },
                      {
                        "passed_time": 24.15586479,
                        "iteration": 218,
                        "remaining_time": 86.14488766,
                        "learn": [
                          0.2619047613
                        ]
                      },
                      {
                        "passed_time": 24.27837343,
                        "iteration": 219,
                        "remaining_time": 86.07786943,
                        "learn": [
                          0.2618985098
                        ]
                      },
                      {
                        "passed_time": 24.38611798,
                        "iteration": 220,
                        "remaining_time": 85.95830726,
                        "learn": [
                          0.2618713887
                        ]
                      },
                      {
                        "passed_time": 24.49104799,
                        "iteration": 221,
                        "remaining_time": 85.828988,
                        "learn": [
                          0.2618594395
                        ]
                      },
                      {
                        "passed_time": 24.60000219,
                        "iteration": 222,
                        "remaining_time": 85.71390896,
                        "learn": [
                          0.2618464955
                        ]
                      },
                      {
                        "passed_time": 24.70763883,
                        "iteration": 223,
                        "remaining_time": 85.59432022,
                        "learn": [
                          0.2618383967
                        ]
                      },
                      {
                        "passed_time": 24.81567924,
                        "iteration": 224,
                        "remaining_time": 85.47622851,
                        "learn": [
                          0.2618231549
                        ]
                      },
                      {
                        "passed_time": 24.94293767,
                        "iteration": 225,
                        "remaining_time": 85.42404316,
                        "learn": [
                          0.2618057874
                        ]
                      },
                      {
                        "passed_time": 25.05148881,
                        "iteration": 226,
                        "remaining_time": 85.30749273,
                        "learn": [
                          0.2617841962
                        ]
                      },
                      {
                        "passed_time": 25.15740496,
                        "iteration": 227,
                        "remaining_time": 85.18209047,
                        "learn": [
                          0.2617722111
                        ]
                      },
                      {
                        "passed_time": 25.28918285,
                        "iteration": 228,
                        "remaining_time": 85.14393004,
                        "learn": [
                          0.2617534804
                        ]
                      },
                      {
                        "passed_time": 25.39531125,
                        "iteration": 229,
                        "remaining_time": 85.01908549,
                        "learn": [
                          0.2617420841
                        ]
                      },
                      {
                        "passed_time": 25.50798929,
                        "iteration": 230,
                        "remaining_time": 84.91620676,
                        "learn": [
                          0.261719178
                        ]
                      },
                      {
                        "passed_time": 25.61781049,
                        "iteration": 231,
                        "remaining_time": 84.80378645,
                        "learn": [
                          0.2617073027
                        ]
                      },
                      {
                        "passed_time": 25.72532726,
                        "iteration": 232,
                        "remaining_time": 84.68380262,
                        "learn": [
                          0.2616974808
                        ]
                      },
                      {
                        "passed_time": 25.84962219,
                        "iteration": 233,
                        "remaining_time": 84.6188487,
                        "learn": [
                          0.2616816447
                        ]
                      },
                      {
                        "passed_time": 25.95671863,
                        "iteration": 234,
                        "remaining_time": 84.4974032,
                        "learn": [
                          0.2616695109
                        ]
                      },
                      {
                        "passed_time": 26.06540135,
                        "iteration": 235,
                        "remaining_time": 84.38121455,
                        "learn": [
                          0.2616508162
                        ]
                      },
                      {
                        "passed_time": 26.17272832,
                        "iteration": 236,
                        "remaining_time": 84.26072451,
                        "learn": [
                          0.2616372141
                        ]
                      },
                      {
                        "passed_time": 26.31115264,
                        "iteration": 237,
                        "remaining_time": 84.23990886,
                        "learn": [
                          0.26162401
                        ]
                      },
                      {
                        "passed_time": 26.41950337,
                        "iteration": 238,
                        "remaining_time": 84.12235175,
                        "learn": [
                          0.2616109258
                        ]
                      },
                      {
                        "passed_time": 26.52980524,
                        "iteration": 239,
                        "remaining_time": 84.01104992,
                        "learn": [
                          0.2615986963
                        ]
                      },
                      {
                        "passed_time": 26.64114564,
                        "iteration": 240,
                        "remaining_time": 83.90302715,
                        "learn": [
                          0.2615884989
                        ]
                      },
                      {
                        "passed_time": 26.74542616,
                        "iteration": 241,
                        "remaining_time": 83.77286377,
                        "learn": [
                          0.2615798777
                        ]
                      },
                      {
                        "passed_time": 26.85439307,
                        "iteration": 242,
                        "remaining_time": 83.65751256,
                        "learn": [
                          0.261559314
                        ]
                      },
                      {
                        "passed_time": 26.96062452,
                        "iteration": 243,
                        "remaining_time": 83.53373826,
                        "learn": [
                          0.2615496706
                        ]
                      },
                      {
                        "passed_time": 27.06431921,
                        "iteration": 244,
                        "remaining_time": 83.4022898,
                        "learn": [
                          0.2615438904
                        ]
                      },
                      {
                        "passed_time": 27.16526279,
                        "iteration": 245,
                        "remaining_time": 83.26263473,
                        "learn": [
                          0.2615293372
                        ]
                      },
                      {
                        "passed_time": 27.29983049,
                        "iteration": 246,
                        "remaining_time": 83.22579902,
                        "learn": [
                          0.2615084987
                        ]
                      },
                      {
                        "passed_time": 27.40807157,
                        "iteration": 247,
                        "remaining_time": 83.10834604,
                        "learn": [
                          0.2614873786
                        ]
                      },
                      {
                        "passed_time": 27.5190446,
                        "iteration": 248,
                        "remaining_time": 82.99920682,
                        "learn": [
                          0.2614740771
                        ]
                      },
                      {
                        "passed_time": 27.62974004,
                        "iteration": 249,
                        "remaining_time": 82.88922012,
                        "learn": [
                          0.2614578727
                        ]
                      },
                      {
                        "passed_time": 27.73776979,
                        "iteration": 250,
                        "remaining_time": 82.77127321,
                        "learn": [
                          0.261439649
                        ]
                      },
                      {
                        "passed_time": 27.84370762,
                        "iteration": 251,
                        "remaining_time": 82.64719564,
                        "learn": [
                          0.2614268725
                        ]
                      },
                      {
                        "passed_time": 27.94573598,
                        "iteration": 252,
                        "remaining_time": 82.51171848,
                        "learn": [
                          0.2614065767
                        ]
                      },
                      {
                        "passed_time": 28.05026993,
                        "iteration": 253,
                        "remaining_time": 82.38386366,
                        "learn": [
                          0.2613960005
                        ]
                      },
                      {
                        "passed_time": 28.15285008,
                        "iteration": 254,
                        "remaining_time": 82.25048356,
                        "learn": [
                          0.2613764761
                        ]
                      },
                      {
                        "passed_time": 28.26153301,
                        "iteration": 255,
                        "remaining_time": 82.13508031,
                        "learn": [
                          0.261364959
                        ]
                      },
                      {
                        "passed_time": 28.38359994,
                        "iteration": 256,
                        "remaining_time": 82.05842317,
                        "learn": [
                          0.2613507941
                        ]
                      },
                      {
                        "passed_time": 28.48940071,
                        "iteration": 257,
                        "remaining_time": 81.93463305,
                        "learn": [
                          0.2613333711
                        ]
                      },
                      {
                        "passed_time": 28.59614159,
                        "iteration": 258,
                        "remaining_time": 81.81367149,
                        "learn": [
                          0.2613225948
                        ]
                      },
                      {
                        "passed_time": 28.70458809,
                        "iteration": 259,
                        "remaining_time": 81.69767378,
                        "learn": [
                          0.2613154669
                        ]
                      },
                      {
                        "passed_time": 28.81043609,
                        "iteration": 260,
                        "remaining_time": 81.57437652,
                        "learn": [
                          0.2613055009
                        ]
                      },
                      {
                        "passed_time": 28.92181602,
                        "iteration": 261,
                        "remaining_time": 81.46679475,
                        "learn": [
                          0.2612929774
                        ]
                      },
                      {
                        "passed_time": 29.03021906,
                        "iteration": 262,
                        "remaining_time": 81.350842,
                        "learn": [
                          0.2612790525
                        ]
                      },
                      {
                        "passed_time": 29.1353148,
                        "iteration": 263,
                        "remaining_time": 81.22572611,
                        "learn": [
                          0.2612614197
                        ]
                      },
                      {
                        "passed_time": 29.24758799,
                        "iteration": 264,
                        "remaining_time": 81.12066859,
                        "learn": [
                          0.2612500459
                        ]
                      },
                      {
                        "passed_time": 29.37360223,
                        "iteration": 265,
                        "remaining_time": 81.05347384,
                        "learn": [
                          0.2612410712
                        ]
                      },
                      {
                        "passed_time": 29.47443749,
                        "iteration": 266,
                        "remaining_time": 80.91671416,
                        "learn": [
                          0.2612313926
                        ]
                      },
                      {
                        "passed_time": 29.58130029,
                        "iteration": 267,
                        "remaining_time": 80.79668586,
                        "learn": [
                          0.2612138029
                        ]
                      },
                      {
                        "passed_time": 29.69366463,
                        "iteration": 268,
                        "remaining_time": 80.69170573,
                        "learn": [
                          0.2612009077
                        ]
                      },
                      {
                        "passed_time": 29.83377241,
                        "iteration": 269,
                        "remaining_time": 80.66168096,
                        "learn": [
                          0.2611896706
                        ]
                      },
                      {
                        "passed_time": 29.94213614,
                        "iteration": 270,
                        "remaining_time": 80.5454511,
                        "learn": [
                          0.2611821933
                        ]
                      },
                      {
                        "passed_time": 30.04538752,
                        "iteration": 271,
                        "remaining_time": 80.41559601,
                        "learn": [
                          0.2611743399
                        ]
                      },
                      {
                        "passed_time": 30.1508606,
                        "iteration": 272,
                        "remaining_time": 80.29185221,
                        "learn": [
                          0.2611602335
                        ]
                      },
                      {
                        "passed_time": 30.26556336,
                        "iteration": 273,
                        "remaining_time": 80.19269707,
                        "learn": [
                          0.2611502961
                        ]
                      },
                      {
                        "passed_time": 30.41214816,
                        "iteration": 274,
                        "remaining_time": 80.1774815,
                        "learn": [
                          0.2611374916
                        ]
                      },
                      {
                        "passed_time": 30.52963583,
                        "iteration": 275,
                        "remaining_time": 80.08498674,
                        "learn": [
                          0.2611206627
                        ]
                      },
                      {
                        "passed_time": 30.63704033,
                        "iteration": 276,
                        "remaining_time": 79.96599334,
                        "learn": [
                          0.2611020192
                        ]
                      },
                      {
                        "passed_time": 30.74799368,
                        "iteration": 277,
                        "remaining_time": 79.85630013,
                        "learn": [
                          0.261088723
                        ]
                      },
                      {
                        "passed_time": 30.85984052,
                        "iteration": 278,
                        "remaining_time": 79.74890687,
                        "learn": [
                          0.2610804033
                        ]
                      },
                      {
                        "passed_time": 30.96681888,
                        "iteration": 279,
                        "remaining_time": 79.62896283,
                        "learn": [
                          0.2610711269
                        ]
                      },
                      {
                        "passed_time": 31.07312478,
                        "iteration": 280,
                        "remaining_time": 79.50739046,
                        "learn": [
                          0.2610569693
                        ]
                      },
                      {
                        "passed_time": 31.1737126,
                        "iteration": 281,
                        "remaining_time": 79.37136753,
                        "learn": [
                          0.2610441172
                        ]
                      },
                      {
                        "passed_time": 31.28219176,
                        "iteration": 282,
                        "remaining_time": 79.25558831,
                        "learn": [
                          0.2610319839
                        ]
                      },
                      {
                        "passed_time": 31.38974152,
                        "iteration": 283,
                        "remaining_time": 79.13751736,
                        "learn": [
                          0.2610185152
                        ]
                      },
                      {
                        "passed_time": 31.51328797,
                        "iteration": 284,
                        "remaining_time": 79.05965227,
                        "learn": [
                          0.2610069351
                        ]
                      },
                      {
                        "passed_time": 31.62106807,
                        "iteration": 285,
                        "remaining_time": 78.94210699,
                        "learn": [
                          0.2609946107
                        ]
                      },
                      {
                        "passed_time": 31.72799052,
                        "iteration": 286,
                        "remaining_time": 78.8224991,
                        "learn": [
                          0.2609825575
                        ]
                      },
                      {
                        "passed_time": 31.83895355,
                        "iteration": 287,
                        "remaining_time": 78.71296851,
                        "learn": [
                          0.2609751739
                        ]
                      },
                      {
                        "passed_time": 31.94770121,
                        "iteration": 288,
                        "remaining_time": 78.59797772,
                        "learn": [
                          0.2609599132
                        ]
                      },
                      {
                        "passed_time": 32.05686542,
                        "iteration": 289,
                        "remaining_time": 78.48404982,
                        "learn": [
                          0.2609469126
                        ]
                      },
                      {
                        "passed_time": 32.16341424,
                        "iteration": 290,
                        "remaining_time": 78.36378246,
                        "learn": [
                          0.2609321205
                        ]
                      },
                      {
                        "passed_time": 32.2556443,
                        "iteration": 291,
                        "remaining_time": 78.20889097,
                        "learn": [
                          0.260916873
                        ]
                      },
                      {
                        "passed_time": 32.36663031,
                        "iteration": 292,
                        "remaining_time": 78.09968473,
                        "learn": [
                          0.260901689
                        ]
                      },
                      {
                        "passed_time": 32.49822173,
                        "iteration": 293,
                        "remaining_time": 78.03994742,
                        "learn": [
                          0.2608874842
                        ]
                      },
                      {
                        "passed_time": 32.60505318,
                        "iteration": 294,
                        "remaining_time": 77.92055083,
                        "learn": [
                          0.2608728488
                        ]
                      },
                      {
                        "passed_time": 32.71617849,
                        "iteration": 295,
                        "remaining_time": 77.81145155,
                        "learn": [
                          0.2608657801
                        ]
                      },
                      {
                        "passed_time": 32.82761232,
                        "iteration": 296,
                        "remaining_time": 77.70306888,
                        "learn": [
                          0.2608574034
                        ]
                      },
                      {
                        "passed_time": 32.93658378,
                        "iteration": 297,
                        "remaining_time": 77.58886515,
                        "learn": [
                          0.2608443846
                        ]
                      },
                      {
                        "passed_time": 33.04976252,
                        "iteration": 298,
                        "remaining_time": 77.48456028,
                        "learn": [
                          0.2608292509
                        ]
                      },
                      {
                        "passed_time": 33.15958152,
                        "iteration": 299,
                        "remaining_time": 77.37235688,
                        "learn": [
                          0.2608152143
                        ]
                      },
                      {
                        "passed_time": 33.2651711,
                        "iteration": 300,
                        "remaining_time": 77.2503475,
                        "learn": [
                          0.2608038804
                        ]
                      },
                      {
                        "passed_time": 33.37956293,
                        "iteration": 301,
                        "remaining_time": 77.14879115,
                        "learn": [
                          0.2607956167
                        ]
                      },
                      {
                        "passed_time": 33.51309173,
                        "iteration": 302,
                        "remaining_time": 77.09117141,
                        "learn": [
                          0.26078505
                        ]
                      },
                      {
                        "passed_time": 33.62207144,
                        "iteration": 303,
                        "remaining_time": 76.97684776,
                        "learn": [
                          0.260772981
                        ]
                      },
                      {
                        "passed_time": 33.72762617,
                        "iteration": 304,
                        "remaining_time": 76.85475472,
                        "learn": [
                          0.260763905
                        ]
                      },
                      {
                        "passed_time": 33.8406252,
                        "iteration": 305,
                        "remaining_time": 76.74965322,
                        "learn": [
                          0.2607539917
                        ]
                      },
                      {
                        "passed_time": 33.94597852,
                        "iteration": 306,
                        "remaining_time": 76.62724143,
                        "learn": [
                          0.2607449523
                        ]
                      },
                      {
                        "passed_time": 34.068559,
                        "iteration": 307,
                        "remaining_time": 76.54364554,
                        "learn": [
                          0.2607278422
                        ]
                      },
                      {
                        "passed_time": 34.16327911,
                        "iteration": 308,
                        "remaining_time": 76.39749471,
                        "learn": [
                          0.2607144131
                        ]
                      },
                      {
                        "passed_time": 34.26851134,
                        "iteration": 309,
                        "remaining_time": 76.27507362,
                        "learn": [
                          0.2607019351
                        ]
                      },
                      {
                        "passed_time": 34.38625854,
                        "iteration": 310,
                        "remaining_time": 76.18048919,
                        "learn": [
                          0.2606949714
                        ]
                      },
                      {
                        "passed_time": 34.52211097,
                        "iteration": 311,
                        "remaining_time": 76.12568059,
                        "learn": [
                          0.2606809975
                        ]
                      },
                      {
                        "passed_time": 34.62891777,
                        "iteration": 312,
                        "remaining_time": 76.00660225,
                        "learn": [
                          0.2606696978
                        ]
                      },
                      {
                        "passed_time": 34.73545338,
                        "iteration": 313,
                        "remaining_time": 75.88700961,
                        "learn": [
                          0.2606600861
                        ]
                      },
                      {
                        "passed_time": 34.8486644,
                        "iteration": 314,
                        "remaining_time": 75.78201623,
                        "learn": [
                          0.2606507694
                        ]
                      },
                      {
                        "passed_time": 34.95458319,
                        "iteration": 315,
                        "remaining_time": 75.66118641,
                        "learn": [
                          0.2606402578
                        ]
                      },
                      {
                        "passed_time": 35.06175484,
                        "iteration": 316,
                        "remaining_time": 75.54315002,
                        "learn": [
                          0.2606286319
                        ]
                      },
                      {
                        "passed_time": 35.16812263,
                        "iteration": 317,
                        "remaining_time": 75.42345797,
                        "learn": [
                          0.260618832
                        ]
                      },
                      {
                        "passed_time": 35.29471574,
                        "iteration": 318,
                        "remaining_time": 75.34702639,
                        "learn": [
                          0.2606082962
                        ]
                      },
                      {
                        "passed_time": 35.404159,
                        "iteration": 319,
                        "remaining_time": 75.23383787,
                        "learn": [
                          0.2605975677
                        ]
                      },
                      {
                        "passed_time": 35.52414174,
                        "iteration": 320,
                        "remaining_time": 75.14296649,
                        "learn": [
                          0.2605842194
                        ]
                      },
                      {
                        "passed_time": 35.65135699,
                        "iteration": 321,
                        "remaining_time": 75.06714299,
                        "learn": [
                          0.2605754893
                        ]
                      },
                      {
                        "passed_time": 35.76297819,
                        "iteration": 322,
                        "remaining_time": 74.95831651,
                        "learn": [
                          0.2605618716
                        ]
                      },
                      {
                        "passed_time": 35.87984868,
                        "iteration": 323,
                        "remaining_time": 74.86042502,
                        "learn": [
                          0.2605463188
                        ]
                      },
                      {
                        "passed_time": 35.98769382,
                        "iteration": 324,
                        "remaining_time": 74.74367178,
                        "learn": [
                          0.2605346456
                        ]
                      },
                      {
                        "passed_time": 36.09576656,
                        "iteration": 325,
                        "remaining_time": 74.62744376,
                        "learn": [
                          0.2605213454
                        ]
                      },
                      {
                        "passed_time": 36.20174523,
                        "iteration": 326,
                        "remaining_time": 74.50695577,
                        "learn": [
                          0.2605126964
                        ]
                      },
                      {
                        "passed_time": 36.31026367,
                        "iteration": 327,
                        "remaining_time": 74.39175971,
                        "learn": [
                          0.2604997645
                        ]
                      },
                      {
                        "passed_time": 36.42545753,
                        "iteration": 328,
                        "remaining_time": 74.29021885,
                        "learn": [
                          0.2604901524
                        ]
                      },
                      {
                        "passed_time": 36.53679091,
                        "iteration": 329,
                        "remaining_time": 74.18075731,
                        "learn": [
                          0.2604773916
                        ]
                      },
                      {
                        "passed_time": 36.66339088,
                        "iteration": 330,
                        "remaining_time": 74.10214048,
                        "learn": [
                          0.2604620685
                        ]
                      },
                      {
                        "passed_time": 36.7733908,
                        "iteration": 331,
                        "remaining_time": 73.9898345,
                        "learn": [
                          0.2604502496
                        ]
                      },
                      {
                        "passed_time": 36.88930984,
                        "iteration": 332,
                        "remaining_time": 73.8893984,
                        "learn": [
                          0.260441681
                        ]
                      },
                      {
                        "passed_time": 37.00392715,
                        "iteration": 333,
                        "remaining_time": 73.78627391,
                        "learn": [
                          0.260430918
                        ]
                      },
                      {
                        "passed_time": 37.11227994,
                        "iteration": 334,
                        "remaining_time": 73.67064525,
                        "learn": [
                          0.260418547
                        ]
                      },
                      {
                        "passed_time": 37.22012812,
                        "iteration": 335,
                        "remaining_time": 73.55406271,
                        "learn": [
                          0.2604116557
                        ]
                      },
                      {
                        "passed_time": 37.32893115,
                        "iteration": 336,
                        "remaining_time": 73.43941054,
                        "learn": [
                          0.2603999957
                        ]
                      },
                      {
                        "passed_time": 37.44573618,
                        "iteration": 337,
                        "remaining_time": 73.34046554,
                        "learn": [
                          0.2603906536
                        ]
                      },
                      {
                        "passed_time": 37.55430303,
                        "iteration": 338,
                        "remaining_time": 73.22535193,
                        "learn": [
                          0.2603783411
                        ]
                      },
                      {
                        "passed_time": 37.68592194,
                        "iteration": 339,
                        "remaining_time": 73.15502494,
                        "learn": [
                          0.2603698085
                        ]
                      },
                      {
                        "passed_time": 37.79794287,
                        "iteration": 340,
                        "remaining_time": 73.04646438,
                        "learn": [
                          0.2603504475
                        ]
                      },
                      {
                        "passed_time": 37.90729278,
                        "iteration": 341,
                        "remaining_time": 72.93274458,
                        "learn": [
                          0.2603379497
                        ]
                      },
                      {
                        "passed_time": 38.02014465,
                        "iteration": 342,
                        "remaining_time": 72.82575812,
                        "learn": [
                          0.2603219798
                        ]
                      },
                      {
                        "passed_time": 38.13433584,
                        "iteration": 343,
                        "remaining_time": 72.72129161,
                        "learn": [
                          0.2603066896
                        ]
                      },
                      {
                        "passed_time": 38.24009108,
                        "iteration": 344,
                        "remaining_time": 72.60075262,
                        "learn": [
                          0.2602885953
                        ]
                      },
                      {
                        "passed_time": 38.3480844,
                        "iteration": 345,
                        "remaining_time": 72.48452948,
                        "learn": [
                          0.2602729742
                        ]
                      },
                      {
                        "passed_time": 38.46411183,
                        "iteration": 346,
                        "remaining_time": 72.3834727,
                        "learn": [
                          0.2602643463
                        ]
                      },
                      {
                        "passed_time": 38.57394073,
                        "iteration": 347,
                        "remaining_time": 72.27071653,
                        "learn": [
                          0.2602490032
                        ]
                      },
                      {
                        "passed_time": 38.70713211,
                        "iteration": 348,
                        "remaining_time": 72.20155588,
                        "learn": [
                          0.2602380394
                        ]
                      },
                      {
                        "passed_time": 38.81725343,
                        "iteration": 349,
                        "remaining_time": 72.08918495,
                        "learn": [
                          0.2602263184
                        ]
                      },
                      {
                        "passed_time": 38.92750088,
                        "iteration": 350,
                        "remaining_time": 71.97706004,
                        "learn": [
                          0.2602170467
                        ]
                      },
                      {
                        "passed_time": 39.03887938,
                        "iteration": 351,
                        "remaining_time": 71.86702795,
                        "learn": [
                          0.2602087914
                        ]
                      },
                      {
                        "passed_time": 39.1448528,
                        "iteration": 352,
                        "remaining_time": 71.74708147,
                        "learn": [
                          0.2601951076
                        ]
                      },
                      {
                        "passed_time": 39.24899005,
                        "iteration": 353,
                        "remaining_time": 71.6238632,
                        "learn": [
                          0.2601906105
                        ]
                      },
                      {
                        "passed_time": 39.36003533,
                        "iteration": 354,
                        "remaining_time": 71.51330363,
                        "learn": [
                          0.260178251
                        ]
                      },
                      {
                        "passed_time": 39.47565821,
                        "iteration": 355,
                        "remaining_time": 71.41102216,
                        "learn": [
                          0.260166542
                        ]
                      },
                      {
                        "passed_time": 39.58841359,
                        "iteration": 356,
                        "remaining_time": 71.30350123,
                        "learn": [
                          0.2601590889
                        ]
                      },
                      {
                        "passed_time": 39.72218871,
                        "iteration": 357,
                        "remaining_time": 71.23364568,
                        "learn": [
                          0.2601433328
                        ]
                      },
                      {
                        "passed_time": 39.83157189,
                        "iteration": 358,
                        "remaining_time": 71.11988184,
                        "learn": [
                          0.2601273505
                        ]
                      },
                      {
                        "passed_time": 39.94096913,
                        "iteration": 359,
                        "remaining_time": 71.00616735,
                        "learn": [
                          0.2601158341
                        ]
                      },
                      {
                        "passed_time": 40.048919,
                        "iteration": 360,
                        "remaining_time": 70.8899148,
                        "learn": [
                          0.260104941
                        ]
                      },
                      {
                        "passed_time": 40.15126614,
                        "iteration": 361,
                        "remaining_time": 70.7638337,
                        "learn": [
                          0.260098219
                        ]
                      },
                      {
                        "passed_time": 40.256249,
                        "iteration": 362,
                        "remaining_time": 70.64250858,
                        "learn": [
                          0.2600910639
                        ]
                      },
                      {
                        "passed_time": 40.36185988,
                        "iteration": 363,
                        "remaining_time": 70.52237055,
                        "learn": [
                          0.2600825435
                        ]
                      },
                      {
                        "passed_time": 40.47347771,
                        "iteration": 364,
                        "remaining_time": 70.41276259,
                        "learn": [
                          0.2600707763
                        ]
                      },
                      {
                        "passed_time": 40.57587141,
                        "iteration": 365,
                        "remaining_time": 70.28716524,
                        "learn": [
                          0.2600624906
                        ]
                      },
                      {
                        "passed_time": 40.71583324,
                        "iteration": 366,
                        "remaining_time": 70.22649167,
                        "learn": [
                          0.2600529742
                        ]
                      },
                      {
                        "passed_time": 40.82461846,
                        "iteration": 367,
                        "remaining_time": 70.11184475,
                        "learn": [
                          0.2600422
                        ]
                      },
                      {
                        "passed_time": 40.93081681,
                        "iteration": 368,
                        "remaining_time": 69.99280598,
                        "learn": [
                          0.2600258861
                        ]
                      },
                      {
                        "passed_time": 41.03423087,
                        "iteration": 369,
                        "remaining_time": 69.86909581,
                        "learn": [
                          0.260016982
                        ]
                      },
                      {
                        "passed_time": 41.13850202,
                        "iteration": 370,
                        "remaining_time": 69.74694817,
                        "learn": [
                          0.2600060688
                        ]
                      },
                      {
                        "passed_time": 41.24575134,
                        "iteration": 371,
                        "remaining_time": 69.62992431,
                        "learn": [
                          0.2599955525
                        ]
                      },
                      {
                        "passed_time": 41.3493674,
                        "iteration": 372,
                        "remaining_time": 69.50684547,
                        "learn": [
                          0.259989213
                        ]
                      },
                      {
                        "passed_time": 41.46793431,
                        "iteration": 373,
                        "remaining_time": 69.4088954,
                        "learn": [
                          0.259979924
                        ]
                      },
                      {
                        "passed_time": 41.57350289,
                        "iteration": 374,
                        "remaining_time": 69.28917149,
                        "learn": [
                          0.2599649845
                        ]
                      },
                      {
                        "passed_time": 41.7114315,
                        "iteration": 375,
                        "remaining_time": 69.22322674,
                        "learn": [
                          0.259952217
                        ]
                      },
                      {
                        "passed_time": 41.8159062,
                        "iteration": 376,
                        "remaining_time": 69.10161688,
                        "learn": [
                          0.2599463332
                        ]
                      },
                      {
                        "passed_time": 41.91855125,
                        "iteration": 377,
                        "remaining_time": 68.97708697,
                        "learn": [
                          0.2599340435
                        ]
                      },
                      {
                        "passed_time": 42.03055301,
                        "iteration": 378,
                        "remaining_time": 68.86800375,
                        "learn": [
                          0.2599197332
                        ]
                      },
                      {
                        "passed_time": 42.13689516,
                        "iteration": 379,
                        "remaining_time": 68.74967105,
                        "learn": [
                          0.2599050951
                        ]
                      },
                      {
                        "passed_time": 42.24517278,
                        "iteration": 380,
                        "remaining_time": 68.63454581,
                        "learn": [
                          0.2598990254
                        ]
                      },
                      {
                        "passed_time": 42.34869359,
                        "iteration": 381,
                        "remaining_time": 68.51176084,
                        "learn": [
                          0.2598890893
                        ]
                      },
                      {
                        "passed_time": 42.45891862,
                        "iteration": 382,
                        "remaining_time": 68.39987674,
                        "learn": [
                          0.259879355
                        ]
                      },
                      {
                        "passed_time": 42.56775439,
                        "iteration": 383,
                        "remaining_time": 68.28577266,
                        "learn": [
                          0.2598674865
                        ]
                      },
                      {
                        "passed_time": 42.67508063,
                        "iteration": 384,
                        "remaining_time": 68.16928465,
                        "learn": [
                          0.2598543959
                        ]
                      },
                      {
                        "passed_time": 42.81559346,
                        "iteration": 385,
                        "remaining_time": 68.10563313,
                        "learn": [
                          0.2598465028
                        ]
                      },
                      {
                        "passed_time": 42.92074067,
                        "iteration": 386,
                        "remaining_time": 67.98556597,
                        "learn": [
                          0.2598327067
                        ]
                      },
                      {
                        "passed_time": 43.02392239,
                        "iteration": 387,
                        "remaining_time": 67.86247552,
                        "learn": [
                          0.2598268553
                        ]
                      },
                      {
                        "passed_time": 43.13531421,
                        "iteration": 388,
                        "remaining_time": 67.75238298,
                        "learn": [
                          0.2598145339
                        ]
                      },
                      {
                        "passed_time": 43.2435676,
                        "iteration": 389,
                        "remaining_time": 67.63737497,
                        "learn": [
                          0.2598091693
                        ]
                      },
                      {
                        "passed_time": 43.34984558,
                        "iteration": 390,
                        "remaining_time": 67.5193247,
                        "learn": [
                          0.2597987904
                        ]
                      },
                      {
                        "passed_time": 43.46620476,
                        "iteration": 391,
                        "remaining_time": 67.41697064,
                        "learn": [
                          0.2597913819
                        ]
                      },
                      {
                        "passed_time": 43.57307308,
                        "iteration": 392,
                        "remaining_time": 67.29988642,
                        "learn": [
                          0.2597801001
                        ]
                      },
                      {
                        "passed_time": 43.68102451,
                        "iteration": 393,
                        "remaining_time": 67.18451993,
                        "learn": [
                          0.2597727574
                        ]
                      },
                      {
                        "passed_time": 43.81612681,
                        "iteration": 394,
                        "remaining_time": 67.11077651,
                        "learn": [
                          0.2597603851
                        ]
                      },
                      {
                        "passed_time": 43.92663624,
                        "iteration": 395,
                        "remaining_time": 66.99921285,
                        "learn": [
                          0.2597462454
                        ]
                      },
                      {
                        "passed_time": 44.030251,
                        "iteration": 396,
                        "remaining_time": 66.87718225,
                        "learn": [
                          0.2597364192
                        ]
                      },
                      {
                        "passed_time": 44.13887823,
                        "iteration": 397,
                        "remaining_time": 66.76282586,
                        "learn": [
                          0.2597260877
                        ]
                      },
                      {
                        "passed_time": 44.24774454,
                        "iteration": 398,
                        "remaining_time": 66.64885831,
                        "learn": [
                          0.2597137324
                        ]
                      },
                      {
                        "passed_time": 44.35350384,
                        "iteration": 399,
                        "remaining_time": 66.53025575,
                        "learn": [
                          0.2597046375
                        ]
                      },
                      {
                        "passed_time": 44.46278132,
                        "iteration": 400,
                        "remaining_time": 66.41697259,
                        "learn": [
                          0.2596961072
                        ]
                      },
                      {
                        "passed_time": 44.57059805,
                        "iteration": 401,
                        "remaining_time": 66.3015364,
                        "learn": [
                          0.2596801635
                        ]
                      },
                      {
                        "passed_time": 44.67892232,
                        "iteration": 402,
                        "remaining_time": 66.18688988,
                        "learn": [
                          0.2596672998
                        ]
                      },
                      {
                        "passed_time": 44.81229213,
                        "iteration": 403,
                        "remaining_time": 66.10922304,
                        "learn": [
                          0.2596559253
                        ]
                      },
                      {
                        "passed_time": 44.922201,
                        "iteration": 404,
                        "remaining_time": 65.99681382,
                        "learn": [
                          0.2596421045
                        ]
                      },
                      {
                        "passed_time": 45.03091847,
                        "iteration": 405,
                        "remaining_time": 65.88267382,
                        "learn": [
                          0.2596356234
                        ]
                      },
                      {
                        "passed_time": 45.14314092,
                        "iteration": 406,
                        "remaining_time": 65.77366723,
                        "learn": [
                          0.2596273242
                        ]
                      },
                      {
                        "passed_time": 45.25441781,
                        "iteration": 407,
                        "remaining_time": 65.6632729,
                        "learn": [
                          0.259617211
                        ]
                      },
                      {
                        "passed_time": 45.35585103,
                        "iteration": 408,
                        "remaining_time": 65.53865026,
                        "learn": [
                          0.2595954375
                        ]
                      },
                      {
                        "passed_time": 45.45666232,
                        "iteration": 409,
                        "remaining_time": 65.41324578,
                        "learn": [
                          0.2595893437
                        ]
                      },
                      {
                        "passed_time": 45.58681421,
                        "iteration": 410,
                        "remaining_time": 65.33000869,
                        "learn": [
                          0.2595814405
                        ]
                      },
                      {
                        "passed_time": 45.69569984,
                        "iteration": 411,
                        "remaining_time": 65.21619298,
                        "learn": [
                          0.259565614
                        ]
                      },
                      {
                        "passed_time": 45.84771583,
                        "iteration": 412,
                        "remaining_time": 65.16370265,
                        "learn": [
                          0.2595567202
                        ]
                      },
                      {
                        "passed_time": 45.96057393,
                        "iteration": 413,
                        "remaining_time": 65.05530513,
                        "learn": [
                          0.2595467885
                        ]
                      },
                      {
                        "passed_time": 46.07130164,
                        "iteration": 414,
                        "remaining_time": 64.94388303,
                        "learn": [
                          0.2595389226
                        ]
                      },
                      {
                        "passed_time": 46.17852114,
                        "iteration": 415,
                        "remaining_time": 64.8275393,
                        "learn": [
                          0.259530554
                        ]
                      },
                      {
                        "passed_time": 46.28522315,
                        "iteration": 416,
                        "remaining_time": 64.71051581,
                        "learn": [
                          0.2595220926
                        ]
                      },
                      {
                        "passed_time": 46.3993244,
                        "iteration": 417,
                        "remaining_time": 64.60384402,
                        "learn": [
                          0.2595148211
                        ]
                      },
                      {
                        "passed_time": 46.51484924,
                        "iteration": 418,
                        "remaining_time": 64.49911076,
                        "learn": [
                          0.2595069604
                        ]
                      },
                      {
                        "passed_time": 46.6193522,
                        "iteration": 419,
                        "remaining_time": 64.37910542,
                        "learn": [
                          0.2594992064
                        ]
                      },
                      {
                        "passed_time": 46.72699862,
                        "iteration": 420,
                        "remaining_time": 64.26349691,
                        "learn": [
                          0.2594840712
                        ]
                      },
                      {
                        "passed_time": 46.87147559,
                        "iteration": 421,
                        "remaining_time": 64.19837178,
                        "learn": [
                          0.259475005
                        ]
                      },
                      {
                        "passed_time": 46.97666279,
                        "iteration": 422,
                        "remaining_time": 64.07927761,
                        "learn": [
                          0.2594677442
                        ]
                      },
                      {
                        "passed_time": 47.08681338,
                        "iteration": 423,
                        "remaining_time": 63.96699176,
                        "learn": [
                          0.2594527691
                        ]
                      },
                      {
                        "passed_time": 47.19389895,
                        "iteration": 424,
                        "remaining_time": 63.85056917,
                        "learn": [
                          0.2594473984
                        ]
                      },
                      {
                        "passed_time": 47.30379516,
                        "iteration": 425,
                        "remaining_time": 63.73797752,
                        "learn": [
                          0.259432788
                        ]
                      },
                      {
                        "passed_time": 47.41498949,
                        "iteration": 426,
                        "remaining_time": 63.62714046,
                        "learn": [
                          0.2594210892
                        ]
                      },
                      {
                        "passed_time": 47.53182191,
                        "iteration": 427,
                        "remaining_time": 63.52383676,
                        "learn": [
                          0.2594078515
                        ]
                      },
                      {
                        "passed_time": 47.63920143,
                        "iteration": 428,
                        "remaining_time": 63.40788815,
                        "learn": [
                          0.2593930287
                        ]
                      },
                      {
                        "passed_time": 47.74417171,
                        "iteration": 429,
                        "remaining_time": 63.28878575,
                        "learn": [
                          0.2593836182
                        ]
                      },
                      {
                        "passed_time": 47.88316558,
                        "iteration": 430,
                        "remaining_time": 63.21466639,
                        "learn": [
                          0.2593656714
                        ]
                      },
                      {
                        "passed_time": 47.9928021,
                        "iteration": 431,
                        "remaining_time": 63.10164721,
                        "learn": [
                          0.2593545074
                        ]
                      },
                      {
                        "passed_time": 48.09705033,
                        "iteration": 432,
                        "remaining_time": 62.98158784,
                        "learn": [
                          0.259346456
                        ]
                      },
                      {
                        "passed_time": 48.20025151,
                        "iteration": 433,
                        "remaining_time": 62.86023583,
                        "learn": [
                          0.259341694
                        ]
                      },
                      {
                        "passed_time": 48.30347295,
                        "iteration": 434,
                        "remaining_time": 62.7389936,
                        "learn": [
                          0.2593308613
                        ]
                      },
                      {
                        "passed_time": 48.42285323,
                        "iteration": 435,
                        "remaining_time": 62.63873675,
                        "learn": [
                          0.2593232908
                        ]
                      },
                      {
                        "passed_time": 48.54286667,
                        "iteration": 436,
                        "remaining_time": 62.53920809,
                        "learn": [
                          0.2593152248
                        ]
                      },
                      {
                        "passed_time": 48.65436603,
                        "iteration": 437,
                        "remaining_time": 62.42866144,
                        "learn": [
                          0.2592990093
                        ]
                      },
                      {
                        "passed_time": 48.76355993,
                        "iteration": 438,
                        "remaining_time": 62.31516428,
                        "learn": [
                          0.2592855973
                        ]
                      },
                      {
                        "passed_time": 48.87870086,
                        "iteration": 439,
                        "remaining_time": 62.20925563,
                        "learn": [
                          0.2592763542
                        ]
                      },
                      {
                        "passed_time": 49.00737005,
                        "iteration": 440,
                        "remaining_time": 62.1204532,
                        "learn": [
                          0.2592661964
                        ]
                      },
                      {
                        "passed_time": 49.11503174,
                        "iteration": 441,
                        "remaining_time": 62.00494957,
                        "learn": [
                          0.2592523017
                        ]
                      },
                      {
                        "passed_time": 49.22316936,
                        "iteration": 442,
                        "remaining_time": 61.89007976,
                        "learn": [
                          0.2592407685
                        ]
                      },
                      {
                        "passed_time": 49.33057689,
                        "iteration": 443,
                        "remaining_time": 61.77432602,
                        "learn": [
                          0.2592319554
                        ]
                      },
                      {
                        "passed_time": 49.43492054,
                        "iteration": 444,
                        "remaining_time": 61.65478854,
                        "learn": [
                          0.2592177869
                        ]
                      },
                      {
                        "passed_time": 49.55430222,
                        "iteration": 445,
                        "remaining_time": 61.55399873,
                        "learn": [
                          0.2592075027
                        ]
                      },
                      {
                        "passed_time": 49.66095616,
                        "iteration": 446,
                        "remaining_time": 61.43737977,
                        "learn": [
                          0.2591960436
                        ]
                      },
                      {
                        "passed_time": 49.76722999,
                        "iteration": 447,
                        "remaining_time": 61.32033695,
                        "learn": [
                          0.2591780967
                        ]
                      },
                      {
                        "passed_time": 49.87284103,
                        "iteration": 448,
                        "remaining_time": 61.20252874,
                        "learn": [
                          0.2591704934
                        ]
                      },
                      {
                        "passed_time": 50.01125172,
                        "iteration": 449,
                        "remaining_time": 61.12486321,
                        "learn": [
                          0.2591611479
                        ]
                      },
                      {
                        "passed_time": 50.11711705,
                        "iteration": 450,
                        "remaining_time": 61.00731099,
                        "learn": [
                          0.25914903
                        ]
                      },
                      {
                        "passed_time": 50.22663405,
                        "iteration": 451,
                        "remaining_time": 60.89423774,
                        "learn": [
                          0.2591363347
                        ]
                      },
                      {
                        "passed_time": 50.33374187,
                        "iteration": 452,
                        "remaining_time": 60.77827108,
                        "learn": [
                          0.2591276451
                        ]
                      },
                      {
                        "passed_time": 50.44700885,
                        "iteration": 453,
                        "remaining_time": 60.66975073,
                        "learn": [
                          0.259116427
                        ]
                      },
                      {
                        "passed_time": 50.56248258,
                        "iteration": 454,
                        "remaining_time": 60.56385276,
                        "learn": [
                          0.2591022598
                        ]
                      },
                      {
                        "passed_time": 50.66983975,
                        "iteration": 455,
                        "remaining_time": 60.44822987,
                        "learn": [
                          0.2590967454
                        ]
                      },
                      {
                        "passed_time": 50.77888908,
                        "iteration": 456,
                        "remaining_time": 60.33465377,
                        "learn": [
                          0.2590854032
                        ]
                      },
                      {
                        "passed_time": 50.88664514,
                        "iteration": 457,
                        "remaining_time": 60.21956696,
                        "learn": [
                          0.2590703336
                        ]
                      },
                      {
                        "passed_time": 51.02609368,
                        "iteration": 458,
                        "remaining_time": 60.14186641,
                        "learn": [
                          0.2590562008
                        ]
                      },
                      {
                        "passed_time": 51.13477736,
                        "iteration": 459,
                        "remaining_time": 60.02778212,
                        "learn": [
                          0.2590437221
                        ]
                      },
                      {
                        "passed_time": 51.22736215,
                        "iteration": 460,
                        "remaining_time": 59.89489847,
                        "learn": [
                          0.259033457
                        ]
                      },
                      {
                        "passed_time": 51.33602308,
                        "iteration": 461,
                        "remaining_time": 59.78091,
                        "learn": [
                          0.2590266586
                        ]
                      },
                      {
                        "passed_time": 51.44236271,
                        "iteration": 462,
                        "remaining_time": 59.66425221,
                        "learn": [
                          0.2590153992
                        ]
                      },
                      {
                        "passed_time": 51.54441683,
                        "iteration": 463,
                        "remaining_time": 59.5426884,
                        "learn": [
                          0.2590036184
                        ]
                      },
                      {
                        "passed_time": 51.66029062,
                        "iteration": 464,
                        "remaining_time": 59.43710856,
                        "learn": [
                          0.2589906432
                        ]
                      },
                      {
                        "passed_time": 51.7629942,
                        "iteration": 465,
                        "remaining_time": 59.31639249,
                        "learn": [
                          0.258977665
                        ]
                      },
                      {
                        "passed_time": 51.8726112,
                        "iteration": 466,
                        "remaining_time": 59.20364404,
                        "learn": [
                          0.2589695869
                        ]
                      },
                      {
                        "passed_time": 52.0053454,
                        "iteration": 467,
                        "remaining_time": 59.1171875,
                        "learn": [
                          0.2589600353
                        ]
                      },
                      {
                        "passed_time": 52.11264768,
                        "iteration": 468,
                        "remaining_time": 59.00173969,
                        "learn": [
                          0.2589500883
                        ]
                      },
                      {
                        "passed_time": 52.21144111,
                        "iteration": 469,
                        "remaining_time": 58.87673146,
                        "learn": [
                          0.2589468882
                        ]
                      },
                      {
                        "passed_time": 52.31476629,
                        "iteration": 470,
                        "remaining_time": 58.75692435,
                        "learn": [
                          0.2589372313
                        ]
                      },
                      {
                        "passed_time": 52.42886572,
                        "iteration": 471,
                        "remaining_time": 58.64923961,
                        "learn": [
                          0.2589314716
                        ]
                      },
                      {
                        "passed_time": 52.54058253,
                        "iteration": 472,
                        "remaining_time": 58.53887314,
                        "learn": [
                          0.2589192822
                        ]
                      },
                      {
                        "passed_time": 52.65240252,
                        "iteration": 473,
                        "remaining_time": 58.42861545,
                        "learn": [
                          0.2589090562
                        ]
                      },
                      {
                        "passed_time": 52.75911684,
                        "iteration": 474,
                        "remaining_time": 58.31270809,
                        "learn": [
                          0.2588959418
                        ]
                      },
                      {
                        "passed_time": 52.87138047,
                        "iteration": 475,
                        "remaining_time": 58.20294825,
                        "learn": [
                          0.2588853461
                        ]
                      },
                      {
                        "passed_time": 52.97753026,
                        "iteration": 476,
                        "remaining_time": 58.08647448,
                        "learn": [
                          0.2588741103
                        ]
                      },
                      {
                        "passed_time": 53.11325819,
                        "iteration": 477,
                        "remaining_time": 58.00234472,
                        "learn": [
                          0.2588641426
                        ]
                      },
                      {
                        "passed_time": 53.22244194,
                        "iteration": 478,
                        "remaining_time": 57.88912787,
                        "learn": [
                          0.2588561042
                        ]
                      },
                      {
                        "passed_time": 53.33366223,
                        "iteration": 479,
                        "remaining_time": 57.77813409,
                        "learn": [
                          0.2588437358
                        ]
                      },
                      {
                        "passed_time": 53.44803284,
                        "iteration": 480,
                        "remaining_time": 57.67053856,
                        "learn": [
                          0.2588348743
                        ]
                      },
                      {
                        "passed_time": 53.55582508,
                        "iteration": 481,
                        "remaining_time": 57.55584521,
                        "learn": [
                          0.2588271735
                        ]
                      },
                      {
                        "passed_time": 53.67432812,
                        "iteration": 482,
                        "remaining_time": 57.45264522,
                        "learn": [
                          0.2588130975
                        ]
                      },
                      {
                        "passed_time": 53.77976254,
                        "iteration": 483,
                        "remaining_time": 57.33544932,
                        "learn": [
                          0.2588029004
                        ]
                      },
                      {
                        "passed_time": 53.88907709,
                        "iteration": 484,
                        "remaining_time": 57.22242206,
                        "learn": [
                          0.2587880537
                        ]
                      },
                      {
                        "passed_time": 53.99699916,
                        "iteration": 485,
                        "remaining_time": 57.10793738,
                        "learn": [
                          0.258778009
                        ]
                      },
                      {
                        "passed_time": 54.14585844,
                        "iteration": 486,
                        "remaining_time": 57.03660243,
                        "learn": [
                          0.2587634335
                        ]
                      },
                      {
                        "passed_time": 54.25498366,
                        "iteration": 487,
                        "remaining_time": 56.92326154,
                        "learn": [
                          0.2587524298
                        ]
                      },
                      {
                        "passed_time": 54.36217739,
                        "iteration": 488,
                        "remaining_time": 56.80791953,
                        "learn": [
                          0.2587427925
                        ]
                      },
                      {
                        "passed_time": 54.47555139,
                        "iteration": 489,
                        "remaining_time": 56.69904328,
                        "learn": [
                          0.2587354156
                        ]
                      },
                      {
                        "passed_time": 54.58483421,
                        "iteration": 490,
                        "remaining_time": 56.58590756,
                        "learn": [
                          0.2587252234
                        ]
                      },
                      {
                        "passed_time": 54.69969675,
                        "iteration": 491,
                        "remaining_time": 56.47854868,
                        "learn": [
                          0.2587128881
                        ]
                      },
                      {
                        "passed_time": 54.80571245,
                        "iteration": 492,
                        "remaining_time": 56.36206128,
                        "learn": [
                          0.2586999684
                        ]
                      },
                      {
                        "passed_time": 54.91257836,
                        "iteration": 493,
                        "remaining_time": 56.24648714,
                        "learn": [
                          0.2586905913
                        ]
                      },
                      {
                        "passed_time": 55.01861142,
                        "iteration": 494,
                        "remaining_time": 56.13009852,
                        "learn": [
                          0.2586833098
                        ]
                      },
                      {
                        "passed_time": 55.15811824,
                        "iteration": 495,
                        "remaining_time": 56.04776531,
                        "learn": [
                          0.2586737697
                        ]
                      },
                      {
                        "passed_time": 55.26687096,
                        "iteration": 496,
                        "remaining_time": 55.93407665,
                        "learn": [
                          0.258660872
                        ]
                      },
                      {
                        "passed_time": 55.37719951,
                        "iteration": 497,
                        "remaining_time": 55.82199629,
                        "learn": [
                          0.2586519555
                        ]
                      },
                      {
                        "passed_time": 55.49319276,
                        "iteration": 498,
                        "remaining_time": 55.71561037,
                        "learn": [
                          0.2586457866
                        ]
                      },
                      {
                        "passed_time": 55.60106605,
                        "iteration": 499,
                        "remaining_time": 55.60106605,
                        "learn": [
                          0.2586346717
                        ]
                      },
                      {
                        "passed_time": 55.71512047,
                        "iteration": 500,
                        "remaining_time": 55.49270482,
                        "learn": [
                          0.2586208636
                        ]
                      },
                      {
                        "passed_time": 55.85488245,
                        "iteration": 501,
                        "remaining_time": 55.40982363,
                        "learn": [
                          0.2586129355
                        ]
                      },
                      {
                        "passed_time": 55.96299228,
                        "iteration": 502,
                        "remaining_time": 55.29544168,
                        "learn": [
                          0.2586039209
                        ]
                      },
                      {
                        "passed_time": 56.06663488,
                        "iteration": 503,
                        "remaining_time": 55.17668829,
                        "learn": [
                          0.2585917913
                        ]
                      },
                      {
                        "passed_time": 56.20846191,
                        "iteration": 504,
                        "remaining_time": 55.09542306,
                        "learn": [
                          0.2585735459
                        ]
                      },
                      {
                        "passed_time": 56.3157929,
                        "iteration": 505,
                        "remaining_time": 54.9802405,
                        "learn": [
                          0.2585607929
                        ]
                      },
                      {
                        "passed_time": 56.42530197,
                        "iteration": 506,
                        "remaining_time": 54.86720685,
                        "learn": [
                          0.2585425855
                        ]
                      },
                      {
                        "passed_time": 56.53411497,
                        "iteration": 507,
                        "remaining_time": 54.75351292,
                        "learn": [
                          0.2585271721
                        ]
                      },
                      {
                        "passed_time": 56.64348068,
                        "iteration": 508,
                        "remaining_time": 54.64037134,
                        "learn": [
                          0.258515511
                        ]
                      },
                      {
                        "passed_time": 56.75648807,
                        "iteration": 509,
                        "remaining_time": 54.53074344,
                        "learn": [
                          0.2585083368
                        ]
                      },
                      {
                        "passed_time": 56.86549635,
                        "iteration": 510,
                        "remaining_time": 54.41727537,
                        "learn": [
                          0.2584988044
                        ]
                      },
                      {
                        "passed_time": 56.97286519,
                        "iteration": 511,
                        "remaining_time": 54.30226213,
                        "learn": [
                          0.2584909518
                        ]
                      },
                      {
                        "passed_time": 57.07799283,
                        "iteration": 512,
                        "remaining_time": 54.18515109,
                        "learn": [
                          0.2584790784
                        ]
                      },
                      {
                        "passed_time": 57.22302085,
                        "iteration": 513,
                        "remaining_time": 54.10581348,
                        "learn": [
                          0.2584748393
                        ]
                      },
                      {
                        "passed_time": 57.31877284,
                        "iteration": 514,
                        "remaining_time": 53.9798152,
                        "learn": [
                          0.2584589712
                        ]
                      },
                      {
                        "passed_time": 57.42141851,
                        "iteration": 515,
                        "remaining_time": 53.86040031,
                        "learn": [
                          0.2584452059
                        ]
                      },
                      {
                        "passed_time": 57.52717242,
                        "iteration": 516,
                        "remaining_time": 53.74395412,
                        "learn": [
                          0.2584348599
                        ]
                      },
                      {
                        "passed_time": 57.63686506,
                        "iteration": 517,
                        "remaining_time": 53.6312142,
                        "learn": [
                          0.2584205386
                        ]
                      },
                      {
                        "passed_time": 57.75107702,
                        "iteration": 518,
                        "remaining_time": 53.52267446,
                        "learn": [
                          0.2584142889
                        ]
                      },
                      {
                        "passed_time": 57.85546838,
                        "iteration": 519,
                        "remaining_time": 53.40504774,
                        "learn": [
                          0.2584091611
                        ]
                      },
                      {
                        "passed_time": 57.95945568,
                        "iteration": 520,
                        "remaining_time": 53.28710033,
                        "learn": [
                          0.2584011572
                        ]
                      },
                      {
                        "passed_time": 58.05606771,
                        "iteration": 521,
                        "remaining_time": 53.16245281,
                        "learn": [
                          0.2583915869
                        ]
                      },
                      {
                        "passed_time": 58.22135257,
                        "iteration": 522,
                        "remaining_time": 53.10054527,
                        "learn": [
                          0.2583875178
                        ]
                      },
                      {
                        "passed_time": 58.34749966,
                        "iteration": 523,
                        "remaining_time": 53.00269053,
                        "learn": [
                          0.2583755647
                        ]
                      },
                      {
                        "passed_time": 58.44646,
                        "iteration": 524,
                        "remaining_time": 52.88013048,
                        "learn": [
                          0.2583630995
                        ]
                      },
                      {
                        "passed_time": 58.55748324,
                        "iteration": 525,
                        "remaining_time": 52.76853053,
                        "learn": [
                          0.2583513593
                        ]
                      },
                      {
                        "passed_time": 58.66973254,
                        "iteration": 526,
                        "remaining_time": 52.65803319,
                        "learn": [
                          0.258341578
                        ]
                      },
                      {
                        "passed_time": 58.78245745,
                        "iteration": 527,
                        "remaining_time": 52.54795438,
                        "learn": [
                          0.2583304976
                        ]
                      },
                      {
                        "passed_time": 58.89385529,
                        "iteration": 528,
                        "remaining_time": 52.43668401,
                        "learn": [
                          0.2583153646
                        ]
                      },
                      {
                        "passed_time": 59.0028871,
                        "iteration": 529,
                        "remaining_time": 52.32331498,
                        "learn": [
                          0.2582986498
                        ]
                      },
                      {
                        "passed_time": 59.1086655,
                        "iteration": 530,
                        "remaining_time": 52.20708874,
                        "learn": [
                          0.2582913733
                        ]
                      },
                      {
                        "passed_time": 59.21333287,
                        "iteration": 531,
                        "remaining_time": 52.08992441,
                        "learn": [
                          0.2582833106
                        ]
                      },
                      {
                        "passed_time": 59.35965534,
                        "iteration": 532,
                        "remaining_time": 52.00930402,
                        "learn": [
                          0.2582724162
                        ]
                      },
                      {
                        "passed_time": 59.47015388,
                        "iteration": 533,
                        "remaining_time": 51.89717548,
                        "learn": [
                          0.25826156
                        ]
                      },
                      {
                        "passed_time": 59.57948435,
                        "iteration": 534,
                        "remaining_time": 51.7840378,
                        "learn": [
                          0.2582504966
                        ]
                      },
                      {
                        "passed_time": 59.69020744,
                        "iteration": 535,
                        "remaining_time": 51.67211987,
                        "learn": [
                          0.2582397514
                        ]
                      },
                      {
                        "passed_time": 59.79788642,
                        "iteration": 536,
                        "remaining_time": 51.55758177,
                        "learn": [
                          0.258226094
                        ]
                      },
                      {
                        "passed_time": 59.90957319,
                        "iteration": 537,
                        "remaining_time": 51.44651081,
                        "learn": [
                          0.2582172483
                        ]
                      },
                      {
                        "passed_time": 60.01300808,
                        "iteration": 538,
                        "remaining_time": 51.32837983,
                        "learn": [
                          0.2582085484
                        ]
                      },
                      {
                        "passed_time": 60.12203873,
                        "iteration": 539,
                        "remaining_time": 51.21507003,
                        "learn": [
                          0.258197693
                        ]
                      },
                      {
                        "passed_time": 60.22587535,
                        "iteration": 540,
                        "remaining_time": 51.09736929,
                        "learn": [
                          0.2581894402
                        ]
                      },
                      {
                        "passed_time": 60.36403882,
                        "iteration": 541,
                        "remaining_time": 51.00872653,
                        "learn": [
                          0.2581780318
                        ]
                      },
                      {
                        "passed_time": 60.46923887,
                        "iteration": 542,
                        "remaining_time": 50.89215868,
                        "learn": [
                          0.2581675227
                        ]
                      },
                      {
                        "passed_time": 60.57882269,
                        "iteration": 543,
                        "remaining_time": 50.77930725,
                        "learn": [
                          0.2581582035
                        ]
                      },
                      {
                        "passed_time": 60.68870749,
                        "iteration": 544,
                        "remaining_time": 50.6667191,
                        "learn": [
                          0.2581474792
                        ]
                      },
                      {
                        "passed_time": 60.80425446,
                        "iteration": 545,
                        "remaining_time": 50.55884894,
                        "learn": [
                          0.2581329208
                        ]
                      },
                      {
                        "passed_time": 60.91095786,
                        "iteration": 546,
                        "remaining_time": 50.44362689,
                        "learn": [
                          0.2581255685
                        ]
                      },
                      {
                        "passed_time": 61.01695189,
                        "iteration": 547,
                        "remaining_time": 50.32785083,
                        "learn": [
                          0.258112966
                        ]
                      },
                      {
                        "passed_time": 61.11765271,
                        "iteration": 548,
                        "remaining_time": 50.20776206,
                        "learn": [
                          0.2581042993
                        ]
                      },
                      {
                        "passed_time": 61.22398446,
                        "iteration": 549,
                        "remaining_time": 50.09235092,
                        "learn": [
                          0.2580908234
                        ]
                      },
                      {
                        "passed_time": 61.37330249,
                        "iteration": 550,
                        "remaining_time": 50.01200149,
                        "learn": [
                          0.2580789694
                        ]
                      },
                      {
                        "passed_time": 61.48439222,
                        "iteration": 551,
                        "remaining_time": 49.90037629,
                        "learn": [
                          0.258069475
                        ]
                      },
                      {
                        "passed_time": 61.59411564,
                        "iteration": 552,
                        "remaining_time": 49.78764863,
                        "learn": [
                          0.2580623724
                        ]
                      },
                      {
                        "passed_time": 61.70455777,
                        "iteration": 553,
                        "remaining_time": 49.67551041,
                        "learn": [
                          0.2580509547
                        ]
                      },
                      {
                        "passed_time": 61.81955188,
                        "iteration": 554,
                        "remaining_time": 49.56702809,
                        "learn": [
                          0.2580395285
                        ]
                      },
                      {
                        "passed_time": 61.92068265,
                        "iteration": 555,
                        "remaining_time": 49.44745161,
                        "learn": [
                          0.2580298275
                        ]
                      },
                      {
                        "passed_time": 62.02904609,
                        "iteration": 556,
                        "remaining_time": 49.33369375,
                        "learn": [
                          0.2580206836
                        ]
                      },
                      {
                        "passed_time": 62.13578572,
                        "iteration": 557,
                        "remaining_time": 49.21866898,
                        "learn": [
                          0.2580122558
                        ]
                      },
                      {
                        "passed_time": 62.24117869,
                        "iteration": 558,
                        "remaining_time": 49.10261145,
                        "learn": [
                          0.2580048994
                        ]
                      },
                      {
                        "passed_time": 62.36448997,
                        "iteration": 559,
                        "remaining_time": 49.00067069,
                        "learn": [
                          0.2579934129
                        ]
                      },
                      {
                        "passed_time": 62.48899821,
                        "iteration": 560,
                        "remaining_time": 48.8995904,
                        "learn": [
                          0.2579821197
                        ]
                      },
                      {
                        "passed_time": 62.59597672,
                        "iteration": 561,
                        "remaining_time": 48.78476478,
                        "learn": [
                          0.2579669999
                        ]
                      },
                      {
                        "passed_time": 62.70217793,
                        "iteration": 562,
                        "remaining_time": 48.66936369,
                        "learn": [
                          0.2579515976
                        ]
                      },
                      {
                        "passed_time": 62.83244545,
                        "iteration": 563,
                        "remaining_time": 48.57259967,
                        "learn": [
                          0.2579403709
                        ]
                      },
                      {
                        "passed_time": 62.94217891,
                        "iteration": 564,
                        "remaining_time": 48.45990765,
                        "learn": [
                          0.2579280031
                        ]
                      },
                      {
                        "passed_time": 63.05023036,
                        "iteration": 565,
                        "remaining_time": 48.34593635,
                        "learn": [
                          0.2579207533
                        ]
                      },
                      {
                        "passed_time": 63.16042257,
                        "iteration": 566,
                        "remaining_time": 48.23362076,
                        "learn": [
                          0.2579144952
                        ]
                      },
                      {
                        "passed_time": 63.26684757,
                        "iteration": 567,
                        "remaining_time": 48.11844745,
                        "learn": [
                          0.2578980944
                        ]
                      },
                      {
                        "passed_time": 63.37918123,
                        "iteration": 568,
                        "remaining_time": 48.00778051,
                        "learn": [
                          0.2578813001
                        ]
                      },
                      {
                        "passed_time": 63.51458437,
                        "iteration": 569,
                        "remaining_time": 47.91451102,
                        "learn": [
                          0.2578702314
                        ]
                      },
                      {
                        "passed_time": 63.62030584,
                        "iteration": 570,
                        "remaining_time": 47.7987937,
                        "learn": [
                          0.2578596715
                        ]
                      },
                      {
                        "passed_time": 63.73643274,
                        "iteration": 571,
                        "remaining_time": 47.69089723,
                        "learn": [
                          0.257844688
                        ]
                      },
                      {
                        "passed_time": 63.85139337,
                        "iteration": 572,
                        "remaining_time": 47.58210291,
                        "learn": [
                          0.2578343498
                        ]
                      },
                      {
                        "passed_time": 63.95860436,
                        "iteration": 573,
                        "remaining_time": 47.46753564,
                        "learn": [
                          0.2578277035
                        ]
                      },
                      {
                        "passed_time": 64.06180337,
                        "iteration": 574,
                        "remaining_time": 47.35002858,
                        "learn": [
                          0.2578184598
                        ]
                      },
                      {
                        "passed_time": 64.16939466,
                        "iteration": 575,
                        "remaining_time": 47.2358044,
                        "learn": [
                          0.2578098591
                        ]
                      },
                      {
                        "passed_time": 64.27437642,
                        "iteration": 576,
                        "remaining_time": 47.11969017,
                        "learn": [
                          0.2578002645
                        ]
                      },
                      {
                        "passed_time": 64.3756082,
                        "iteration": 577,
                        "remaining_time": 47.00087658,
                        "learn": [
                          0.2577959236
                        ]
                      },
                      {
                        "passed_time": 64.52441934,
                        "iteration": 578,
                        "remaining_time": 46.91671942,
                        "learn": [
                          0.2577889784
                        ]
                      },
                      {
                        "passed_time": 64.63166478,
                        "iteration": 579,
                        "remaining_time": 46.80224001,
                        "learn": [
                          0.2577806768
                        ]
                      },
                      {
                        "passed_time": 64.73490453,
                        "iteration": 580,
                        "remaining_time": 46.68489673,
                        "learn": [
                          0.2577658295
                        ]
                      },
                      {
                        "passed_time": 64.85083159,
                        "iteration": 581,
                        "remaining_time": 46.5767141,
                        "learn": [
                          0.2577563954
                        ]
                      },
                      {
                        "passed_time": 64.9653821,
                        "iteration": 582,
                        "remaining_time": 46.4675203,
                        "learn": [
                          0.2577459433
                        ]
                      },
                      {
                        "passed_time": 65.06587947,
                        "iteration": 583,
                        "remaining_time": 46.3482977,
                        "learn": [
                          0.2577383737
                        ]
                      },
                      {
                        "passed_time": 65.17322221,
                        "iteration": 584,
                        "remaining_time": 46.23399524,
                        "learn": [
                          0.2577270195
                        ]
                      },
                      {
                        "passed_time": 65.27832324,
                        "iteration": 585,
                        "remaining_time": 46.1181328,
                        "learn": [
                          0.2577187143
                        ]
                      },
                      {
                        "passed_time": 65.387888,
                        "iteration": 586,
                        "remaining_time": 46.00544761,
                        "learn": [
                          0.2577088167
                        ]
                      },
                      {
                        "passed_time": 65.54568473,
                        "iteration": 587,
                        "remaining_time": 45.92656821,
                        "learn": [
                          0.2576972283
                        ]
                      },
                      {
                        "passed_time": 65.65404205,
                        "iteration": 588,
                        "remaining_time": 45.81292238,
                        "learn": [
                          0.2576926136
                        ]
                      },
                      {
                        "passed_time": 65.77358176,
                        "iteration": 589,
                        "remaining_time": 45.70706529,
                        "learn": [
                          0.2576852715
                        ]
                      },
                      {
                        "passed_time": 65.89024292,
                        "iteration": 590,
                        "remaining_time": 45.5991698,
                        "learn": [
                          0.2576755081
                        ]
                      },
                      {
                        "passed_time": 65.99779195,
                        "iteration": 591,
                        "remaining_time": 45.48496473,
                        "learn": [
                          0.2576668709
                        ]
                      },
                      {
                        "passed_time": 66.12297068,
                        "iteration": 592,
                        "remaining_time": 45.38288207,
                        "learn": [
                          0.2576571647
                        ]
                      },
                      {
                        "passed_time": 66.22775437,
                        "iteration": 593,
                        "remaining_time": 45.2667816,
                        "learn": [
                          0.2576474517
                        ]
                      },
                      {
                        "passed_time": 66.33486601,
                        "iteration": 594,
                        "remaining_time": 45.15230376,
                        "learn": [
                          0.2576431218
                        ]
                      },
                      {
                        "passed_time": 66.44175503,
                        "iteration": 595,
                        "remaining_time": 45.03769972,
                        "learn": [
                          0.2576363057
                        ]
                      },
                      {
                        "passed_time": 66.59271376,
                        "iteration": 596,
                        "remaining_time": 44.95287043,
                        "learn": [
                          0.2576247817
                        ]
                      },
                      {
                        "passed_time": 66.69638665,
                        "iteration": 597,
                        "remaining_time": 44.8360325,
                        "learn": [
                          0.2576157586
                        ]
                      },
                      {
                        "passed_time": 66.81369487,
                        "iteration": 598,
                        "remaining_time": 44.72836669,
                        "learn": [
                          0.2576089163
                        ]
                      },
                      {
                        "passed_time": 66.9207287,
                        "iteration": 599,
                        "remaining_time": 44.61381913,
                        "learn": [
                          0.2576013576
                        ]
                      },
                      {
                        "passed_time": 67.02599928,
                        "iteration": 600,
                        "remaining_time": 44.49812598,
                        "learn": [
                          0.2575987424
                        ]
                      },
                      {
                        "passed_time": 67.13240932,
                        "iteration": 601,
                        "remaining_time": 44.38322078,
                        "learn": [
                          0.2575932043
                        ]
                      },
                      {
                        "passed_time": 67.24100205,
                        "iteration": 602,
                        "remaining_time": 44.26978078,
                        "learn": [
                          0.2575893011
                        ]
                      },
                      {
                        "passed_time": 67.35093751,
                        "iteration": 603,
                        "remaining_time": 44.15723717,
                        "learn": [
                          0.2575744739
                        ]
                      },
                      {
                        "passed_time": 67.46092877,
                        "iteration": 604,
                        "remaining_time": 44.04473862,
                        "learn": [
                          0.2575672002
                        ]
                      },
                      {
                        "passed_time": 67.61176238,
                        "iteration": 605,
                        "remaining_time": 43.95880261,
                        "learn": [
                          0.2575590251
                        ]
                      },
                      {
                        "passed_time": 67.72287945,
                        "iteration": 606,
                        "remaining_time": 43.84693842,
                        "learn": [
                          0.2575499079
                        ]
                      },
                      {
                        "passed_time": 67.83757804,
                        "iteration": 607,
                        "remaining_time": 43.73738584,
                        "learn": [
                          0.2575427047
                        ]
                      },
                      {
                        "passed_time": 67.94402773,
                        "iteration": 608,
                        "remaining_time": 43.62252027,
                        "learn": [
                          0.2575314083
                        ]
                      },
                      {
                        "passed_time": 68.04413967,
                        "iteration": 609,
                        "remaining_time": 43.50363028,
                        "learn": [
                          0.2575170047
                        ]
                      },
                      {
                        "passed_time": 68.15191084,
                        "iteration": 610,
                        "remaining_time": 43.3896781,
                        "learn": [
                          0.2575031673
                        ]
                      },
                      {
                        "passed_time": 68.25674128,
                        "iteration": 611,
                        "remaining_time": 43.27388173,
                        "learn": [
                          0.2574923221
                        ]
                      },
                      {
                        "passed_time": 68.36353558,
                        "iteration": 612,
                        "remaining_time": 43.15936096,
                        "learn": [
                          0.2574793008
                        ]
                      },
                      {
                        "passed_time": 68.47541102,
                        "iteration": 613,
                        "remaining_time": 43.0480597,
                        "learn": [
                          0.2574714524
                        ]
                      },
                      {
                        "passed_time": 68.58151988,
                        "iteration": 614,
                        "remaining_time": 42.93314659,
                        "learn": [
                          0.2574619576
                        ]
                      },
                      {
                        "passed_time": 68.73132942,
                        "iteration": 615,
                        "remaining_time": 42.84550405,
                        "learn": [
                          0.257454428
                        ]
                      },
                      {
                        "passed_time": 68.84635,
                        "iteration": 616,
                        "remaining_time": 42.73606491,
                        "learn": [
                          0.2574437986
                        ]
                      },
                      {
                        "passed_time": 68.95229786,
                        "iteration": 617,
                        "remaining_time": 42.62099965,
                        "learn": [
                          0.2574312812
                        ]
                      },
                      {
                        "passed_time": 69.05481409,
                        "iteration": 618,
                        "remaining_time": 42.50385165,
                        "learn": [
                          0.2574173402
                        ]
                      },
                      {
                        "passed_time": 69.1617558,
                        "iteration": 619,
                        "remaining_time": 42.38946323,
                        "learn": [
                          0.2574054576
                        ]
                      },
                      {
                        "passed_time": 69.26636784,
                        "iteration": 620,
                        "remaining_time": 42.27367699,
                        "learn": [
                          0.2573967167
                        ]
                      },
                      {
                        "passed_time": 69.37617314,
                        "iteration": 621,
                        "remaining_time": 42.16108271,
                        "learn": [
                          0.2573848413
                        ]
                      },
                      {
                        "passed_time": 69.47984993,
                        "iteration": 622,
                        "remaining_time": 42.0447888,
                        "learn": [
                          0.2573717525
                        ]
                      },
                      {
                        "passed_time": 69.58795835,
                        "iteration": 623,
                        "remaining_time": 41.93120567,
                        "learn": [
                          0.257364867
                        ]
                      },
                      {
                        "passed_time": 69.73781921,
                        "iteration": 624,
                        "remaining_time": 41.84269152,
                        "learn": [
                          0.2573530984
                        ]
                      },
                      {
                        "passed_time": 69.85355142,
                        "iteration": 625,
                        "remaining_time": 41.73359142,
                        "learn": [
                          0.2573447795
                        ]
                      },
                      {
                        "passed_time": 69.9575251,
                        "iteration": 626,
                        "remaining_time": 41.61747506,
                        "learn": [
                          0.2573354822
                        ]
                      },
                      {
                        "passed_time": 70.06315618,
                        "iteration": 627,
                        "remaining_time": 41.50237914,
                        "learn": [
                          0.2573270161
                        ]
                      },
                      {
                        "passed_time": 70.17448721,
                        "iteration": 628,
                        "remaining_time": 41.39067529,
                        "learn": [
                          0.2573159138
                        ]
                      },
                      {
                        "passed_time": 70.27869499,
                        "iteration": 629,
                        "remaining_time": 41.27478912,
                        "learn": [
                          0.2573060134
                        ]
                      },
                      {
                        "passed_time": 70.38442816,
                        "iteration": 630,
                        "remaining_time": 41.159832,
                        "learn": [
                          0.2572958823
                        ]
                      },
                      {
                        "passed_time": 70.48880179,
                        "iteration": 631,
                        "remaining_time": 41.04411243,
                        "learn": [
                          0.2572888207
                        ]
                      },
                      {
                        "passed_time": 70.59823351,
                        "iteration": 632,
                        "remaining_time": 40.93136129,
                        "learn": [
                          0.2572764202
                        ]
                      },
                      {
                        "passed_time": 70.74978666,
                        "iteration": 633,
                        "remaining_time": 40.84293678,
                        "learn": [
                          0.2572689832
                        ]
                      },
                      {
                        "passed_time": 70.86525241,
                        "iteration": 634,
                        "remaining_time": 40.73357028,
                        "learn": [
                          0.2572591405
                        ]
                      },
                      {
                        "passed_time": 70.97100468,
                        "iteration": 635,
                        "remaining_time": 40.61862532,
                        "learn": [
                          0.2572438594
                        ]
                      },
                      {
                        "passed_time": 71.07492218,
                        "iteration": 636,
                        "remaining_time": 40.50266366,
                        "learn": [
                          0.2572379779
                        ]
                      },
                      {
                        "passed_time": 71.18651435,
                        "iteration": 637,
                        "remaining_time": 40.39109435,
                        "learn": [
                          0.2572221051
                        ]
                      },
                      {
                        "passed_time": 71.28867431,
                        "iteration": 638,
                        "remaining_time": 40.27419629,
                        "learn": [
                          0.2572081472
                        ]
                      },
                      {
                        "passed_time": 71.39530228,
                        "iteration": 639,
                        "remaining_time": 40.15985753,
                        "learn": [
                          0.2571947501
                        ]
                      },
                      {
                        "passed_time": 71.50439582,
                        "iteration": 640,
                        "remaining_time": 40.04692371,
                        "learn": [
                          0.2571828381
                        ]
                      },
                      {
                        "passed_time": 71.61079167,
                        "iteration": 641,
                        "remaining_time": 39.93249753,
                        "learn": [
                          0.2571723997
                        ]
                      },
                      {
                        "passed_time": 71.71678237,
                        "iteration": 642,
                        "remaining_time": 39.81787139,
                        "learn": [
                          0.257163958
                        ]
                      },
                      {
                        "passed_time": 71.87618858,
                        "iteration": 643,
                        "remaining_time": 39.7327999,
                        "learn": [
                          0.2571543104
                        ]
                      },
                      {
                        "passed_time": 71.97264886,
                        "iteration": 644,
                        "remaining_time": 39.61285325,
                        "learn": [
                          0.2571467014
                        ]
                      },
                      {
                        "passed_time": 72.07672903,
                        "iteration": 645,
                        "remaining_time": 39.49715492,
                        "learn": [
                          0.2571414054
                        ]
                      },
                      {
                        "passed_time": 72.18347448,
                        "iteration": 646,
                        "remaining_time": 39.38294666,
                        "learn": [
                          0.2571306735
                        ]
                      },
                      {
                        "passed_time": 72.28964762,
                        "iteration": 647,
                        "remaining_time": 39.26845056,
                        "learn": [
                          0.2571209804
                        ]
                      },
                      {
                        "passed_time": 72.40184285,
                        "iteration": 648,
                        "remaining_time": 39.15723704,
                        "learn": [
                          0.2571112425
                        ]
                      },
                      {
                        "passed_time": 72.51013033,
                        "iteration": 649,
                        "remaining_time": 39.04391633,
                        "learn": [
                          0.257101147
                        ]
                      },
                      {
                        "passed_time": 72.61636333,
                        "iteration": 650,
                        "remaining_time": 38.92950968,
                        "learn": [
                          0.2570935072
                        ]
                      },
                      {
                        "passed_time": 72.72433662,
                        "iteration": 651,
                        "remaining_time": 38.81605697,
                        "learn": [
                          0.2570850355
                        ]
                      },
                      {
                        "passed_time": 72.88446829,
                        "iteration": 652,
                        "remaining_time": 38.73033767,
                        "learn": [
                          0.2570766382
                        ]
                      },
                      {
                        "passed_time": 72.98716748,
                        "iteration": 653,
                        "remaining_time": 38.61400604,
                        "learn": [
                          0.2570685448
                        ]
                      },
                      {
                        "passed_time": 73.09352718,
                        "iteration": 654,
                        "remaining_time": 38.49964409,
                        "learn": [
                          0.257056382
                        ]
                      },
                      {
                        "passed_time": 73.20467042,
                        "iteration": 655,
                        "remaining_time": 38.38781498,
                        "learn": [
                          0.2570428161
                        ]
                      },
                      {
                        "passed_time": 73.31001758,
                        "iteration": 656,
                        "remaining_time": 38.27296199,
                        "learn": [
                          0.257031487
                        ]
                      },
                      {
                        "passed_time": 73.4159859,
                        "iteration": 657,
                        "remaining_time": 38.15846075,
                        "learn": [
                          0.2570241956
                        ]
                      },
                      {
                        "passed_time": 73.52361935,
                        "iteration": 658,
                        "remaining_time": 38.04484704,
                        "learn": [
                          0.2570167347
                        ]
                      },
                      {
                        "passed_time": 73.63188217,
                        "iteration": 659,
                        "remaining_time": 37.93157567,
                        "learn": [
                          0.2570079807
                        ]
                      },
                      {
                        "passed_time": 73.73606781,
                        "iteration": 660,
                        "remaining_time": 37.81622842,
                        "learn": [
                          0.2569973771
                        ]
                      },
                      {
                        "passed_time": 73.90841162,
                        "iteration": 661,
                        "remaining_time": 37.7357147,
                        "learn": [
                          0.2569853773
                        ]
                      },
                      {
                        "passed_time": 74.0013968,
                        "iteration": 662,
                        "remaining_time": 37.61458631,
                        "learn": [
                          0.2569777238
                        ]
                      },
                      {
                        "passed_time": 74.10670631,
                        "iteration": 663,
                        "remaining_time": 37.4997791,
                        "learn": [
                          0.2569678912
                        ]
                      },
                      {
                        "passed_time": 74.21668245,
                        "iteration": 664,
                        "remaining_time": 37.38735131,
                        "learn": [
                          0.2569599825
                        ]
                      },
                      {
                        "passed_time": 74.32325671,
                        "iteration": 665,
                        "remaining_time": 37.27322484,
                        "learn": [
                          0.2569516087
                        ]
                      },
                      {
                        "passed_time": 74.4300273,
                        "iteration": 666,
                        "remaining_time": 37.15921903,
                        "learn": [
                          0.2569396034
                        ]
                      },
                      {
                        "passed_time": 74.5366202,
                        "iteration": 667,
                        "remaining_time": 37.04514657,
                        "learn": [
                          0.2569307229
                        ]
                      },
                      {
                        "passed_time": 74.63636739,
                        "iteration": 668,
                        "remaining_time": 36.92770942,
                        "learn": [
                          0.2569202114
                        ]
                      },
                      {
                        "passed_time": 74.74179757,
                        "iteration": 669,
                        "remaining_time": 36.81312418,
                        "learn": [
                          0.2569121822
                        ]
                      },
                      {
                        "passed_time": 74.89640364,
                        "iteration": 670,
                        "remaining_time": 36.72267779,
                        "learn": [
                          0.2568982
                        ]
                      },
                      {
                        "passed_time": 75.00818801,
                        "iteration": 671,
                        "remaining_time": 36.61113939,
                        "learn": [
                          0.2568895101
                        ]
                      },
                      {
                        "passed_time": 75.11480792,
                        "iteration": 672,
                        "remaining_time": 36.49709092,
                        "learn": [
                          0.2568779561
                        ]
                      },
                      {
                        "passed_time": 75.22441306,
                        "iteration": 673,
                        "remaining_time": 36.38450839,
                        "learn": [
                          0.2568689032
                        ]
                      },
                      {
                        "passed_time": 75.33513683,
                        "iteration": 674,
                        "remaining_time": 36.27247329,
                        "learn": [
                          0.2568613645
                        ]
                      },
                      {
                        "passed_time": 75.44585901,
                        "iteration": 675,
                        "remaining_time": 36.1604413,
                        "learn": [
                          0.256850846
                        ]
                      },
                      {
                        "passed_time": 75.55004578,
                        "iteration": 676,
                        "remaining_time": 36.04529511,
                        "learn": [
                          0.2568452545
                        ]
                      },
                      {
                        "passed_time": 75.65441268,
                        "iteration": 677,
                        "remaining_time": 35.93026679,
                        "learn": [
                          0.2568352676
                        ]
                      },
                      {
                        "passed_time": 75.76015661,
                        "iteration": 678,
                        "remaining_time": 35.81592087,
                        "learn": [
                          0.2568229566
                        ]
                      },
                      {
                        "passed_time": 75.87156095,
                        "iteration": 679,
                        "remaining_time": 35.70426398,
                        "learn": [
                          0.2568094868
                        ]
                      },
                      {
                        "passed_time": 76.03223754,
                        "iteration": 680,
                        "remaining_time": 35.61568836,
                        "learn": [
                          0.2568015127
                        ]
                      },
                      {
                        "passed_time": 76.13573587,
                        "iteration": 681,
                        "remaining_time": 35.50024048,
                        "learn": [
                          0.2567966372
                        ]
                      },
                      {
                        "passed_time": 76.23835324,
                        "iteration": 682,
                        "remaining_time": 35.38441871,
                        "learn": [
                          0.2567879689
                        ]
                      },
                      {
                        "passed_time": 76.34808641,
                        "iteration": 683,
                        "remaining_time": 35.27192296,
                        "learn": [
                          0.25677521
                        ]
                      },
                      {
                        "passed_time": 76.45522897,
                        "iteration": 684,
                        "remaining_time": 35.15824398,
                        "learn": [
                          0.2567679218
                        ]
                      },
                      {
                        "passed_time": 76.5875597,
                        "iteration": 685,
                        "remaining_time": 35.05611333,
                        "learn": [
                          0.256756223
                        ]
                      },
                      {
                        "passed_time": 76.69440015,
                        "iteration": 686,
                        "remaining_time": 34.94228129,
                        "learn": [
                          0.2567484419
                        ]
                      },
                      {
                        "passed_time": 76.80615021,
                        "iteration": 687,
                        "remaining_time": 34.83069602,
                        "learn": [
                          0.2567345022
                        ]
                      },
                      {
                        "passed_time": 76.91384194,
                        "iteration": 688,
                        "remaining_time": 34.71727844,
                        "learn": [
                          0.2567312875
                        ]
                      },
                      {
                        "passed_time": 77.0703633,
                        "iteration": 689,
                        "remaining_time": 34.62581539,
                        "learn": [
                          0.256720774
                        ]
                      },
                      {
                        "passed_time": 77.17800766,
                        "iteration": 690,
                        "remaining_time": 34.51230733,
                        "learn": [
                          0.256712929
                        ]
                      },
                      {
                        "passed_time": 77.28150165,
                        "iteration": 691,
                        "remaining_time": 34.39696894,
                        "learn": [
                          0.2567079243
                        ]
                      },
                      {
                        "passed_time": 77.38864109,
                        "iteration": 692,
                        "remaining_time": 34.28327967,
                        "learn": [
                          0.2566988992
                        ]
                      },
                      {
                        "passed_time": 77.49745463,
                        "iteration": 693,
                        "remaining_time": 34.17034743,
                        "learn": [
                          0.2566908487
                        ]
                      },
                      {
                        "passed_time": 77.60516227,
                        "iteration": 694,
                        "remaining_time": 34.05694171,
                        "learn": [
                          0.2566779776
                        ]
                      },
                      {
                        "passed_time": 77.70935514,
                        "iteration": 695,
                        "remaining_time": 33.94201719,
                        "learn": [
                          0.2566675736
                        ]
                      },
                      {
                        "passed_time": 77.81763837,
                        "iteration": 696,
                        "remaining_time": 33.82890161,
                        "learn": [
                          0.2566534222
                        ]
                      },
                      {
                        "passed_time": 77.923492,
                        "iteration": 697,
                        "remaining_time": 33.71474869,
                        "learn": [
                          0.2566399086
                        ]
                      },
                      {
                        "passed_time": 78.08253168,
                        "iteration": 698,
                        "remaining_time": 33.62352223,
                        "learn": [
                          0.2566282926
                        ]
                      },
                      {
                        "passed_time": 78.19168886,
                        "iteration": 699,
                        "remaining_time": 33.5107238,
                        "learn": [
                          0.256620586
                        ]
                      },
                      {
                        "passed_time": 78.29544412,
                        "iteration": 700,
                        "remaining_time": 33.39563166,
                        "learn": [
                          0.256613514
                        ]
                      },
                      {
                        "passed_time": 78.41185988,
                        "iteration": 701,
                        "remaining_time": 33.28594622,
                        "learn": [
                          0.2566039308
                        ]
                      },
                      {
                        "passed_time": 78.52409281,
                        "iteration": 702,
                        "remaining_time": 33.17447449,
                        "learn": [
                          0.2565969347
                        ]
                      },
                      {
                        "passed_time": 78.63117633,
                        "iteration": 703,
                        "remaining_time": 33.0608355,
                        "learn": [
                          0.2565900779
                        ]
                      },
                      {
                        "passed_time": 78.73841297,
                        "iteration": 704,
                        "remaining_time": 32.94727918,
                        "learn": [
                          0.2565767529
                        ]
                      },
                      {
                        "passed_time": 78.85558601,
                        "iteration": 705,
                        "remaining_time": 32.83787859,
                        "learn": [
                          0.2565697485
                        ]
                      },
                      {
                        "passed_time": 78.97096775,
                        "iteration": 706,
                        "remaining_time": 32.72771365,
                        "learn": [
                          0.2565635993
                        ]
                      },
                      {
                        "passed_time": 79.12922059,
                        "iteration": 707,
                        "remaining_time": 32.63521527,
                        "learn": [
                          0.2565585189
                        ]
                      },
                      {
                        "passed_time": 79.24018133,
                        "iteration": 708,
                        "remaining_time": 32.52312097,
                        "learn": [
                          0.2565495953
                        ]
                      },
                      {
                        "passed_time": 79.34975474,
                        "iteration": 709,
                        "remaining_time": 32.4104632,
                        "learn": [
                          0.256537072
                        ]
                      },
                      {
                        "passed_time": 79.46324785,
                        "iteration": 710,
                        "remaining_time": 32.29940735,
                        "learn": [
                          0.2565285935
                        ]
                      },
                      {
                        "passed_time": 79.57935706,
                        "iteration": 711,
                        "remaining_time": 32.18940286,
                        "learn": [
                          0.2565180949
                        ]
                      },
                      {
                        "passed_time": 79.68578844,
                        "iteration": 712,
                        "remaining_time": 32.07548567,
                        "learn": [
                          0.2565120834
                        ]
                      },
                      {
                        "passed_time": 79.79845495,
                        "iteration": 713,
                        "remaining_time": 31.964087,
                        "learn": [
                          0.2565044762
                        ]
                      },
                      {
                        "passed_time": 79.90851603,
                        "iteration": 714,
                        "remaining_time": 31.85164625,
                        "learn": [
                          0.2564964535
                        ]
                      },
                      {
                        "passed_time": 80.02823959,
                        "iteration": 715,
                        "remaining_time": 31.74304476,
                        "learn": [
                          0.256482782
                        ]
                      },
                      {
                        "passed_time": 80.18590531,
                        "iteration": 716,
                        "remaining_time": 31.64938801,
                        "learn": [
                          0.256476289
                        ]
                      },
                      {
                        "passed_time": 80.29869989,
                        "iteration": 717,
                        "remaining_time": 31.53792948,
                        "learn": [
                          0.2564680579
                        ]
                      },
                      {
                        "passed_time": 80.4116392,
                        "iteration": 718,
                        "remaining_time": 31.4265238,
                        "learn": [
                          0.256460206
                        ]
                      },
                      {
                        "passed_time": 80.53198328,
                        "iteration": 719,
                        "remaining_time": 31.3179935,
                        "learn": [
                          0.2564482744
                        ]
                      },
                      {
                        "passed_time": 80.64128696,
                        "iteration": 720,
                        "remaining_time": 31.2051582,
                        "learn": [
                          0.2564415126
                        ]
                      },
                      {
                        "passed_time": 80.75502461,
                        "iteration": 721,
                        "remaining_time": 31.09403995,
                        "learn": [
                          0.2564356731
                        ]
                      },
                      {
                        "passed_time": 80.86949065,
                        "iteration": 722,
                        "remaining_time": 30.98319351,
                        "learn": [
                          0.2564282855
                        ]
                      },
                      {
                        "passed_time": 80.98345834,
                        "iteration": 723,
                        "remaining_time": 30.8721471,
                        "learn": [
                          0.2564166878
                        ]
                      },
                      {
                        "passed_time": 81.12752318,
                        "iteration": 724,
                        "remaining_time": 30.77250879,
                        "learn": [
                          0.2564113781
                        ]
                      },
                      {
                        "passed_time": 81.253178,
                        "iteration": 725,
                        "remaining_time": 30.66579996,
                        "learn": [
                          0.2564030454
                        ]
                      },
                      {
                        "passed_time": 81.36429481,
                        "iteration": 726,
                        "remaining_time": 30.55357976,
                        "learn": [
                          0.2563957439
                        ]
                      },
                      {
                        "passed_time": 81.47160851,
                        "iteration": 727,
                        "remaining_time": 30.43994164,
                        "learn": [
                          0.2563882649
                        ]
                      },
                      {
                        "passed_time": 81.5791922,
                        "iteration": 728,
                        "remaining_time": 30.32642124,
                        "learn": [
                          0.2563792737
                        ]
                      },
                      {
                        "passed_time": 81.68829571,
                        "iteration": 729,
                        "remaining_time": 30.21347923,
                        "learn": [
                          0.2563686381
                        ]
                      },
                      {
                        "passed_time": 81.79854589,
                        "iteration": 730,
                        "remaining_time": 30.10096969,
                        "learn": [
                          0.2563549018
                        ]
                      },
                      {
                        "passed_time": 81.90818671,
                        "iteration": 731,
                        "remaining_time": 29.98824322,
                        "learn": [
                          0.2563425607
                        ]
                      },
                      {
                        "passed_time": 82.02138253,
                        "iteration": 732,
                        "remaining_time": 29.8768201,
                        "learn": [
                          0.2563318426
                        ]
                      },
                      {
                        "passed_time": 82.12742575,
                        "iteration": 733,
                        "remaining_time": 29.76280007,
                        "learn": [
                          0.2563249523
                        ]
                      },
                      {
                        "passed_time": 82.27843973,
                        "iteration": 734,
                        "remaining_time": 29.66501569,
                        "learn": [
                          0.2563193712
                        ]
                      },
                      {
                        "passed_time": 82.3926693,
                        "iteration": 735,
                        "remaining_time": 29.55389225,
                        "learn": [
                          0.2563067728
                        ]
                      },
                      {
                        "passed_time": 82.50200297,
                        "iteration": 736,
                        "remaining_time": 29.44101327,
                        "learn": [
                          0.2563007986
                        ]
                      },
                      {
                        "passed_time": 82.61223995,
                        "iteration": 737,
                        "remaining_time": 29.32846459,
                        "learn": [
                          0.2562918727
                        ]
                      },
                      {
                        "passed_time": 82.70465132,
                        "iteration": 738,
                        "remaining_time": 29.20962651,
                        "learn": [
                          0.256282834
                        ]
                      },
                      {
                        "passed_time": 82.81378526,
                        "iteration": 739,
                        "remaining_time": 29.09673536,
                        "learn": [
                          0.2562767605
                        ]
                      },
                      {
                        "passed_time": 82.9241363,
                        "iteration": 740,
                        "remaining_time": 28.98427976,
                        "learn": [
                          0.2562703576
                        ]
                      },
                      {
                        "passed_time": 83.03966958,
                        "iteration": 741,
                        "remaining_time": 28.87363174,
                        "learn": [
                          0.2562636799
                        ]
                      },
                      {
                        "passed_time": 83.1491769,
                        "iteration": 742,
                        "remaining_time": 28.76088622,
                        "learn": [
                          0.2562535437
                        ]
                      },
                      {
                        "passed_time": 83.31018474,
                        "iteration": 743,
                        "remaining_time": 28.66587002,
                        "learn": [
                          0.2562440507
                        ]
                      },
                      {
                        "passed_time": 83.41741911,
                        "iteration": 744,
                        "remaining_time": 28.55227097,
                        "learn": [
                          0.2562358729
                        ]
                      },
                      {
                        "passed_time": 83.52956692,
                        "iteration": 745,
                        "remaining_time": 28.44036193,
                        "learn": [
                          0.2562263353
                        ]
                      },
                      {
                        "passed_time": 83.64042001,
                        "iteration": 746,
                        "remaining_time": 28.32801374,
                        "learn": [
                          0.256214841
                        ]
                      },
                      {
                        "passed_time": 83.74438225,
                        "iteration": 747,
                        "remaining_time": 28.21334803,
                        "learn": [
                          0.2562083295
                        ]
                      },
                      {
                        "passed_time": 83.85462215,
                        "iteration": 748,
                        "remaining_time": 28.10081463,
                        "learn": [
                          0.2562007197
                        ]
                      },
                      {
                        "passed_time": 83.96101173,
                        "iteration": 749,
                        "remaining_time": 27.98700391,
                        "learn": [
                          0.2561920282
                        ]
                      },
                      {
                        "passed_time": 84.07572687,
                        "iteration": 750,
                        "remaining_time": 27.87597336,
                        "learn": [
                          0.2561840691
                        ]
                      },
                      {
                        "passed_time": 84.18527892,
                        "iteration": 751,
                        "remaining_time": 27.76323028,
                        "learn": [
                          0.2561729746
                        ]
                      },
                      {
                        "passed_time": 84.36235746,
                        "iteration": 752,
                        "remaining_time": 27.67264581,
                        "learn": [
                          0.2561635292
                        ]
                      },
                      {
                        "passed_time": 84.47476842,
                        "iteration": 753,
                        "remaining_time": 27.56073346,
                        "learn": [
                          0.2561514141
                        ]
                      },
                      {
                        "passed_time": 84.58034634,
                        "iteration": 754,
                        "remaining_time": 27.44660245,
                        "learn": [
                          0.2561437546
                        ]
                      },
                      {
                        "passed_time": 84.69309108,
                        "iteration": 755,
                        "remaining_time": 27.33480717,
                        "learn": [
                          0.2561370146
                        ]
                      },
                      {
                        "passed_time": 84.80523764,
                        "iteration": 756,
                        "remaining_time": 27.22281737,
                        "learn": [
                          0.2561264008
                        ]
                      },
                      {
                        "passed_time": 84.91592971,
                        "iteration": 757,
                        "remaining_time": 27.11036278,
                        "learn": [
                          0.2561183471
                        ]
                      },
                      {
                        "passed_time": 85.02526867,
                        "iteration": 758,
                        "remaining_time": 26.9974832,
                        "learn": [
                          0.2561119632
                        ]
                      },
                      {
                        "passed_time": 85.14912443,
                        "iteration": 759,
                        "remaining_time": 26.88919719,
                        "learn": [
                          0.2560993216
                        ]
                      },
                      {
                        "passed_time": 85.29264387,
                        "iteration": 760,
                        "remaining_time": 26.78704584,
                        "learn": [
                          0.256082847
                        ]
                      },
                      {
                        "passed_time": 85.41589219,
                        "iteration": 761,
                        "remaining_time": 26.67845452,
                        "learn": [
                          0.2560747021
                        ]
                      },
                      {
                        "passed_time": 85.53299737,
                        "iteration": 762,
                        "remaining_time": 26.56791661,
                        "learn": [
                          0.2560655352
                        ]
                      },
                      {
                        "passed_time": 85.64754617,
                        "iteration": 763,
                        "remaining_time": 26.45657185,
                        "learn": [
                          0.2560566467
                        ]
                      },
                      {
                        "passed_time": 85.75713477,
                        "iteration": 764,
                        "remaining_time": 26.34369499,
                        "learn": [
                          0.2560470184
                        ]
                      },
                      {
                        "passed_time": 85.87764056,
                        "iteration": 765,
                        "remaining_time": 26.23416174,
                        "learn": [
                          0.256040807
                        ]
                      },
                      {
                        "passed_time": 85.98534837,
                        "iteration": 766,
                        "remaining_time": 26.12071209,
                        "learn": [
                          0.2560301922
                        ]
                      },
                      {
                        "passed_time": 86.10046685,
                        "iteration": 767,
                        "remaining_time": 26.00951603,
                        "learn": [
                          0.2560180951
                        ]
                      },
                      {
                        "passed_time": 86.20791184,
                        "iteration": 768,
                        "remaining_time": 25.89600473,
                        "learn": [
                          0.2560131735
                        ]
                      },
                      {
                        "passed_time": 86.38669179,
                        "iteration": 769,
                        "remaining_time": 25.80381703,
                        "learn": [
                          0.256003015
                        ]
                      },
                      {
                        "passed_time": 86.52467721,
                        "iteration": 770,
                        "remaining_time": 25.69928804,
                        "learn": [
                          0.2559983254
                        ]
                      },
                      {
                        "passed_time": 86.63191681,
                        "iteration": 771,
                        "remaining_time": 25.58559201,
                        "learn": [
                          0.2559925925
                        ]
                      },
                      {
                        "passed_time": 86.73669841,
                        "iteration": 772,
                        "remaining_time": 25.47119087,
                        "learn": [
                          0.2559872404
                        ]
                      },
                      {
                        "passed_time": 86.86147183,
                        "iteration": 773,
                        "remaining_time": 25.36265198,
                        "learn": [
                          0.2559762973
                        ]
                      },
                      {
                        "passed_time": 86.96417346,
                        "iteration": 774,
                        "remaining_time": 25.24766326,
                        "learn": [
                          0.2559671791
                        ]
                      },
                      {
                        "passed_time": 87.07105492,
                        "iteration": 775,
                        "remaining_time": 25.13391276,
                        "learn": [
                          0.2559596884
                        ]
                      },
                      {
                        "passed_time": 87.18240643,
                        "iteration": 776,
                        "remaining_time": 25.02146285,
                        "learn": [
                          0.2559520213
                        ]
                      },
                      {
                        "passed_time": 87.28729498,
                        "iteration": 777,
                        "remaining_time": 24.90717158,
                        "learn": [
                          0.2559443919
                        ]
                      },
                      {
                        "passed_time": 87.40024381,
                        "iteration": 778,
                        "remaining_time": 24.79519112,
                        "learn": [
                          0.2559334841
                        ]
                      },
                      {
                        "passed_time": 87.55303124,
                        "iteration": 779,
                        "remaining_time": 24.69444471,
                        "learn": [
                          0.2559250955
                        ]
                      },
                      {
                        "passed_time": 87.66185581,
                        "iteration": 780,
                        "remaining_time": 24.58123742,
                        "learn": [
                          0.2559174203
                        ]
                      },
                      {
                        "passed_time": 87.76899783,
                        "iteration": 781,
                        "remaining_time": 24.46757229,
                        "learn": [
                          0.2559072524
                        ]
                      },
                      {
                        "passed_time": 87.88610202,
                        "iteration": 782,
                        "remaining_time": 24.35668472,
                        "learn": [
                          0.2558965305
                        ]
                      },
                      {
                        "passed_time": 87.99282895,
                        "iteration": 783,
                        "remaining_time": 24.24292226,
                        "learn": [
                          0.2558868912
                        ]
                      },
                      {
                        "passed_time": 88.10703923,
                        "iteration": 784,
                        "remaining_time": 24.13122731,
                        "learn": [
                          0.2558805185
                        ]
                      },
                      {
                        "passed_time": 88.21177429,
                        "iteration": 785,
                        "remaining_time": 24.01694618,
                        "learn": [
                          0.2558750916
                        ]
                      },
                      {
                        "passed_time": 88.31565309,
                        "iteration": 786,
                        "remaining_time": 23.90245757,
                        "learn": [
                          0.2558671372
                        ]
                      },
                      {
                        "passed_time": 88.42592787,
                        "iteration": 787,
                        "remaining_time": 23.78971664,
                        "learn": [
                          0.2558559459
                        ]
                      },
                      {
                        "passed_time": 88.59738979,
                        "iteration": 788,
                        "remaining_time": 23.69334505,
                        "learn": [
                          0.2558473587
                        ]
                      },
                      {
                        "passed_time": 88.70695447,
                        "iteration": 789,
                        "remaining_time": 23.58032967,
                        "learn": [
                          0.2558366194
                        ]
                      },
                      {
                        "passed_time": 88.81401996,
                        "iteration": 790,
                        "remaining_time": 23.46666267,
                        "learn": [
                          0.2558263693
                        ]
                      },
                      {
                        "passed_time": 88.92479804,
                        "iteration": 791,
                        "remaining_time": 23.35398736,
                        "learn": [
                          0.2558218153
                        ]
                      },
                      {
                        "passed_time": 89.02559031,
                        "iteration": 792,
                        "remaining_time": 23.23871021,
                        "learn": [
                          0.255810437
                        ]
                      },
                      {
                        "passed_time": 89.14095049,
                        "iteration": 793,
                        "remaining_time": 23.12724912,
                        "learn": [
                          0.2557998291
                        ]
                      },
                      {
                        "passed_time": 89.24479179,
                        "iteration": 794,
                        "remaining_time": 23.01280795,
                        "learn": [
                          0.2557944147
                        ]
                      },
                      {
                        "passed_time": 89.35065125,
                        "iteration": 795,
                        "remaining_time": 22.89891062,
                        "learn": [
                          0.255785985
                        ]
                      },
                      {
                        "passed_time": 89.45734491,
                        "iteration": 796,
                        "remaining_time": 22.78524594,
                        "learn": [
                          0.255777952
                        ]
                      },
                      {
                        "passed_time": 89.61492109,
                        "iteration": 797,
                        "remaining_time": 22.68447877,
                        "learn": [
                          0.25577495
                        ]
                      },
                      {
                        "passed_time": 89.71881425,
                        "iteration": 798,
                        "remaining_time": 22.57006466,
                        "learn": [
                          0.2557682197
                        ]
                      },
                      {
                        "passed_time": 89.8281974,
                        "iteration": 799,
                        "remaining_time": 22.45704935,
                        "learn": [
                          0.2557598257
                        ]
                      },
                      {
                        "passed_time": 89.94208672,
                        "iteration": 800,
                        "remaining_time": 22.34516262,
                        "learn": [
                          0.2557488775
                        ]
                      },
                      {
                        "passed_time": 90.05050802,
                        "iteration": 801,
                        "remaining_time": 22.23192093,
                        "learn": [
                          0.2557428882
                        ]
                      },
                      {
                        "passed_time": 90.16943052,
                        "iteration": 802,
                        "remaining_time": 22.12126751,
                        "learn": [
                          0.2557359914
                        ]
                      },
                      {
                        "passed_time": 90.27204699,
                        "iteration": 803,
                        "remaining_time": 22.00661842,
                        "learn": [
                          0.2557299667
                        ]
                      },
                      {
                        "passed_time": 90.38065613,
                        "iteration": 804,
                        "remaining_time": 21.89345086,
                        "learn": [
                          0.2557228568
                        ]
                      },
                      {
                        "passed_time": 90.48870563,
                        "iteration": 805,
                        "remaining_time": 21.78015992,
                        "learn": [
                          0.255720854
                        ]
                      },
                      {
                        "passed_time": 90.64607112,
                        "iteration": 806,
                        "remaining_time": 21.67867624,
                        "learn": [
                          0.2557158377
                        ]
                      },
                      {
                        "passed_time": 90.75141494,
                        "iteration": 807,
                        "remaining_time": 21.56469266,
                        "learn": [
                          0.2557101648
                        ]
                      },
                      {
                        "passed_time": 90.85896632,
                        "iteration": 808,
                        "remaining_time": 21.45125163,
                        "learn": [
                          0.2556998529
                        ]
                      },
                      {
                        "passed_time": 90.9705632,
                        "iteration": 809,
                        "remaining_time": 21.33877408,
                        "learn": [
                          0.2556920059
                        ]
                      },
                      {
                        "passed_time": 91.07836749,
                        "iteration": 810,
                        "remaining_time": 21.22541486,
                        "learn": [
                          0.2556809338
                        ]
                      },
                      {
                        "passed_time": 91.19147857,
                        "iteration": 811,
                        "remaining_time": 21.11329799,
                        "learn": [
                          0.2556709382
                        ]
                      },
                      {
                        "passed_time": 91.29624231,
                        "iteration": 812,
                        "remaining_time": 20.99925869,
                        "learn": [
                          0.2556638086
                        ]
                      },
                      {
                        "passed_time": 91.40831427,
                        "iteration": 813,
                        "remaining_time": 20.88691211,
                        "learn": [
                          0.2556567529
                        ]
                      },
                      {
                        "passed_time": 91.51530226,
                        "iteration": 814,
                        "remaining_time": 20.77341217,
                        "learn": [
                          0.2556492127
                        ]
                      },
                      {
                        "passed_time": 91.66994779,
                        "iteration": 815,
                        "remaining_time": 20.6706745,
                        "learn": [
                          0.2556373259
                        ]
                      },
                      {
                        "passed_time": 91.77769681,
                        "iteration": 816,
                        "remaining_time": 20.55730541,
                        "learn": [
                          0.2556328559
                        ]
                      },
                      {
                        "passed_time": 91.89017809,
                        "iteration": 817,
                        "remaining_time": 20.44500295,
                        "learn": [
                          0.255619937
                        ]
                      },
                      {
                        "passed_time": 91.99621883,
                        "iteration": 818,
                        "remaining_time": 20.33127669,
                        "learn": [
                          0.2556137547
                        ]
                      },
                      {
                        "passed_time": 92.10639661,
                        "iteration": 819,
                        "remaining_time": 20.2184773,
                        "learn": [
                          0.2556091536
                        ]
                      },
                      {
                        "passed_time": 92.22377682,
                        "iteration": 820,
                        "remaining_time": 20.10725463,
                        "learn": [
                          0.2556037446
                        ]
                      },
                      {
                        "passed_time": 92.32837767,
                        "iteration": 821,
                        "remaining_time": 19.99324967,
                        "learn": [
                          0.2555991677
                        ]
                      },
                      {
                        "passed_time": 92.43724119,
                        "iteration": 822,
                        "remaining_time": 19.88018431,
                        "learn": [
                          0.255584619
                        ]
                      },
                      {
                        "passed_time": 92.54576548,
                        "iteration": 823,
                        "remaining_time": 19.76705671,
                        "learn": [
                          0.2555773178
                        ]
                      },
                      {
                        "passed_time": 92.70708917,
                        "iteration": 824,
                        "remaining_time": 19.66514013,
                        "learn": [
                          0.2555663625
                        ]
                      },
                      {
                        "passed_time": 92.81592673,
                        "iteration": 825,
                        "remaining_time": 19.55202331,
                        "learn": [
                          0.2555552276
                        ]
                      },
                      {
                        "passed_time": 92.92524353,
                        "iteration": 826,
                        "remaining_time": 19.43901709,
                        "learn": [
                          0.2555495265
                        ]
                      },
                      {
                        "passed_time": 93.03414713,
                        "iteration": 827,
                        "remaining_time": 19.32593394,
                        "learn": [
                          0.2555431565
                        ]
                      },
                      {
                        "passed_time": 93.14211638,
                        "iteration": 828,
                        "remaining_time": 19.21266816,
                        "learn": [
                          0.2555381229
                        ]
                      },
                      {
                        "passed_time": 93.25277804,
                        "iteration": 829,
                        "remaining_time": 19.09996659,
                        "learn": [
                          0.2555370406
                        ]
                      },
                      {
                        "passed_time": 93.35623421,
                        "iteration": 830,
                        "remaining_time": 18.98580455,
                        "learn": [
                          0.2555310963
                        ]
                      },
                      {
                        "passed_time": 93.46594075,
                        "iteration": 831,
                        "remaining_time": 18.87293034,
                        "learn": [
                          0.2555221204
                        ]
                      },
                      {
                        "passed_time": 93.56846573,
                        "iteration": 832,
                        "remaining_time": 18.75862398,
                        "learn": [
                          0.255513435
                        ]
                      },
                      {
                        "passed_time": 93.6770871,
                        "iteration": 833,
                        "remaining_time": 18.6455593,
                        "learn": [
                          0.2555028032
                        ]
                      },
                      {
                        "passed_time": 93.84443404,
                        "iteration": 834,
                        "remaining_time": 18.54410972,
                        "learn": [
                          0.2554910396
                        ]
                      },
                      {
                        "passed_time": 93.95604061,
                        "iteration": 835,
                        "remaining_time": 18.43156778,
                        "learn": [
                          0.2554840558
                        ]
                      },
                      {
                        "passed_time": 94.06349908,
                        "iteration": 836,
                        "remaining_time": 18.31822025,
                        "learn": [
                          0.2554769344
                        ]
                      },
                      {
                        "passed_time": 94.17825226,
                        "iteration": 837,
                        "remaining_time": 18.20629698,
                        "learn": [
                          0.2554677762
                        ]
                      },
                      {
                        "passed_time": 94.29004273,
                        "iteration": 838,
                        "remaining_time": 18.09379843,
                        "learn": [
                          0.2554608396
                        ]
                      },
                      {
                        "passed_time": 94.401612,
                        "iteration": 839,
                        "remaining_time": 17.98125943,
                        "learn": [
                          0.2554514389
                        ]
                      },
                      {
                        "passed_time": 94.50756155,
                        "iteration": 840,
                        "remaining_time": 17.86766027,
                        "learn": [
                          0.2554436691
                        ]
                      },
                      {
                        "passed_time": 94.61295309,
                        "iteration": 841,
                        "remaining_time": 17.75397457,
                        "learn": [
                          0.2554339806
                        ]
                      },
                      {
                        "passed_time": 94.72299654,
                        "iteration": 842,
                        "remaining_time": 17.64117492,
                        "learn": [
                          0.2554283143
                        ]
                      },
                      {
                        "passed_time": 94.88316123,
                        "iteration": 843,
                        "remaining_time": 17.53764592,
                        "learn": [
                          0.2554192254
                        ]
                      },
                      {
                        "passed_time": 94.99174992,
                        "iteration": 844,
                        "remaining_time": 17.42452217,
                        "learn": [
                          0.25540842
                        ]
                      },
                      {
                        "passed_time": 95.1004536,
                        "iteration": 845,
                        "remaining_time": 17.31143009,
                        "learn": [
                          0.2553979026
                        ]
                      },
                      {
                        "passed_time": 95.21781305,
                        "iteration": 846,
                        "remaining_time": 17.19991192,
                        "learn": [
                          0.2553903983
                        ]
                      },
                      {
                        "passed_time": 95.32507237,
                        "iteration": 847,
                        "remaining_time": 17.08656958,
                        "learn": [
                          0.2553839107
                        ]
                      },
                      {
                        "passed_time": 95.43143372,
                        "iteration": 848,
                        "remaining_time": 16.97308185,
                        "learn": [
                          0.2553770481
                        ]
                      },
                      {
                        "passed_time": 95.54165631,
                        "iteration": 849,
                        "remaining_time": 16.86029229,
                        "learn": [
                          0.2553664041
                        ]
                      },
                      {
                        "passed_time": 95.64810665,
                        "iteration": 850,
                        "remaining_time": 16.74684828,
                        "learn": [
                          0.2553545493
                        ]
                      },
                      {
                        "passed_time": 95.75548517,
                        "iteration": 851,
                        "remaining_time": 16.63358193,
                        "learn": [
                          0.255347335
                        ]
                      },
                      {
                        "passed_time": 95.92271982,
                        "iteration": 852,
                        "remaining_time": 16.53064456,
                        "learn": [
                          0.2553428592
                        ]
                      },
                      {
                        "passed_time": 96.02893287,
                        "iteration": 853,
                        "remaining_time": 16.41712435,
                        "learn": [
                          0.2553385914
                        ]
                      },
                      {
                        "passed_time": 96.13362731,
                        "iteration": 854,
                        "remaining_time": 16.3033637,
                        "learn": [
                          0.2553317296
                        ]
                      },
                      {
                        "passed_time": 96.25200532,
                        "iteration": 855,
                        "remaining_time": 16.19192613,
                        "learn": [
                          0.2553176183
                        ]
                      },
                      {
                        "passed_time": 96.35934165,
                        "iteration": 856,
                        "remaining_time": 16.07862994,
                        "learn": [
                          0.2553089792
                        ]
                      },
                      {
                        "passed_time": 96.47334262,
                        "iteration": 857,
                        "remaining_time": 15.96645064,
                        "learn": [
                          0.2552975573
                        ]
                      },
                      {
                        "passed_time": 96.5796612,
                        "iteration": 858,
                        "remaining_time": 15.85300609,
                        "learn": [
                          0.2552876081
                        ]
                      },
                      {
                        "passed_time": 96.68834406,
                        "iteration": 859,
                        "remaining_time": 15.73996299,
                        "learn": [
                          0.2552781983
                        ]
                      },
                      {
                        "passed_time": 96.797754,
                        "iteration": 860,
                        "remaining_time": 15.62704739,
                        "learn": [
                          0.2552734841
                        ]
                      },
                      {
                        "passed_time": 96.96318707,
                        "iteration": 861,
                        "remaining_time": 15.52310883,
                        "learn": [
                          0.2552689253
                        ]
                      },
                      {
                        "passed_time": 97.07417329,
                        "iteration": 862,
                        "remaining_time": 15.4103844,
                        "learn": [
                          0.255257445
                        ]
                      },
                      {
                        "passed_time": 97.20085385,
                        "iteration": 863,
                        "remaining_time": 15.3001344,
                        "learn": [
                          0.2552504858
                        ]
                      },
                      {
                        "passed_time": 97.31164883,
                        "iteration": 864,
                        "remaining_time": 15.18736716,
                        "learn": [
                          0.2552430124
                        ]
                      },
                      {
                        "passed_time": 97.41829783,
                        "iteration": 865,
                        "remaining_time": 15.07396294,
                        "learn": [
                          0.2552307481
                        ]
                      },
                      {
                        "passed_time": 97.52711765,
                        "iteration": 866,
                        "remaining_time": 14.96090732,
                        "learn": [
                          0.2552181555
                        ]
                      },
                      {
                        "passed_time": 97.63559572,
                        "iteration": 867,
                        "remaining_time": 14.84780949,
                        "learn": [
                          0.255207521
                        ]
                      },
                      {
                        "passed_time": 97.7398651,
                        "iteration": 868,
                        "remaining_time": 14.73408783,
                        "learn": [
                          0.2552023906
                        ]
                      },
                      {
                        "passed_time": 97.85791046,
                        "iteration": 869,
                        "remaining_time": 14.62244639,
                        "learn": [
                          0.255192712
                        ]
                      },
                      {
                        "passed_time": 98.01700815,
                        "iteration": 870,
                        "remaining_time": 14.51687032,
                        "learn": [
                          0.2551854526
                        ]
                      },
                      {
                        "passed_time": 98.12508034,
                        "iteration": 871,
                        "remaining_time": 14.40368152,
                        "learn": [
                          0.2551785958
                        ]
                      },
                      {
                        "passed_time": 98.2321105,
                        "iteration": 872,
                        "remaining_time": 14.29035284,
                        "learn": [
                          0.2551725114
                        ]
                      },
                      {
                        "passed_time": 98.35418935,
                        "iteration": 873,
                        "remaining_time": 14.17920808,
                        "learn": [
                          0.2551658118
                        ]
                      },
                      {
                        "passed_time": 98.4610817,
                        "iteration": 874,
                        "remaining_time": 14.06586881,
                        "learn": [
                          0.2551554342
                        ]
                      },
                      {
                        "passed_time": 98.56806657,
                        "iteration": 875,
                        "remaining_time": 13.95255737,
                        "learn": [
                          0.2551518098
                        ]
                      },
                      {
                        "passed_time": 98.67584988,
                        "iteration": 876,
                        "remaining_time": 13.83937233,
                        "learn": [
                          0.2551440055
                        ]
                      },
                      {
                        "passed_time": 98.78219028,
                        "iteration": 877,
                        "remaining_time": 13.7259991,
                        "learn": [
                          0.2551368256
                        ]
                      },
                      {
                        "passed_time": 98.88320005,
                        "iteration": 878,
                        "remaining_time": 13.61190808,
                        "learn": [
                          0.2551331461
                        ]
                      },
                      {
                        "passed_time": 99.04344887,
                        "iteration": 879,
                        "remaining_time": 13.50592485,
                        "learn": [
                          0.2551253134
                        ]
                      },
                      {
                        "passed_time": 99.150028,
                        "iteration": 880,
                        "remaining_time": 13.39256905,
                        "learn": [
                          0.2551194816
                        ]
                      },
                      {
                        "passed_time": 99.2545059,
                        "iteration": 881,
                        "remaining_time": 13.2789475,
                        "learn": [
                          0.2551133929
                        ]
                      },
                      {
                        "passed_time": 99.36338654,
                        "iteration": 882,
                        "remaining_time": 13.16593004,
                        "learn": [
                          0.2551018184
                        ]
                      },
                      {
                        "passed_time": 99.47513159,
                        "iteration": 883,
                        "remaining_time": 13.05329781,
                        "learn": [
                          0.2550965256
                        ]
                      },
                      {
                        "passed_time": 99.58389733,
                        "iteration": 884,
                        "remaining_time": 12.94028044,
                        "learn": [
                          0.2550935399
                        ]
                      },
                      {
                        "passed_time": 99.68762616,
                        "iteration": 885,
                        "remaining_time": 12.82662458,
                        "learn": [
                          0.2550840826
                        ]
                      },
                      {
                        "passed_time": 99.79411476,
                        "iteration": 886,
                        "remaining_time": 12.71334269,
                        "learn": [
                          0.2550778699
                        ]
                      },
                      {
                        "passed_time": 99.89745738,
                        "iteration": 887,
                        "remaining_time": 12.59967931,
                        "learn": [
                          0.2550745695
                        ]
                      },
                      {
                        "passed_time": 100.0602944,
                        "iteration": 888,
                        "remaining_time": 12.49346758,
                        "learn": [
                          0.2550710551
                        ]
                      },
                      {
                        "passed_time": 100.1680097,
                        "iteration": 889,
                        "remaining_time": 12.3803158,
                        "learn": [
                          0.2550632577
                        ]
                      },
                      {
                        "passed_time": 100.2827326,
                        "iteration": 890,
                        "remaining_time": 12.26803351,
                        "learn": [
                          0.2550583056
                        ]
                      },
                      {
                        "passed_time": 100.3881609,
                        "iteration": 891,
                        "remaining_time": 12.15462038,
                        "learn": [
                          0.2550513518
                        ]
                      },
                      {
                        "passed_time": 100.4951685,
                        "iteration": 892,
                        "remaining_time": 12.04141437,
                        "learn": [
                          0.2550443768
                        ]
                      },
                      {
                        "passed_time": 100.5974768,
                        "iteration": 893,
                        "remaining_time": 11.92766503,
                        "learn": [
                          0.2550377848
                        ]
                      },
                      {
                        "passed_time": 100.7009654,
                        "iteration": 894,
                        "remaining_time": 11.81407974,
                        "learn": [
                          0.2550337956
                        ]
                      },
                      {
                        "passed_time": 100.8112889,
                        "iteration": 895,
                        "remaining_time": 11.70131032,
                        "learn": [
                          0.2550263175
                        ]
                      },
                      {
                        "passed_time": 100.9270496,
                        "iteration": 896,
                        "remaining_time": 11.58917069,
                        "learn": [
                          0.2550218782
                        ]
                      },
                      {
                        "passed_time": 101.0566072,
                        "iteration": 897,
                        "remaining_time": 11.47859012,
                        "learn": [
                          0.2550171751
                        ]
                      },
                      {
                        "passed_time": 101.1835782,
                        "iteration": 898,
                        "remaining_time": 11.36767675,
                        "learn": [
                          0.2550086304
                        ]
                      },
                      {
                        "passed_time": 101.2944592,
                        "iteration": 899,
                        "remaining_time": 11.25493991,
                        "learn": [
                          0.2549997772
                        ]
                      },
                      {
                        "passed_time": 101.398429,
                        "iteration": 900,
                        "remaining_time": 11.14144781,
                        "learn": [
                          0.2549947458
                        ]
                      },
                      {
                        "passed_time": 101.5113985,
                        "iteration": 901,
                        "remaining_time": 11.02895461,
                        "learn": [
                          0.254982882
                        ]
                      },
                      {
                        "passed_time": 101.6222589,
                        "iteration": 902,
                        "remaining_time": 10.9162338,
                        "learn": [
                          0.2549773839
                        ]
                      },
                      {
                        "passed_time": 101.7236864,
                        "iteration": 903,
                        "remaining_time": 10.80251537,
                        "learn": [
                          0.2549706085
                        ]
                      },
                      {
                        "passed_time": 101.8351916,
                        "iteration": 904,
                        "remaining_time": 10.68988199,
                        "learn": [
                          0.2549571949
                        ]
                      },
                      {
                        "passed_time": 101.9430049,
                        "iteration": 905,
                        "remaining_time": 10.57686806,
                        "learn": [
                          0.2549488327
                        ]
                      },
                      {
                        "passed_time": 102.0510568,
                        "iteration": 906,
                        "remaining_time": 10.46389006,
                        "learn": [
                          0.2549397539
                        ]
                      },
                      {
                        "passed_time": 102.2261194,
                        "iteration": 907,
                        "remaining_time": 10.35771254,
                        "learn": [
                          0.2549352401
                        ]
                      },
                      {
                        "passed_time": 102.3396757,
                        "iteration": 908,
                        "remaining_time": 10.24522606,
                        "learn": [
                          0.254926534
                        ]
                      },
                      {
                        "passed_time": 102.4462097,
                        "iteration": 909,
                        "remaining_time": 10.13204272,
                        "learn": [
                          0.2549203604
                        ]
                      },
                      {
                        "passed_time": 102.5537454,
                        "iteration": 910,
                        "remaining_time": 10.01897183,
                        "learn": [
                          0.254911506
                        ]
                      },
                      {
                        "passed_time": 102.6607477,
                        "iteration": 911,
                        "remaining_time": 9.905861623,
                        "learn": [
                          0.254908068
                        ]
                      },
                      {
                        "passed_time": 102.7671875,
                        "iteration": 912,
                        "remaining_time": 9.792711184,
                        "learn": [
                          0.254901541
                        ]
                      },
                      {
                        "passed_time": 102.8852783,
                        "iteration": 913,
                        "remaining_time": 9.680671698,
                        "learn": [
                          0.2548891472
                        ]
                      },
                      {
                        "passed_time": 102.9916496,
                        "iteration": 914,
                        "remaining_time": 9.567530291,
                        "learn": [
                          0.2548783338
                        ]
                      },
                      {
                        "passed_time": 103.0999653,
                        "iteration": 915,
                        "remaining_time": 9.454581968,
                        "learn": [
                          0.2548685245
                        ]
                      },
                      {
                        "passed_time": 103.2668129,
                        "iteration": 916,
                        "remaining_time": 9.346941628,
                        "learn": [
                          0.2548603333
                        ]
                      },
                      {
                        "passed_time": 103.3812368,
                        "iteration": 917,
                        "remaining_time": 9.234489565,
                        "learn": [
                          0.2548545632
                        ]
                      },
                      {
                        "passed_time": 103.4841041,
                        "iteration": 918,
                        "remaining_time": 9.121014616,
                        "learn": [
                          0.2548508272
                        ]
                      },
                      {
                        "passed_time": 103.5909686,
                        "iteration": 919,
                        "remaining_time": 9.007910313,
                        "learn": [
                          0.2548421813
                        ]
                      },
                      {
                        "passed_time": 103.697278,
                        "iteration": 920,
                        "remaining_time": 8.894771946,
                        "learn": [
                          0.2548327373
                        ]
                      },
                      {
                        "passed_time": 103.8023338,
                        "iteration": 921,
                        "remaining_time": 8.781542336,
                        "learn": [
                          0.254826343
                        ]
                      },
                      {
                        "passed_time": 103.9034824,
                        "iteration": 922,
                        "remaining_time": 8.668004494,
                        "learn": [
                          0.2548202955
                        ]
                      },
                      {
                        "passed_time": 104.0057764,
                        "iteration": 923,
                        "remaining_time": 8.554587666,
                        "learn": [
                          0.2548105552
                        ]
                      },
                      {
                        "passed_time": 104.1088026,
                        "iteration": 924,
                        "remaining_time": 8.441254264,
                        "learn": [
                          0.2548066911
                        ]
                      },
                      {
                        "passed_time": 104.2679149,
                        "iteration": 925,
                        "remaining_time": 8.332425166,
                        "learn": [
                          0.2547955028
                        ]
                      },
                      {
                        "passed_time": 104.3899583,
                        "iteration": 926,
                        "remaining_time": 8.220568456,
                        "learn": [
                          0.2547866217
                        ]
                      },
                      {
                        "passed_time": 104.4928789,
                        "iteration": 927,
                        "remaining_time": 8.107206124,
                        "learn": [
                          0.2547830331
                        ]
                      },
                      {
                        "passed_time": 104.6004466,
                        "iteration": 928,
                        "remaining_time": 7.994221433,
                        "learn": [
                          0.2547717482
                        ]
                      },
                      {
                        "passed_time": 104.708375,
                        "iteration": 929,
                        "remaining_time": 7.881275535,
                        "learn": [
                          0.2547642399
                        ]
                      },
                      {
                        "passed_time": 104.8191606,
                        "iteration": 930,
                        "remaining_time": 7.76855218,
                        "learn": [
                          0.2547578801
                        ]
                      },
                      {
                        "passed_time": 104.9238674,
                        "iteration": 931,
                        "remaining_time": 7.655389464,
                        "learn": [
                          0.2547550295
                        ]
                      },
                      {
                        "passed_time": 105.0270862,
                        "iteration": 932,
                        "remaining_time": 7.542138026,
                        "learn": [
                          0.2547462367
                        ]
                      },
                      {
                        "passed_time": 105.1319092,
                        "iteration": 933,
                        "remaining_time": 7.42902142,
                        "learn": [
                          0.2547389052
                        ]
                      },
                      {
                        "passed_time": 105.2361933,
                        "iteration": 934,
                        "remaining_time": 7.315885098,
                        "learn": [
                          0.2547290802
                        ]
                      },
                      {
                        "passed_time": 105.4096317,
                        "iteration": 935,
                        "remaining_time": 7.207496182,
                        "learn": [
                          0.2547180922
                        ]
                      },
                      {
                        "passed_time": 105.5163766,
                        "iteration": 936,
                        "remaining_time": 7.094484234,
                        "learn": [
                          0.2547101372
                        ]
                      },
                      {
                        "passed_time": 105.6192362,
                        "iteration": 937,
                        "remaining_time": 6.981228835,
                        "learn": [
                          0.2546969779
                        ]
                      },
                      {
                        "passed_time": 105.7307021,
                        "iteration": 938,
                        "remaining_time": 6.868554665,
                        "learn": [
                          0.2546754062
                        ]
                      },
                      {
                        "passed_time": 105.8358598,
                        "iteration": 939,
                        "remaining_time": 6.755480416,
                        "learn": [
                          0.2546687236
                        ]
                      },
                      {
                        "passed_time": 105.9481278,
                        "iteration": 940,
                        "remaining_time": 6.642868798,
                        "learn": [
                          0.2546551656
                        ]
                      },
                      {
                        "passed_time": 106.0538084,
                        "iteration": 941,
                        "remaining_time": 6.529852319,
                        "learn": [
                          0.2546462014
                        ]
                      },
                      {
                        "passed_time": 106.1547608,
                        "iteration": 942,
                        "remaining_time": 6.416565607,
                        "learn": [
                          0.2546437654
                        ]
                      },
                      {
                        "passed_time": 106.257385,
                        "iteration": 943,
                        "remaining_time": 6.303404194,
                        "learn": [
                          0.2546368085
                        ]
                      },
                      {
                        "passed_time": 106.4780601,
                        "iteration": 944,
                        "remaining_time": 6.197135774,
                        "learn": [
                          0.2546272948
                        ]
                      },
                      {
                        "passed_time": 106.5814975,
                        "iteration": 945,
                        "remaining_time": 6.083933263,
                        "learn": [
                          0.2546232474
                        ]
                      },
                      {
                        "passed_time": 106.680083,
                        "iteration": 946,
                        "remaining_time": 5.970479831,
                        "learn": [
                          0.254612147
                        ]
                      },
                      {
                        "passed_time": 106.7838341,
                        "iteration": 947,
                        "remaining_time": 5.857341113,
                        "learn": [
                          0.254607334
                        ]
                      },
                      {
                        "passed_time": 106.8918379,
                        "iteration": 948,
                        "remaining_time": 5.74445072,
                        "learn": [
                          0.2545966782
                        ]
                      },
                      {
                        "passed_time": 106.9966417,
                        "iteration": 949,
                        "remaining_time": 5.631402192,
                        "learn": [
                          0.254590684
                        ]
                      },
                      {
                        "passed_time": 107.10511,
                        "iteration": 950,
                        "remaining_time": 5.518559821,
                        "learn": [
                          0.2545802076
                        ]
                      },
                      {
                        "passed_time": 107.2076751,
                        "iteration": 951,
                        "remaining_time": 5.405428997,
                        "learn": [
                          0.2545720274
                        ]
                      },
                      {
                        "passed_time": 107.3138554,
                        "iteration": 952,
                        "remaining_time": 5.292498642,
                        "learn": [
                          0.254564782
                        ]
                      },
                      {
                        "passed_time": 107.4467966,
                        "iteration": 953,
                        "remaining_time": 5.180872793,
                        "learn": [
                          0.2545637022
                        ]
                      },
                      {
                        "passed_time": 107.6081166,
                        "iteration": 954,
                        "remaining_time": 5.070539526,
                        "learn": [
                          0.2545553075
                        ]
                      },
                      {
                        "passed_time": 107.7139351,
                        "iteration": 955,
                        "remaining_time": 4.957545128,
                        "learn": [
                          0.2545458273
                        ]
                      },
                      {
                        "passed_time": 107.8175316,
                        "iteration": 956,
                        "remaining_time": 4.84446589,
                        "learn": [
                          0.25454039
                        ]
                      },
                      {
                        "passed_time": 107.9221651,
                        "iteration": 957,
                        "remaining_time": 4.731451914,
                        "learn": [
                          0.2545330653
                        ]
                      },
                      {
                        "passed_time": 108.0247298,
                        "iteration": 958,
                        "remaining_time": 4.618366966,
                        "learn": [
                          0.2545229257
                        ]
                      },
                      {
                        "passed_time": 108.1248859,
                        "iteration": 959,
                        "remaining_time": 4.50520358,
                        "learn": [
                          0.2545145041
                        ]
                      },
                      {
                        "passed_time": 108.2302406,
                        "iteration": 960,
                        "remaining_time": 4.392278234,
                        "learn": [
                          0.2544994479
                        ]
                      },
                      {
                        "passed_time": 108.3305795,
                        "iteration": 961,
                        "remaining_time": 4.2791705,
                        "learn": [
                          0.2544960849
                        ]
                      },
                      {
                        "passed_time": 108.4411598,
                        "iteration": 962,
                        "remaining_time": 4.166482775,
                        "learn": [
                          0.2544906093
                        ]
                      },
                      {
                        "passed_time": 108.588958,
                        "iteration": 963,
                        "remaining_time": 4.055189302,
                        "learn": [
                          0.2544809673
                        ]
                      },
                      {
                        "passed_time": 108.7212306,
                        "iteration": 964,
                        "remaining_time": 3.943257069,
                        "learn": [
                          0.2544718311
                        ]
                      },
                      {
                        "passed_time": 108.8294872,
                        "iteration": 965,
                        "remaining_time": 3.830437436,
                        "learn": [
                          0.2544632307
                        ]
                      },
                      {
                        "passed_time": 108.9377677,
                        "iteration": 966,
                        "remaining_time": 3.717628059,
                        "learn": [
                          0.2544534216
                        ]
                      },
                      {
                        "passed_time": 109.0450817,
                        "iteration": 967,
                        "remaining_time": 3.604796088,
                        "learn": [
                          0.2544447204
                        ]
                      },
                      {
                        "passed_time": 109.1541408,
                        "iteration": 968,
                        "remaining_time": 3.492031335,
                        "learn": [
                          0.2544355136
                        ]
                      },
                      {
                        "passed_time": 109.2573492,
                        "iteration": 969,
                        "remaining_time": 3.379093274,
                        "learn": [
                          0.254427646
                        ]
                      },
                      {
                        "passed_time": 109.3617351,
                        "iteration": 970,
                        "remaining_time": 3.266210421,
                        "learn": [
                          0.2544121008
                        ]
                      },
                      {
                        "passed_time": 109.476183,
                        "iteration": 971,
                        "remaining_time": 3.153634901,
                        "learn": [
                          0.2544025301
                        ]
                      },
                      {
                        "passed_time": 109.5840377,
                        "iteration": 972,
                        "remaining_time": 3.040872577,
                        "learn": [
                          0.2543978031
                        ]
                      },
                      {
                        "passed_time": 109.7416441,
                        "iteration": 973,
                        "remaining_time": 2.929448405,
                        "learn": [
                          0.2543892176
                        ]
                      },
                      {
                        "passed_time": 109.8497762,
                        "iteration": 974,
                        "remaining_time": 2.816660928,
                        "learn": [
                          0.2543794429
                        ]
                      },
                      {
                        "passed_time": 109.955501,
                        "iteration": 975,
                        "remaining_time": 2.703823795,
                        "learn": [
                          0.2543677645
                        ]
                      },
                      {
                        "passed_time": 110.0568424,
                        "iteration": 976,
                        "remaining_time": 2.59089803,
                        "learn": [
                          0.2543580169
                        ]
                      },
                      {
                        "passed_time": 110.1670527,
                        "iteration": 977,
                        "remaining_time": 2.47819546,
                        "learn": [
                          0.254350982
                        ]
                      },
                      {
                        "passed_time": 110.2740585,
                        "iteration": 978,
                        "remaining_time": 2.365429242,
                        "learn": [
                          0.2543412186
                        ]
                      },
                      {
                        "passed_time": 110.3917713,
                        "iteration": 979,
                        "remaining_time": 2.252893291,
                        "learn": [
                          0.2543340533
                        ]
                      },
                      {
                        "passed_time": 110.5060543,
                        "iteration": 980,
                        "remaining_time": 2.140280358,
                        "learn": [
                          0.2543254574
                        ]
                      },
                      {
                        "passed_time": 110.612528,
                        "iteration": 981,
                        "remaining_time": 2.02752088,
                        "learn": [
                          0.2543165537
                        ]
                      },
                      {
                        "passed_time": 110.7846394,
                        "iteration": 982,
                        "remaining_time": 1.915909328,
                        "learn": [
                          0.2543087297
                        ]
                      },
                      {
                        "passed_time": 110.8934158,
                        "iteration": 983,
                        "remaining_time": 1.803144972,
                        "learn": [
                          0.2542995074
                        ]
                      },
                      {
                        "passed_time": 110.9991849,
                        "iteration": 984,
                        "remaining_time": 1.690342917,
                        "learn": [
                          0.254290003
                        ]
                      },
                      {
                        "passed_time": 111.1010583,
                        "iteration": 985,
                        "remaining_time": 1.577499813,
                        "learn": [
                          0.254282561
                        ]
                      },
                      {
                        "passed_time": 111.2129146,
                        "iteration": 986,
                        "remaining_time": 1.464810425,
                        "learn": [
                          0.2542759641
                        ]
                      },
                      {
                        "passed_time": 111.3209782,
                        "iteration": 987,
                        "remaining_time": 1.352076658,
                        "learn": [
                          0.2542659167
                        ]
                      },
                      {
                        "passed_time": 111.4253789,
                        "iteration": 988,
                        "remaining_time": 1.239311596,
                        "learn": [
                          0.2542600874
                        ]
                      },
                      {
                        "passed_time": 111.5371178,
                        "iteration": 989,
                        "remaining_time": 1.126637554,
                        "learn": [
                          0.2542476686
                        ]
                      },
                      {
                        "passed_time": 111.6440182,
                        "iteration": 990,
                        "remaining_time": 1.013921457,
                        "learn": [
                          0.254238925
                        ]
                      },
                      {
                        "passed_time": 111.8179068,
                        "iteration": 991,
                        "remaining_time": 0.9017573127,
                        "learn": [
                          0.2542304402
                        ]
                      },
                      {
                        "passed_time": 111.9294145,
                        "iteration": 992,
                        "remaining_time": 0.7890291051,
                        "learn": [
                          0.2542248555
                        ]
                      },
                      {
                        "passed_time": 112.0369091,
                        "iteration": 993,
                        "remaining_time": 0.6762791292,
                        "learn": [
                          0.2542165317
                        ]
                      },
                      {
                        "passed_time": 112.1459442,
                        "iteration": 994,
                        "remaining_time": 0.5635474581,
                        "learn": [
                          0.2542082009
                        ]
                      },
                      {
                        "passed_time": 112.2535585,
                        "iteration": 995,
                        "remaining_time": 0.4508175039,
                        "learn": [
                          0.2542013411
                        ]
                      },
                      {
                        "passed_time": 112.3639626,
                        "iteration": 996,
                        "remaining_time": 0.3381062065,
                        "learn": [
                          0.2541916115
                        ]
                      },
                      {
                        "passed_time": 112.4803427,
                        "iteration": 997,
                        "remaining_time": 0.2254115084,
                        "learn": [
                          0.2541838659
                        ]
                      },
                      {
                        "passed_time": 112.5858898,
                        "iteration": 998,
                        "remaining_time": 0.1126985884,
                        "learn": [
                          0.2541776986
                        ]
                      },
                      {
                        "passed_time": 112.6937246,
                        "iteration": 999,
                        "remaining_time": 0,
                        "learn": [
                          0.2541713897
                        ]
                      }
                    ]
                  },
                  "total_iterations": 1000,
                  "passed_iterations": 999
                },
                "path": "catboost_info",
                "name": "catboost_info"
              }
            },
            "_view_module": "catboost-widget",
            "_model_module_version": "^1.0.0",
            "_view_count": null,
            "_view_module_version": "^1.0.0",
            "layout": "IPY_MODEL_03efc84e6de1429dbd8a7f398345659c",
            "_model_module": "catboost-widget"
          }
        }
      }
    }
  },
  "cells": [
    {
      "cell_type": "markdown",
      "metadata": {
        "id": "view-in-github",
        "colab_type": "text"
      },
      "source": [
        "<a href=\"https://colab.research.google.com/github/Muhamedirfan6/Cross_Sell_model/blob/main/Cross_up_Sell_Dummy.ipynb\" target=\"_parent\"><img src=\"https://colab.research.google.com/assets/colab-badge.svg\" alt=\"Open In Colab\"/></a>"
      ]
    },
    {
      "cell_type": "markdown",
      "metadata": {
        "id": "GBoOww9F3tVC"
      },
      "source": [
        "# **Cross-sell Prediction**\n",
        "\n",
        "---\n",
        "\n"
      ]
    },
    {
      "cell_type": "markdown",
      "metadata": {
        "id": "ri6NkD5q37jQ"
      },
      "source": [
        "### **Overview**\n",
        "Cross-selling identifies products or services that satisfy additional, complementary needs that are unfulfilled by the original product that a customer possesses. As an example, a mouse could be cross-sold to a customer purchasing a keyboard. Oftentimes, cross-selling points users to products they would have purchased anyways; by showing them at the right time, a store ensures they make the sale.\n",
        "Cross-selling is prevalent in various domains and industries including banks. For example, credit cards are cross-sold to people registering a savings account. In ecommerce, cross-selling is often utilized on product pages, during the checkout process, and in lifecycle campaigns. It is a highly-effective tactic for generating repeat purchases, demonstrating the breadth of a catalog to customers. Cross-selling can alert users to products they didn't previously know you offered, further earning their confidence as the best retailer to satisfy a particular need."
      ]
    },
    {
      "cell_type": "markdown",
      "metadata": {
        "id": "w6RQ4aci4kNU"
      },
      "source": [
        "### **Data columns definitions**\n",
        "Variable Definition id Unique ID for the customer Gender Gender of the customer Age\n",
        "Age of the customer\n",
        "Driving_License 0 : Customer does not have DL, 1 : Customer already has DL Region_Code Unique code for the region of the customer Previously_Insured 1 : Customer already has Vehicle Insurance, 0 : Customer doesn't have Vehicle Insurance Vehicle_Age Age of the Vehicle  Vehicle_Damage\n",
        "1 : Customer got his/her vehicle damaged in the past.\n",
        "0 : Customer didn't get his/her vehicle damaged in the past. Annual_Premium The amount customer needs to pay as premium in the year Policy_Sales_Channel Anonymised Code for the channel of outreaching to the customer ie. Different Agents, Over Mail, Over Phone, In Person, etc. Vintage Number of Days, Customer has been associated with the company Response 1 :  Customer is interested, 0 : Customer is not interested"
      ]
    },
    {
      "cell_type": "markdown",
      "metadata": {
        "id": "iXXAETmq4rBe"
      },
      "source": [
        "### **Importing Libraries**"
      ]
    },
    {
      "cell_type": "code",
      "metadata": {
        "id": "nIQmq3Va4zMY"
      },
      "source": [
        "import pandas as pd\n",
        "import numpy as np\n",
        "import matplotlib.pyplot as plt\n",
        "import seaborn as sns \n",
        "\n",
        "sns.set_style('darkgrid')\n"
      ],
      "execution_count": 1,
      "outputs": []
    },
    {
      "cell_type": "markdown",
      "metadata": {
        "id": "Ot5Xewv859vk"
      },
      "source": [
        "### **Data Collection**\n"
      ]
    },
    {
      "cell_type": "code",
      "metadata": {
        "colab": {
          "resources": {
            "http://localhost:8080/nbextensions/google.colab/files.js": {
              "data": "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",
              "ok": true,
              "headers": [
                [
                  "content-type",
                  "application/javascript"
                ]
              ],
              "status": 200,
              "status_text": ""
            }
          },
          "base_uri": "https://localhost:8080/",
          "height": 72
        },
        "id": "qLbnBOFq6HJA",
        "outputId": "2a02ce8c-a19e-4326-903d-474cb7293251"
      },
      "source": [
        "# Import files to colab from local disk\n",
        "from google.colab import files\n",
        "uploaded = files.upload()"
      ],
      "execution_count": 2,
      "outputs": [
        {
          "output_type": "display_data",
          "data": {
            "text/html": [
              "\n",
              "     <input type=\"file\" id=\"files-25f3b48b-5e0b-49e7-bf16-1fb668f09d31\" name=\"files[]\" multiple disabled\n",
              "        style=\"border:none\" />\n",
              "     <output id=\"result-25f3b48b-5e0b-49e7-bf16-1fb668f09d31\">\n",
              "      Upload widget is only available when the cell has been executed in the\n",
              "      current browser session. Please rerun this cell to enable.\n",
              "      </output>\n",
              "      <script src=\"/nbextensions/google.colab/files.js\"></script> "
            ],
            "text/plain": [
              "<IPython.core.display.HTML object>"
            ]
          },
          "metadata": {}
        },
        {
          "output_type": "stream",
          "text": [
            "Saving train.csv to train.csv\n"
          ],
          "name": "stdout"
        }
      ]
    },
    {
      "cell_type": "code",
      "metadata": {
        "colab": {
          "base_uri": "https://localhost:8080/",
          "height": 204
        },
        "id": "of4AzMQa6PUT",
        "outputId": "92bf7c04-b648-4bd8-8812-802362648603"
      },
      "source": [
        "# Loading data to colab \n",
        "data = pd.read_csv('train.csv')\n",
        "data.head()"
      ],
      "execution_count": 3,
      "outputs": [
        {
          "output_type": "execute_result",
          "data": {
            "text/html": [
              "<div>\n",
              "<style scoped>\n",
              "    .dataframe tbody tr th:only-of-type {\n",
              "        vertical-align: middle;\n",
              "    }\n",
              "\n",
              "    .dataframe tbody tr th {\n",
              "        vertical-align: top;\n",
              "    }\n",
              "\n",
              "    .dataframe thead th {\n",
              "        text-align: right;\n",
              "    }\n",
              "</style>\n",
              "<table border=\"1\" class=\"dataframe\">\n",
              "  <thead>\n",
              "    <tr style=\"text-align: right;\">\n",
              "      <th></th>\n",
              "      <th>id</th>\n",
              "      <th>Gender</th>\n",
              "      <th>Age</th>\n",
              "      <th>Driving_License</th>\n",
              "      <th>Region_Code</th>\n",
              "      <th>Previously_Insured</th>\n",
              "      <th>Vehicle_Age</th>\n",
              "      <th>Vehicle_Damage</th>\n",
              "      <th>Annual_Premium</th>\n",
              "      <th>Policy_Sales_Channel</th>\n",
              "      <th>Vintage</th>\n",
              "      <th>Response</th>\n",
              "    </tr>\n",
              "  </thead>\n",
              "  <tbody>\n",
              "    <tr>\n",
              "      <th>0</th>\n",
              "      <td>1</td>\n",
              "      <td>Male</td>\n",
              "      <td>44</td>\n",
              "      <td>1</td>\n",
              "      <td>28.0</td>\n",
              "      <td>0</td>\n",
              "      <td>&gt; 2 Years</td>\n",
              "      <td>Yes</td>\n",
              "      <td>40454.0</td>\n",
              "      <td>26.0</td>\n",
              "      <td>217</td>\n",
              "      <td>1</td>\n",
              "    </tr>\n",
              "    <tr>\n",
              "      <th>1</th>\n",
              "      <td>2</td>\n",
              "      <td>Male</td>\n",
              "      <td>76</td>\n",
              "      <td>1</td>\n",
              "      <td>3.0</td>\n",
              "      <td>0</td>\n",
              "      <td>1-2 Year</td>\n",
              "      <td>No</td>\n",
              "      <td>33536.0</td>\n",
              "      <td>26.0</td>\n",
              "      <td>183</td>\n",
              "      <td>0</td>\n",
              "    </tr>\n",
              "    <tr>\n",
              "      <th>2</th>\n",
              "      <td>3</td>\n",
              "      <td>Male</td>\n",
              "      <td>47</td>\n",
              "      <td>1</td>\n",
              "      <td>28.0</td>\n",
              "      <td>0</td>\n",
              "      <td>&gt; 2 Years</td>\n",
              "      <td>Yes</td>\n",
              "      <td>38294.0</td>\n",
              "      <td>26.0</td>\n",
              "      <td>27</td>\n",
              "      <td>1</td>\n",
              "    </tr>\n",
              "    <tr>\n",
              "      <th>3</th>\n",
              "      <td>4</td>\n",
              "      <td>Male</td>\n",
              "      <td>21</td>\n",
              "      <td>1</td>\n",
              "      <td>11.0</td>\n",
              "      <td>1</td>\n",
              "      <td>&lt; 1 Year</td>\n",
              "      <td>No</td>\n",
              "      <td>28619.0</td>\n",
              "      <td>152.0</td>\n",
              "      <td>203</td>\n",
              "      <td>0</td>\n",
              "    </tr>\n",
              "    <tr>\n",
              "      <th>4</th>\n",
              "      <td>5</td>\n",
              "      <td>Female</td>\n",
              "      <td>29</td>\n",
              "      <td>1</td>\n",
              "      <td>41.0</td>\n",
              "      <td>1</td>\n",
              "      <td>&lt; 1 Year</td>\n",
              "      <td>No</td>\n",
              "      <td>27496.0</td>\n",
              "      <td>152.0</td>\n",
              "      <td>39</td>\n",
              "      <td>0</td>\n",
              "    </tr>\n",
              "  </tbody>\n",
              "</table>\n",
              "</div>"
            ],
            "text/plain": [
              "   id  Gender  Age  ...  Policy_Sales_Channel  Vintage  Response\n",
              "0   1    Male   44  ...                  26.0      217         1\n",
              "1   2    Male   76  ...                  26.0      183         0\n",
              "2   3    Male   47  ...                  26.0       27         1\n",
              "3   4    Male   21  ...                 152.0      203         0\n",
              "4   5  Female   29  ...                 152.0       39         0\n",
              "\n",
              "[5 rows x 12 columns]"
            ]
          },
          "metadata": {},
          "execution_count": 3
        }
      ]
    },
    {
      "cell_type": "code",
      "metadata": {
        "colab": {
          "base_uri": "https://localhost:8080/",
          "height": 297
        },
        "id": "pOZZsjLE-07x",
        "outputId": "7e894543-cdd8-42bf-e2ad-2f8cb74582fe"
      },
      "source": [
        "#Description of the train data\n",
        "data.describe()"
      ],
      "execution_count": 4,
      "outputs": [
        {
          "output_type": "execute_result",
          "data": {
            "text/html": [
              "<div>\n",
              "<style scoped>\n",
              "    .dataframe tbody tr th:only-of-type {\n",
              "        vertical-align: middle;\n",
              "    }\n",
              "\n",
              "    .dataframe tbody tr th {\n",
              "        vertical-align: top;\n",
              "    }\n",
              "\n",
              "    .dataframe thead th {\n",
              "        text-align: right;\n",
              "    }\n",
              "</style>\n",
              "<table border=\"1\" class=\"dataframe\">\n",
              "  <thead>\n",
              "    <tr style=\"text-align: right;\">\n",
              "      <th></th>\n",
              "      <th>id</th>\n",
              "      <th>Age</th>\n",
              "      <th>Driving_License</th>\n",
              "      <th>Region_Code</th>\n",
              "      <th>Previously_Insured</th>\n",
              "      <th>Annual_Premium</th>\n",
              "      <th>Policy_Sales_Channel</th>\n",
              "      <th>Vintage</th>\n",
              "      <th>Response</th>\n",
              "    </tr>\n",
              "  </thead>\n",
              "  <tbody>\n",
              "    <tr>\n",
              "      <th>count</th>\n",
              "      <td>381109.000000</td>\n",
              "      <td>381109.000000</td>\n",
              "      <td>381109.000000</td>\n",
              "      <td>381109.000000</td>\n",
              "      <td>381109.000000</td>\n",
              "      <td>381109.000000</td>\n",
              "      <td>381109.000000</td>\n",
              "      <td>381109.000000</td>\n",
              "      <td>381109.000000</td>\n",
              "    </tr>\n",
              "    <tr>\n",
              "      <th>mean</th>\n",
              "      <td>190555.000000</td>\n",
              "      <td>38.822584</td>\n",
              "      <td>0.997869</td>\n",
              "      <td>26.388807</td>\n",
              "      <td>0.458210</td>\n",
              "      <td>30564.389581</td>\n",
              "      <td>112.034295</td>\n",
              "      <td>154.347397</td>\n",
              "      <td>0.122563</td>\n",
              "    </tr>\n",
              "    <tr>\n",
              "      <th>std</th>\n",
              "      <td>110016.836208</td>\n",
              "      <td>15.511611</td>\n",
              "      <td>0.046110</td>\n",
              "      <td>13.229888</td>\n",
              "      <td>0.498251</td>\n",
              "      <td>17213.155057</td>\n",
              "      <td>54.203995</td>\n",
              "      <td>83.671304</td>\n",
              "      <td>0.327936</td>\n",
              "    </tr>\n",
              "    <tr>\n",
              "      <th>min</th>\n",
              "      <td>1.000000</td>\n",
              "      <td>20.000000</td>\n",
              "      <td>0.000000</td>\n",
              "      <td>0.000000</td>\n",
              "      <td>0.000000</td>\n",
              "      <td>2630.000000</td>\n",
              "      <td>1.000000</td>\n",
              "      <td>10.000000</td>\n",
              "      <td>0.000000</td>\n",
              "    </tr>\n",
              "    <tr>\n",
              "      <th>25%</th>\n",
              "      <td>95278.000000</td>\n",
              "      <td>25.000000</td>\n",
              "      <td>1.000000</td>\n",
              "      <td>15.000000</td>\n",
              "      <td>0.000000</td>\n",
              "      <td>24405.000000</td>\n",
              "      <td>29.000000</td>\n",
              "      <td>82.000000</td>\n",
              "      <td>0.000000</td>\n",
              "    </tr>\n",
              "    <tr>\n",
              "      <th>50%</th>\n",
              "      <td>190555.000000</td>\n",
              "      <td>36.000000</td>\n",
              "      <td>1.000000</td>\n",
              "      <td>28.000000</td>\n",
              "      <td>0.000000</td>\n",
              "      <td>31669.000000</td>\n",
              "      <td>133.000000</td>\n",
              "      <td>154.000000</td>\n",
              "      <td>0.000000</td>\n",
              "    </tr>\n",
              "    <tr>\n",
              "      <th>75%</th>\n",
              "      <td>285832.000000</td>\n",
              "      <td>49.000000</td>\n",
              "      <td>1.000000</td>\n",
              "      <td>35.000000</td>\n",
              "      <td>1.000000</td>\n",
              "      <td>39400.000000</td>\n",
              "      <td>152.000000</td>\n",
              "      <td>227.000000</td>\n",
              "      <td>0.000000</td>\n",
              "    </tr>\n",
              "    <tr>\n",
              "      <th>max</th>\n",
              "      <td>381109.000000</td>\n",
              "      <td>85.000000</td>\n",
              "      <td>1.000000</td>\n",
              "      <td>52.000000</td>\n",
              "      <td>1.000000</td>\n",
              "      <td>540165.000000</td>\n",
              "      <td>163.000000</td>\n",
              "      <td>299.000000</td>\n",
              "      <td>1.000000</td>\n",
              "    </tr>\n",
              "  </tbody>\n",
              "</table>\n",
              "</div>"
            ],
            "text/plain": [
              "                  id            Age  ...        Vintage       Response\n",
              "count  381109.000000  381109.000000  ...  381109.000000  381109.000000\n",
              "mean   190555.000000      38.822584  ...     154.347397       0.122563\n",
              "std    110016.836208      15.511611  ...      83.671304       0.327936\n",
              "min         1.000000      20.000000  ...      10.000000       0.000000\n",
              "25%     95278.000000      25.000000  ...      82.000000       0.000000\n",
              "50%    190555.000000      36.000000  ...     154.000000       0.000000\n",
              "75%    285832.000000      49.000000  ...     227.000000       0.000000\n",
              "max    381109.000000      85.000000  ...     299.000000       1.000000\n",
              "\n",
              "[8 rows x 9 columns]"
            ]
          },
          "metadata": {},
          "execution_count": 4
        }
      ]
    },
    {
      "cell_type": "code",
      "metadata": {
        "colab": {
          "resources": {
            "http://localhost:8080/nbextensions/google.colab/files.js": {
              "data": "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",
              "ok": true,
              "headers": [
                [
                  "content-type",
                  "application/javascript"
                ]
              ],
              "status": 200,
              "status_text": ""
            }
          },
          "base_uri": "https://localhost:8080/",
          "height": 72
        },
        "id": "tNk2FhSX-7xd",
        "outputId": "c55b28e0-4cd8-4db8-ca4f-7375c36cd98e"
      },
      "source": [
        "# Importing test data to colab from local file\n",
        "from google.colab import files\n",
        "uploaded = files.upload()"
      ],
      "execution_count": 5,
      "outputs": [
        {
          "output_type": "display_data",
          "data": {
            "text/html": [
              "\n",
              "     <input type=\"file\" id=\"files-2d85a6e3-0201-4963-8bc2-3b4cbf2154d8\" name=\"files[]\" multiple disabled\n",
              "        style=\"border:none\" />\n",
              "     <output id=\"result-2d85a6e3-0201-4963-8bc2-3b4cbf2154d8\">\n",
              "      Upload widget is only available when the cell has been executed in the\n",
              "      current browser session. Please rerun this cell to enable.\n",
              "      </output>\n",
              "      <script src=\"/nbextensions/google.colab/files.js\"></script> "
            ],
            "text/plain": [
              "<IPython.core.display.HTML object>"
            ]
          },
          "metadata": {}
        },
        {
          "output_type": "stream",
          "text": [
            "Saving test.csv to test.csv\n"
          ],
          "name": "stdout"
        }
      ]
    },
    {
      "cell_type": "code",
      "metadata": {
        "id": "pJLBVScR_SVw",
        "colab": {
          "base_uri": "https://localhost:8080/",
          "height": 204
        },
        "outputId": "18f47fc8-c94c-4ea7-9d88-fa1e9c48e56a"
      },
      "source": [
        "# Loading test data \n",
        "test_data = pd.read_csv('test.csv')\n",
        "test_data.head()"
      ],
      "execution_count": 6,
      "outputs": [
        {
          "output_type": "execute_result",
          "data": {
            "text/html": [
              "<div>\n",
              "<style scoped>\n",
              "    .dataframe tbody tr th:only-of-type {\n",
              "        vertical-align: middle;\n",
              "    }\n",
              "\n",
              "    .dataframe tbody tr th {\n",
              "        vertical-align: top;\n",
              "    }\n",
              "\n",
              "    .dataframe thead th {\n",
              "        text-align: right;\n",
              "    }\n",
              "</style>\n",
              "<table border=\"1\" class=\"dataframe\">\n",
              "  <thead>\n",
              "    <tr style=\"text-align: right;\">\n",
              "      <th></th>\n",
              "      <th>id</th>\n",
              "      <th>Gender</th>\n",
              "      <th>Age</th>\n",
              "      <th>Driving_License</th>\n",
              "      <th>Region_Code</th>\n",
              "      <th>Previously_Insured</th>\n",
              "      <th>Vehicle_Age</th>\n",
              "      <th>Vehicle_Damage</th>\n",
              "      <th>Annual_Premium</th>\n",
              "      <th>Policy_Sales_Channel</th>\n",
              "      <th>Vintage</th>\n",
              "    </tr>\n",
              "  </thead>\n",
              "  <tbody>\n",
              "    <tr>\n",
              "      <th>0</th>\n",
              "      <td>381110</td>\n",
              "      <td>Male</td>\n",
              "      <td>25</td>\n",
              "      <td>1</td>\n",
              "      <td>11.0</td>\n",
              "      <td>1</td>\n",
              "      <td>&lt; 1 Year</td>\n",
              "      <td>No</td>\n",
              "      <td>35786.0</td>\n",
              "      <td>152.0</td>\n",
              "      <td>53</td>\n",
              "    </tr>\n",
              "    <tr>\n",
              "      <th>1</th>\n",
              "      <td>381111</td>\n",
              "      <td>Male</td>\n",
              "      <td>40</td>\n",
              "      <td>1</td>\n",
              "      <td>28.0</td>\n",
              "      <td>0</td>\n",
              "      <td>1-2 Year</td>\n",
              "      <td>Yes</td>\n",
              "      <td>33762.0</td>\n",
              "      <td>7.0</td>\n",
              "      <td>111</td>\n",
              "    </tr>\n",
              "    <tr>\n",
              "      <th>2</th>\n",
              "      <td>381112</td>\n",
              "      <td>Male</td>\n",
              "      <td>47</td>\n",
              "      <td>1</td>\n",
              "      <td>28.0</td>\n",
              "      <td>0</td>\n",
              "      <td>1-2 Year</td>\n",
              "      <td>Yes</td>\n",
              "      <td>40050.0</td>\n",
              "      <td>124.0</td>\n",
              "      <td>199</td>\n",
              "    </tr>\n",
              "    <tr>\n",
              "      <th>3</th>\n",
              "      <td>381113</td>\n",
              "      <td>Male</td>\n",
              "      <td>24</td>\n",
              "      <td>1</td>\n",
              "      <td>27.0</td>\n",
              "      <td>1</td>\n",
              "      <td>&lt; 1 Year</td>\n",
              "      <td>Yes</td>\n",
              "      <td>37356.0</td>\n",
              "      <td>152.0</td>\n",
              "      <td>187</td>\n",
              "    </tr>\n",
              "    <tr>\n",
              "      <th>4</th>\n",
              "      <td>381114</td>\n",
              "      <td>Male</td>\n",
              "      <td>27</td>\n",
              "      <td>1</td>\n",
              "      <td>28.0</td>\n",
              "      <td>1</td>\n",
              "      <td>&lt; 1 Year</td>\n",
              "      <td>No</td>\n",
              "      <td>59097.0</td>\n",
              "      <td>152.0</td>\n",
              "      <td>297</td>\n",
              "    </tr>\n",
              "  </tbody>\n",
              "</table>\n",
              "</div>"
            ],
            "text/plain": [
              "       id Gender  Age  ...  Annual_Premium  Policy_Sales_Channel  Vintage\n",
              "0  381110   Male   25  ...         35786.0                 152.0       53\n",
              "1  381111   Male   40  ...         33762.0                   7.0      111\n",
              "2  381112   Male   47  ...         40050.0                 124.0      199\n",
              "3  381113   Male   24  ...         37356.0                 152.0      187\n",
              "4  381114   Male   27  ...         59097.0                 152.0      297\n",
              "\n",
              "[5 rows x 11 columns]"
            ]
          },
          "metadata": {},
          "execution_count": 6
        }
      ]
    },
    {
      "cell_type": "code",
      "metadata": {
        "id": "gNU6WrG7At3o",
        "colab": {
          "base_uri": "https://localhost:8080/",
          "height": 297
        },
        "outputId": "1cd2c173-626f-4a23-8810-ede547473efe"
      },
      "source": [
        "#Description of the test data\n",
        "test_data.describe()"
      ],
      "execution_count": 7,
      "outputs": [
        {
          "output_type": "execute_result",
          "data": {
            "text/html": [
              "<div>\n",
              "<style scoped>\n",
              "    .dataframe tbody tr th:only-of-type {\n",
              "        vertical-align: middle;\n",
              "    }\n",
              "\n",
              "    .dataframe tbody tr th {\n",
              "        vertical-align: top;\n",
              "    }\n",
              "\n",
              "    .dataframe thead th {\n",
              "        text-align: right;\n",
              "    }\n",
              "</style>\n",
              "<table border=\"1\" class=\"dataframe\">\n",
              "  <thead>\n",
              "    <tr style=\"text-align: right;\">\n",
              "      <th></th>\n",
              "      <th>id</th>\n",
              "      <th>Age</th>\n",
              "      <th>Driving_License</th>\n",
              "      <th>Region_Code</th>\n",
              "      <th>Previously_Insured</th>\n",
              "      <th>Annual_Premium</th>\n",
              "      <th>Policy_Sales_Channel</th>\n",
              "      <th>Vintage</th>\n",
              "    </tr>\n",
              "  </thead>\n",
              "  <tbody>\n",
              "    <tr>\n",
              "      <th>count</th>\n",
              "      <td>127037.000000</td>\n",
              "      <td>127037.000000</td>\n",
              "      <td>127037.000000</td>\n",
              "      <td>127037.000000</td>\n",
              "      <td>127037.000000</td>\n",
              "      <td>127037.000000</td>\n",
              "      <td>127037.000000</td>\n",
              "      <td>127037.000000</td>\n",
              "    </tr>\n",
              "    <tr>\n",
              "      <th>mean</th>\n",
              "      <td>444628.000000</td>\n",
              "      <td>38.765903</td>\n",
              "      <td>0.998134</td>\n",
              "      <td>26.459866</td>\n",
              "      <td>0.460039</td>\n",
              "      <td>30524.643576</td>\n",
              "      <td>111.800468</td>\n",
              "      <td>154.318301</td>\n",
              "    </tr>\n",
              "    <tr>\n",
              "      <th>std</th>\n",
              "      <td>36672.567411</td>\n",
              "      <td>15.465814</td>\n",
              "      <td>0.043152</td>\n",
              "      <td>13.209916</td>\n",
              "      <td>0.498403</td>\n",
              "      <td>16945.297103</td>\n",
              "      <td>54.371765</td>\n",
              "      <td>83.661588</td>\n",
              "    </tr>\n",
              "    <tr>\n",
              "      <th>min</th>\n",
              "      <td>381110.000000</td>\n",
              "      <td>20.000000</td>\n",
              "      <td>0.000000</td>\n",
              "      <td>0.000000</td>\n",
              "      <td>0.000000</td>\n",
              "      <td>2630.000000</td>\n",
              "      <td>1.000000</td>\n",
              "      <td>10.000000</td>\n",
              "    </tr>\n",
              "    <tr>\n",
              "      <th>25%</th>\n",
              "      <td>412869.000000</td>\n",
              "      <td>25.000000</td>\n",
              "      <td>1.000000</td>\n",
              "      <td>15.000000</td>\n",
              "      <td>0.000000</td>\n",
              "      <td>24325.000000</td>\n",
              "      <td>26.000000</td>\n",
              "      <td>82.000000</td>\n",
              "    </tr>\n",
              "    <tr>\n",
              "      <th>50%</th>\n",
              "      <td>444628.000000</td>\n",
              "      <td>36.000000</td>\n",
              "      <td>1.000000</td>\n",
              "      <td>28.000000</td>\n",
              "      <td>0.000000</td>\n",
              "      <td>31642.000000</td>\n",
              "      <td>135.000000</td>\n",
              "      <td>154.000000</td>\n",
              "    </tr>\n",
              "    <tr>\n",
              "      <th>75%</th>\n",
              "      <td>476387.000000</td>\n",
              "      <td>49.000000</td>\n",
              "      <td>1.000000</td>\n",
              "      <td>35.000000</td>\n",
              "      <td>1.000000</td>\n",
              "      <td>39408.000000</td>\n",
              "      <td>152.000000</td>\n",
              "      <td>227.000000</td>\n",
              "    </tr>\n",
              "    <tr>\n",
              "      <th>max</th>\n",
              "      <td>508146.000000</td>\n",
              "      <td>85.000000</td>\n",
              "      <td>1.000000</td>\n",
              "      <td>52.000000</td>\n",
              "      <td>1.000000</td>\n",
              "      <td>472042.000000</td>\n",
              "      <td>163.000000</td>\n",
              "      <td>299.000000</td>\n",
              "    </tr>\n",
              "  </tbody>\n",
              "</table>\n",
              "</div>"
            ],
            "text/plain": [
              "                  id            Age  ...  Policy_Sales_Channel        Vintage\n",
              "count  127037.000000  127037.000000  ...         127037.000000  127037.000000\n",
              "mean   444628.000000      38.765903  ...            111.800468     154.318301\n",
              "std     36672.567411      15.465814  ...             54.371765      83.661588\n",
              "min    381110.000000      20.000000  ...              1.000000      10.000000\n",
              "25%    412869.000000      25.000000  ...             26.000000      82.000000\n",
              "50%    444628.000000      36.000000  ...            135.000000     154.000000\n",
              "75%    476387.000000      49.000000  ...            152.000000     227.000000\n",
              "max    508146.000000      85.000000  ...            163.000000     299.000000\n",
              "\n",
              "[8 rows x 8 columns]"
            ]
          },
          "metadata": {},
          "execution_count": 7
        }
      ]
    },
    {
      "cell_type": "markdown",
      "metadata": {
        "id": "HmZjIw8SBB6m"
      },
      "source": [
        "### **Data Description**\n"
      ]
    },
    {
      "cell_type": "code",
      "metadata": {
        "id": "3YxteL70BjtO",
        "colab": {
          "base_uri": "https://localhost:8080/"
        },
        "outputId": "f8cb9369-8e77-4131-dc5c-b7a08e13cf7a"
      },
      "source": [
        "#Data info \n",
        "data.info()"
      ],
      "execution_count": 8,
      "outputs": [
        {
          "output_type": "stream",
          "text": [
            "<class 'pandas.core.frame.DataFrame'>\n",
            "RangeIndex: 381109 entries, 0 to 381108\n",
            "Data columns (total 12 columns):\n",
            " #   Column                Non-Null Count   Dtype  \n",
            "---  ------                --------------   -----  \n",
            " 0   id                    381109 non-null  int64  \n",
            " 1   Gender                381109 non-null  object \n",
            " 2   Age                   381109 non-null  int64  \n",
            " 3   Driving_License       381109 non-null  int64  \n",
            " 4   Region_Code           381109 non-null  float64\n",
            " 5   Previously_Insured    381109 non-null  int64  \n",
            " 6   Vehicle_Age           381109 non-null  object \n",
            " 7   Vehicle_Damage        381109 non-null  object \n",
            " 8   Annual_Premium        381109 non-null  float64\n",
            " 9   Policy_Sales_Channel  381109 non-null  float64\n",
            " 10  Vintage               381109 non-null  int64  \n",
            " 11  Response              381109 non-null  int64  \n",
            "dtypes: float64(3), int64(6), object(3)\n",
            "memory usage: 34.9+ MB\n"
          ],
          "name": "stdout"
        }
      ]
    },
    {
      "cell_type": "code",
      "metadata": {
        "id": "Q1sPQoYcBtez",
        "colab": {
          "base_uri": "https://localhost:8080/"
        },
        "outputId": "b954a2a4-0759-4c41-e8f0-c0070e2c51e1"
      },
      "source": [
        "test_data.info()"
      ],
      "execution_count": 9,
      "outputs": [
        {
          "output_type": "stream",
          "text": [
            "<class 'pandas.core.frame.DataFrame'>\n",
            "RangeIndex: 127037 entries, 0 to 127036\n",
            "Data columns (total 11 columns):\n",
            " #   Column                Non-Null Count   Dtype  \n",
            "---  ------                --------------   -----  \n",
            " 0   id                    127037 non-null  int64  \n",
            " 1   Gender                127037 non-null  object \n",
            " 2   Age                   127037 non-null  int64  \n",
            " 3   Driving_License       127037 non-null  int64  \n",
            " 4   Region_Code           127037 non-null  float64\n",
            " 5   Previously_Insured    127037 non-null  int64  \n",
            " 6   Vehicle_Age           127037 non-null  object \n",
            " 7   Vehicle_Damage        127037 non-null  object \n",
            " 8   Annual_Premium        127037 non-null  float64\n",
            " 9   Policy_Sales_Channel  127037 non-null  float64\n",
            " 10  Vintage               127037 non-null  int64  \n",
            "dtypes: float64(3), int64(5), object(3)\n",
            "memory usage: 10.7+ MB\n"
          ],
          "name": "stdout"
        }
      ]
    },
    {
      "cell_type": "code",
      "metadata": {
        "id": "dq0f_OhPBxFa"
      },
      "source": [
        "# Creating copies of the data\n",
        "train = data.copy()\n",
        "test = test_data.copy()"
      ],
      "execution_count": 10,
      "outputs": []
    },
    {
      "cell_type": "markdown",
      "metadata": {
        "id": "miMQ4QWYCEsZ"
      },
      "source": [
        "## **Exploratory Data Analysis(EDA)**"
      ]
    },
    {
      "cell_type": "code",
      "metadata": {
        "id": "Zj20tgygCTF3",
        "colab": {
          "base_uri": "https://localhost:8080/",
          "height": 406
        },
        "outputId": "324fbb06-2de5-4a65-dd3f-4e036df00257"
      },
      "source": [
        "plt.figure(figsize=(12,5))\n",
        "sns.countplot(train['Response'])\n",
        "plt.title('Customer Responses', fontsize = 15 )\n",
        "plt.show()"
      ],
      "execution_count": 11,
      "outputs": [
        {
          "output_type": "stream",
          "text": [
            "/usr/local/lib/python3.7/dist-packages/seaborn/_decorators.py:43: FutureWarning: Pass the following variable as a keyword arg: x. From version 0.12, the only valid positional argument will be `data`, and passing other arguments without an explicit keyword will result in an error or misinterpretation.\n",
            "  FutureWarning\n"
          ],
          "name": "stderr"
        },
        {
          "output_type": "display_data",
          "data": {
            "image/png": "[encoded data removed]",
            "text/plain": [
              "<Figure size 864x360 with 1 Axes>"
            ]
          },
          "metadata": {
            "needs_background": "light"
          }
        }
      ]
    },
    {
      "cell_type": "code",
      "metadata": {
        "id": "LrySxpJ_IS1S"
      },
      "source": [
        "# Calculating posetive and negative smaples in percentages. \n",
        "positive_percentage =len(train[train['Response'] == 1])/ len(data)*100\n",
        "negative_percentage =len(train[train['Response'] == 0]) / len(data)*100\n",
        "percentage = [positive_percentage,negative_percentage]\n"
      ],
      "execution_count": 12,
      "outputs": []
    },
    {
      "cell_type": "code",
      "metadata": {
        "id": "auoAGKvAQx1R",
        "colab": {
          "base_uri": "https://localhost:8080/",
          "height": 477
        },
        "outputId": "4f546472-b719-46a6-c115-fe1d22bfe747"
      },
      "source": [
        "# Creating a pie chart \n",
        "plt.figure(figsize= (8,10))\n",
        "plt.pie(percentage, labels=['Intrested', 'Not Intrested'], autopct = '%.if%%', colors = ['#aecc35', 'cyan'])\n",
        "plt.show()"
      ],
      "execution_count": 13,
      "outputs": [
        {
          "output_type": "display_data",
          "data": {
            "image/png": "[encoded data removed]",
            "text/plain": [
              "<Figure size 576x720 with 1 Axes>"
            ]
          },
          "metadata": {}
        }
      ]
    },
    {
      "cell_type": "markdown",
      "metadata": {
        "id": "-1ecUDNzRCIY"
      },
      "source": [
        "###### **From the avobe graph it is clear that this dataset is imbalanced. The percentage of customers who are intrested for a vehicle insurance is only 12% compared to those who are not intrested to opt for a vechicle insurance.**\n"
      ]
    },
    {
      "cell_type": "markdown",
      "metadata": {
        "id": "mCkLYnceUcl9"
      },
      "source": [
        "###### **Exploring the age of the customers.**"
      ]
    },
    {
      "cell_type": "code",
      "metadata": {
        "id": "OIMf2s3eVDgM",
        "colab": {
          "base_uri": "https://localhost:8080/",
          "height": 412
        },
        "outputId": "08e2bb6b-12ae-4964-b4ea-6430b4396b82"
      },
      "source": [
        "plt.figure(figsize = (12,5))\n",
        "sns.distplot(train['Age'], kde = False, color = 'Red')\n",
        "plt.xlabel('Age', fontsize = 13)\n",
        "plt.title('Age distribution', fontsize = 20)\n",
        "plt.show()"
      ],
      "execution_count": 14,
      "outputs": [
        {
          "output_type": "stream",
          "text": [
            "/usr/local/lib/python3.7/dist-packages/seaborn/distributions.py:2557: FutureWarning: `distplot` is a deprecated function and will be removed in a future version. Please adapt your code to use either `displot` (a figure-level function with similar flexibility) or `histplot` (an axes-level function for histograms).\n",
            "  warnings.warn(msg, FutureWarning)\n"
          ],
          "name": "stderr"
        },
        {
          "output_type": "display_data",
          "data": {
            "image/png": "[encoded data removed]",
            "text/plain": [
              "<Figure size 864x360 with 1 Axes>"
            ]
          },
          "metadata": {
            "needs_background": "light"
          }
        }
      ]
    },
    {
      "cell_type": "markdown",
      "metadata": {
        "id": "WvwJ6otQV4pQ"
      },
      "source": [
        "###### **Exploring the gender of the customers along with their intrest\n",
        "**"
      ]
    },
    {
      "cell_type": "code",
      "metadata": {
        "id": "ioKzkMH-WoyT",
        "colab": {
          "base_uri": "https://localhost:8080/",
          "height": 412
        },
        "outputId": "7bc54d08-7c6a-4bc7-cd42-8ad26c86259a"
      },
      "source": [
        "plt.figure(figsize = (10, 6))\n",
        "sns.countplot(data = train, x = 'Gender', hue = 'Response', palette = 'nipy_spectral')\n",
        "plt.xlabel('Gender', fontsize = 13)\n",
        "plt.ylabel('Age', fontsize = 13)\n",
        "plt.title('Gender count to response', fontsize = 20)\n",
        "plt.show()"
      ],
      "execution_count": 15,
      "outputs": [
        {
          "output_type": "display_data",
          "data": {
            "image/png": "[encoded data removed]",
            "text/plain": [
              "<Figure size 720x432 with 1 Axes>"
            ]
          },
          "metadata": {
            "needs_background": "light"
          }
        }
      ]
    },
    {
      "cell_type": "markdown",
      "metadata": {
        "id": "JazkzsFwZSKb"
      },
      "source": [
        "###### **Customers with a driving license**"
      ]
    },
    {
      "cell_type": "code",
      "metadata": {
        "id": "EpHUJ-gUarqT",
        "colab": {
          "base_uri": "https://localhost:8080/"
        },
        "outputId": "4b57d469-a654-45d3-ada1-b06e38225800"
      },
      "source": [
        "train['Driving_License'].value_counts()"
      ],
      "execution_count": 16,
      "outputs": [
        {
          "output_type": "execute_result",
          "data": {
            "text/plain": [
              "1    380297\n",
              "0       812\n",
              "Name: Driving_License, dtype: int64"
            ]
          },
          "metadata": {},
          "execution_count": 16
        }
      ]
    },
    {
      "cell_type": "code",
      "metadata": {
        "id": "IO65zCJga1N9",
        "colab": {
          "base_uri": "https://localhost:8080/",
          "height": 391
        },
        "outputId": "f4a2287d-e60a-40c4-e585-4678622d9240"
      },
      "source": [
        "plt.figure(figsize=(10,5))\n",
        "sns.countplot(train['Driving_License'])\n",
        "plt.xlabel('Driving License', fontsize= 13)\n",
        "plt.show()"
      ],
      "execution_count": 17,
      "outputs": [
        {
          "output_type": "stream",
          "text": [
            "/usr/local/lib/python3.7/dist-packages/seaborn/_decorators.py:43: FutureWarning: Pass the following variable as a keyword arg: x. From version 0.12, the only valid positional argument will be `data`, and passing other arguments without an explicit keyword will result in an error or misinterpretation.\n",
            "  FutureWarning\n"
          ],
          "name": "stderr"
        },
        {
          "output_type": "display_data",
          "data": {
            "image/png": "[encoded data removed]",
            "text/plain": [
              "<Figure size 720x360 with 1 Axes>"
            ]
          },
          "metadata": {
            "needs_background": "light"
          }
        }
      ]
    },
    {
      "cell_type": "markdown",
      "metadata": {
        "id": "HIVEZxjjbSxn"
      },
      "source": [
        "###### **Age of the vehicle vs customer response**"
      ]
    },
    {
      "cell_type": "code",
      "metadata": {
        "id": "9kXs2vdOdCtW",
        "colab": {
          "base_uri": "https://localhost:8080/",
          "height": 407
        },
        "outputId": "5c489b8f-2113-4109-9bdc-52e1c98ad044"
      },
      "source": [
        "plt.figure(figsize=(10,6))\n",
        "sns.countplot(data = train, x =\"Vehicle_Age\", hue = 'Response', palette='CMRmap_r')\n",
        "plt.xlabel('Vehicle Age', fontsize = 13)\n",
        "plt.ylabel('Customer Response', fontsize = 13)\n",
        "plt.title(\"Vehiche age V/s Customer Response\")\n",
        "plt.show()"
      ],
      "execution_count": 18,
      "outputs": [
        {
          "output_type": "display_data",
          "data": {
            "image/png": "[encoded data removed]",
            "text/plain": [
              "<Figure size 720x432 with 1 Axes>"
            ]
          },
          "metadata": {
            "needs_background": "light"
          }
        }
      ]
    },
    {
      "cell_type": "markdown",
      "metadata": {
        "id": "mMV65wf8hy0m"
      },
      "source": [
        "From the above graph it is clear clear that customers with vehivle age 1-2 years are more inclined to opt fot the insurance"
      ]
    },
    {
      "cell_type": "markdown",
      "metadata": {
        "id": "py002n_oiWir"
      },
      "source": [
        "###### **Calcualting the vehicles that hase been damaged**"
      ]
    },
    {
      "cell_type": "code",
      "metadata": {
        "id": "3vrQ3dzwiiD9"
      },
      "source": [
        "vehicles =train[train['Vehicle_Age'] == '1-2 Year']"
      ],
      "execution_count": 19,
      "outputs": []
    },
    {
      "cell_type": "code",
      "metadata": {
        "id": "Bfl9GVjDnQI7",
        "colab": {
          "base_uri": "https://localhost:8080/",
          "height": 414
        },
        "outputId": "c3ee44d6-9bfa-403c-b7f8-50376f52f37c"
      },
      "source": [
        "plt.figure(figsize = (10,6) )\n",
        "sns.countplot(data = vehicles, x = 'Vehicle_Damage', hue = 'Response', palette='Set1')\n",
        "plt.xlabel('Vehicle Damage status', fontsize = 15)\n",
        "plt.ylabel('Number of vehicle damaged', fontsize = 15)\n",
        "plt.title('Customer response analysis according vehicle damage status', fontsize = 19)\n",
        "plt.show()"
      ],
      "execution_count": 20,
      "outputs": [
        {
          "output_type": "display_data",
          "data": {
            "image/png": "[encoded data removed]",
            "text/plain": [
              "<Figure size 720x432 with 1 Axes>"
            ]
          },
          "metadata": {
            "needs_background": "light"
          }
        }
      ]
    },
    {
      "cell_type": "markdown",
      "metadata": {
        "id": "NWl2wSBrprS5"
      },
      "source": [
        "######**As expected, those customers who have a damaged vehicle tend to take the vehicle insurance**"
      ]
    },
    {
      "cell_type": "markdown",
      "metadata": {
        "id": "GQUfHd98p2jX"
      },
      "source": [
        "######**Annual premiuim distribution**"
      ]
    },
    {
      "cell_type": "code",
      "metadata": {
        "id": "Fx_x8CLfqBro",
        "colab": {
          "base_uri": "https://localhost:8080/",
          "height": 414
        },
        "outputId": "afa5e05c-2acf-4aa8-d97c-f0504b849d6a"
      },
      "source": [
        "plt.figure(figsize=(15,6))\n",
        "sns.kdeplot(data['Annual_Premium'])\n",
        "plt.xlabel('Annual Premium', fontsize = 15)\n",
        "plt.title('Annual Premium Distribution', fontsize = 20)\n",
        "plt.show()"
      ],
      "execution_count": 21,
      "outputs": [
        {
          "output_type": "display_data",
          "data": {
            "image/png": "[encoded data removed]",
            "text/plain": [
              "<Figure size 1080x432 with 1 Axes>"
            ]
          },
          "metadata": {
            "needs_background": "light"
          }
        }
      ]
    },
    {
      "cell_type": "markdown",
      "metadata": {
        "id": "xU0KKpt03paR"
      },
      "source": [
        "###### **Policy Sales Distribution**"
      ]
    },
    {
      "cell_type": "code",
      "metadata": {
        "id": "CkNApuEH6d02",
        "colab": {
          "base_uri": "https://localhost:8080/",
          "height": 414
        },
        "outputId": "ca4fac82-400a-4c93-c4a4-4013a0d029b8"
      },
      "source": [
        "plt.figure(figsize=(12,5))\n",
        "                    \n",
        "sns.distplot(train[\"Policy_Sales_Channel\"], kde = False , color = 'red')\n",
        "plt.xlabel('Policy Slaes Channel', fontsize = 15)\n",
        "plt.title('Policy Sales Distribution', fontsize = 20)\n",
        "plt.show()"
      ],
      "execution_count": 22,
      "outputs": [
        {
          "output_type": "stream",
          "text": [
            "/usr/local/lib/python3.7/dist-packages/seaborn/distributions.py:2557: FutureWarning: `distplot` is a deprecated function and will be removed in a future version. Please adapt your code to use either `displot` (a figure-level function with similar flexibility) or `histplot` (an axes-level function for histograms).\n",
            "  warnings.warn(msg, FutureWarning)\n"
          ],
          "name": "stderr"
        },
        {
          "output_type": "display_data",
          "data": {
            "image/png": "[encoded data removed]",
            "text/plain": [
              "<Figure size 864x360 with 1 Axes>"
            ]
          },
          "metadata": {
            "needs_background": "light"
          }
        }
      ]
    },
    {
      "cell_type": "markdown",
      "metadata": {
        "id": "VRxIloz08H-d"
      },
      "source": [
        "###### **Region Code Distribution**"
      ]
    },
    {
      "cell_type": "code",
      "metadata": {
        "id": "s85r9fCa-JJZ",
        "colab": {
          "base_uri": "https://localhost:8080/",
          "height": 414
        },
        "outputId": "f1ee6b3c-6fa1-4466-a4fa-06e6147446f4"
      },
      "source": [
        "plt.figure(figsize=(12,5))\n",
        "sns.distplot(train['Region_Code'], kde =False, color='blue')\n",
        "plt.xlabel('Region Code', fontsize = 15)\n",
        "plt.title('Regional Distribution', fontsize = 20)\n",
        "plt.show()"
      ],
      "execution_count": 23,
      "outputs": [
        {
          "output_type": "stream",
          "text": [
            "/usr/local/lib/python3.7/dist-packages/seaborn/distributions.py:2557: FutureWarning: `distplot` is a deprecated function and will be removed in a future version. Please adapt your code to use either `displot` (a figure-level function with similar flexibility) or `histplot` (an axes-level function for histograms).\n",
            "  warnings.warn(msg, FutureWarning)\n"
          ],
          "name": "stderr"
        },
        {
          "output_type": "display_data",
          "data": {
            "image/png": "[encoded data removed]",
            "text/plain": [
              "<Figure size 864x360 with 1 Axes>"
            ]
          },
          "metadata": {
            "needs_background": "light"
          }
        }
      ]
    },
    {
      "cell_type": "code",
      "metadata": {
        "id": "4rnS63mV9S1J",
        "colab": {
          "base_uri": "https://localhost:8080/",
          "height": 414
        },
        "outputId": "ada57e87-236f-428a-ef62-1a3bc1c948f0"
      },
      "source": [
        "plt.figure(figsize=(10,6))\n",
        "sns.countplot(data=train, x='Previously_Insured', hue = 'Response', palette= \"rainbow\")\n",
        "plt.xlabel('Priviously Insured', fontsize = 15)\n",
        "plt.ylabel('Count', fontsize=15)\n",
        "plt.title(\"Customer Respone based on previous insurance\", fontsize= 20)\n",
        "plt.show()"
      ],
      "execution_count": 24,
      "outputs": [
        {
          "output_type": "display_data",
          "data": {
            "image/png": "[encoded data removed]",
            "text/plain": [
              "<Figure size 720x432 with 1 Axes>"
            ]
          },
          "metadata": {
            "needs_background": "light"
          }
        }
      ]
    },
    {
      "cell_type": "markdown",
      "metadata": {
        "id": "1Eyp7OkH_Thj"
      },
      "source": [
        "###### **The above graph helps in realising how many of the existing customers with a policy and will be hesitant to take up another insurance**"
      ]
    },
    {
      "cell_type": "markdown",
      "metadata": {
        "id": "H_1FtQfg_7Qq"
      },
      "source": [
        "######**Correlation Heatmap**"
      ]
    },
    {
      "cell_type": "code",
      "metadata": {
        "id": "kwIh0_eJAK2q",
        "colab": {
          "base_uri": "https://localhost:8080/",
          "height": 488
        },
        "outputId": "1e9f5e8f-6979-4de6-9239-aceb34df86f1"
      },
      "source": [
        "plt.figure(figsize=(20,8))\n",
        "sns.heatmap(train.corr(), cmap = 'twilight', annot= True)\n",
        "plt.show()"
      ],
      "execution_count": 25,
      "outputs": [
        {
          "output_type": "display_data",
          "data": {
            "image/png": "[encoded data removed]",
            "text/plain": [
              "<Figure size 1440x576 with 2 Axes>"
            ]
          },
          "metadata": {
            "needs_background": "light"
          }
        }
      ]
    },
    {
      "cell_type": "code",
      "metadata": {
        "id": "fVcAYOkqBfwZ",
        "colab": {
          "base_uri": "https://localhost:8080/",
          "height": 434
        },
        "outputId": "23d8208e-07b4-4b74-e394-a61e9549dc47"
      },
      "source": [
        "plt.figure(figsize=(12,5))\n",
        "train.corrwith(train['Response']).sort_values().drop('Response').plot(kind='bar', color = 'red')\n",
        "plt.title('Correlation with Customer Response (bar plot) ', fontsize= 15)\n",
        "plt.show()"
      ],
      "execution_count": 26,
      "outputs": [
        {
          "output_type": "display_data",
          "data": {
            "image/png": "[encoded data removed]",
            "text/plain": [
              "<Figure size 864x360 with 1 Axes>"
            ]
          },
          "metadata": {
            "needs_background": "light"
          }
        }
      ]
    },
    {
      "cell_type": "markdown",
      "metadata": {
        "id": "FJE5ro7gBulI"
      },
      "source": [
        "\n",
        "######Vintage column has almost no correlation with Customer Response. That means a customer who is connected to the company for a long time does'nt necessarily mean that he/she will take the vehicle insurance."
      ]
    },
    {
      "cell_type": "markdown",
      "metadata": {
        "id": "xtALHOc8B-6g"
      },
      "source": [
        "### **Model Selection**"
      ]
    },
    {
      "cell_type": "markdown",
      "metadata": {
        "id": "722XA3HMABw7"
      },
      "source": [
        "We will be using few models to and store their result to further understand which model performed the best to the given dataset\n",
        "Models used will be:\n",
        "\n",
        "1.   Randon forest\n",
        "2.   XGBoost\n",
        "3.   CatBoost\n",
        "4.   Light GMB (LGBM)\n",
        "5.   Desision Tree\n",
        "\n"
      ]
    },
    {
      "cell_type": "markdown",
      "metadata": {
        "id": "n0SuXp65ALYL"
      },
      "source": [
        "We will store the restul in a data frame to comapre the result to see the model performance"
      ]
    },
    {
      "cell_type": "markdown",
      "metadata": {
        "id": "f6MyjWooAkxF"
      },
      "source": [
        "### **Importing necessary libraries**"
      ]
    },
    {
      "cell_type": "code",
      "metadata": {
        "id": "JptjDriiAqRr"
      },
      "source": [
        "import warnings\n",
        "from sklearn.metrics import roc_auc_score, accuracy_score\n",
        "\n",
        "warnings.filterwarnings('ignore')"
      ],
      "execution_count": 27,
      "outputs": []
    },
    {
      "cell_type": "code",
      "metadata": {
        "id": "mutC8mzHAsRx"
      },
      "source": [
        "def preprocessing(data):\n",
        "    \n",
        "    # Dropping null values\n",
        "    data = data.dropna()\n",
        "    \n",
        "    # Dropping id column\n",
        "    data = data.drop('id', axis=1)\n",
        "    \n",
        "    # Columns needed \n",
        "    cols = ['Gender','Vehicle_Damage', 'Vehicle_Age']\n",
        "    \n",
        "    # Changing the categories in to dummies\n",
        "    data_dum= pd.get_dummies(data=data, columns = cols, drop_first=True)\n",
        "    \n",
        "    # Also drop vintage columns as it does not correlate with the dependent variables \n",
        "    data_dum = data_dum.drop('Vintage', axis = 1)\n",
        "    \n",
        "    return data_dum"
      ],
      "execution_count": 28,
      "outputs": []
    },
    {
      "cell_type": "code",
      "metadata": {
        "id": "QGNuSMVKAuYw"
      },
      "source": [
        "#Preproseccing train data\n",
        "train_dum = preprocessing(train)\n",
        "\n",
        "#Preprossing test data\n",
        "test_dum = preprocessing(test)"
      ],
      "execution_count": 29,
      "outputs": []
    },
    {
      "cell_type": "code",
      "metadata": {
        "id": "E9Mk_MKqAwkH"
      },
      "source": [
        "# Assigning inputs and targets\n",
        "\n",
        "inputs = train_dum.drop('Response', axis=1)\n",
        "targets= train_dum['Response']\n",
        "\n",
        "x_test= test_dum.copy()"
      ],
      "execution_count": 30,
      "outputs": []
    },
    {
      "cell_type": "markdown",
      "metadata": {
        "id": "iv9aadNiAyM-"
      },
      "source": [
        "### **Splitting data**"
      ]
    },
    {
      "cell_type": "markdown",
      "metadata": {
        "id": "1iRCMaAJA2dP"
      },
      "source": [
        "We will use stratified K-Fold from sklearn as this is a highly imbalanced dataset Stratified K-Folds cross-validator. Provides train/test indices to split data in train/test sets. This cross-validation object is a variation of KFold that returns stratified folds. The folds are made by preserving the percentage of samples for each class. Parameters n_splitsint, default=5."
      ]
    },
    {
      "cell_type": "code",
      "metadata": {
        "id": "nEcY1X7jA5Xt"
      },
      "source": [
        "from sklearn.model_selection import StratifiedKFold\n",
        "\n",
        "skf = StratifiedKFold(n_splits = 10, shuffle = True, random_state = 42)\n",
        "\n",
        "for train_idx, val_idx in skf.split(inputs, targets):\n",
        "    x_train, x_val = inputs.iloc[train_idx], inputs.iloc[val_idx]\n",
        "    y_train, y_val = targets.iloc[train_idx], targets.iloc[val_idx]"
      ],
      "execution_count": 31,
      "outputs": []
    },
    {
      "cell_type": "code",
      "metadata": {
        "id": "hPoQ0LMxA8BA"
      },
      "source": [
        "#Scaling all input data\n",
        "    \n",
        "from sklearn.preprocessing import MinMaxScaler\n",
        "\n",
        "scaler = MinMaxScaler()\n",
        "\n",
        "x_train_scaled = scaler.fit_transform(x_train)\n",
        "\n",
        "#Will use only transform for validation and test data as we don't want any data leakage\n",
        "x_val_scaled = scaler.transform(x_val)\n",
        "x_test_scaled = scaler.transform(x_test)"
      ],
      "execution_count": 32,
      "outputs": []
    },
    {
      "cell_type": "markdown",
      "metadata": {
        "id": "rnjz80-sA-by"
      },
      "source": [
        "### **1. Random Forest**"
      ]
    },
    {
      "cell_type": "code",
      "metadata": {
        "id": "cRKwXQdcBD1R",
        "colab": {
          "base_uri": "https://localhost:8080/"
        },
        "outputId": "52484074-0882-4005-b437-de1f820be113"
      },
      "source": [
        "from sklearn.ensemble import RandomForestClassifier\n",
        "\n",
        "rf = RandomForestClassifier(max_depth=7, n_estimators = 500)\n",
        "\n",
        "rf.fit(x_train_scaled,y_train)\n",
        "\n",
        "y_val_pred = rf.predict_proba(x_val_scaled)[:,1]\n",
        "\n",
        "score1 = roc_auc_score(y_val, y_val_pred)\n",
        "print(score1)"
      ],
      "execution_count": 33,
      "outputs": [
        {
          "output_type": "stream",
          "text": [
            "0.8563077363319613\n"
          ],
          "name": "stdout"
        }
      ]
    },
    {
      "cell_type": "markdown",
      "metadata": {
        "id": "hfQrmXrJCIk7"
      },
      "source": [
        "We will store the restul in a data frame to comapre the result to see the model performance"
      ]
    },
    {
      "cell_type": "code",
      "metadata": {
        "id": "jfAGJJ1hCFh_"
      },
      "source": [
        "Results = pd.DataFrame(columns=['Model','Validation score'])"
      ],
      "execution_count": 34,
      "outputs": []
    },
    {
      "cell_type": "code",
      "metadata": {
        "colab": {
          "base_uri": "https://localhost:8080/",
          "height": 49
        },
        "id": "5jj7YV_s5DMe",
        "outputId": "d36854ca-dd58-48bf-8a87-ff278718d615"
      },
      "source": [
        "Results"
      ],
      "execution_count": 35,
      "outputs": [
        {
          "output_type": "execute_result",
          "data": {
            "text/html": [
              "<div>\n",
              "<style scoped>\n",
              "    .dataframe tbody tr th:only-of-type {\n",
              "        vertical-align: middle;\n",
              "    }\n",
              "\n",
              "    .dataframe tbody tr th {\n",
              "        vertical-align: top;\n",
              "    }\n",
              "\n",
              "    .dataframe thead th {\n",
              "        text-align: right;\n",
              "    }\n",
              "</style>\n",
              "<table border=\"1\" class=\"dataframe\">\n",
              "  <thead>\n",
              "    <tr style=\"text-align: right;\">\n",
              "      <th></th>\n",
              "      <th>Model</th>\n",
              "      <th>Validation score</th>\n",
              "    </tr>\n",
              "  </thead>\n",
              "  <tbody>\n",
              "  </tbody>\n",
              "</table>\n",
              "</div>"
            ],
            "text/plain": [
              "Empty DataFrame\n",
              "Columns: [Model, Validation score]\n",
              "Index: []"
            ]
          },
          "metadata": {},
          "execution_count": 35
        }
      ]
    },
    {
      "cell_type": "code",
      "metadata": {
        "id": "oBr5EuHpBFiN"
      },
      "source": [
        "Results = Results.append({'Model' : 'Random Forest', 'Validation Score': score1}, ignore_index = True)"
      ],
      "execution_count": 36,
      "outputs": []
    },
    {
      "cell_type": "code",
      "metadata": {
        "colab": {
          "base_uri": "https://localhost:8080/",
          "height": 80
        },
        "id": "s48Evkv34_Sp",
        "outputId": "adc65825-67a4-453d-c654-9e553572b0bc"
      },
      "source": [
        "Results"
      ],
      "execution_count": 37,
      "outputs": [
        {
          "output_type": "execute_result",
          "data": {
            "text/html": [
              "<div>\n",
              "<style scoped>\n",
              "    .dataframe tbody tr th:only-of-type {\n",
              "        vertical-align: middle;\n",
              "    }\n",
              "\n",
              "    .dataframe tbody tr th {\n",
              "        vertical-align: top;\n",
              "    }\n",
              "\n",
              "    .dataframe thead th {\n",
              "        text-align: right;\n",
              "    }\n",
              "</style>\n",
              "<table border=\"1\" class=\"dataframe\">\n",
              "  <thead>\n",
              "    <tr style=\"text-align: right;\">\n",
              "      <th></th>\n",
              "      <th>Model</th>\n",
              "      <th>Validation score</th>\n",
              "      <th>Validation Score</th>\n",
              "    </tr>\n",
              "  </thead>\n",
              "  <tbody>\n",
              "    <tr>\n",
              "      <th>0</th>\n",
              "      <td>Random Forest</td>\n",
              "      <td>NaN</td>\n",
              "      <td>0.856308</td>\n",
              "    </tr>\n",
              "  </tbody>\n",
              "</table>\n",
              "</div>"
            ],
            "text/plain": [
              "           Model Validation score  Validation Score\n",
              "0  Random Forest              NaN          0.856308"
            ]
          },
          "metadata": {},
          "execution_count": 37
        }
      ]
    },
    {
      "cell_type": "markdown",
      "metadata": {
        "id": "kG6g6_fiEy3F"
      },
      "source": [
        "### **2. XGBoost**"
      ]
    },
    {
      "cell_type": "code",
      "metadata": {
        "id": "J6yt5_23CD3g",
        "colab": {
          "base_uri": "https://localhost:8080/"
        },
        "outputId": "ba3c0362-ee76-4d87-82c8-e4b6b0f2b8b3"
      },
      "source": [
        "from xgboost import XGBClassifier\n",
        "\n",
        "xg = XGBClassifier(random_state = 42, learning_rate = 0.1)\n",
        "\n",
        "xg.fit(x_train_scaled, y_train)\n",
        "\n",
        "y_val_pred = xg.predict_proba(x_val_scaled)[:,1]\n",
        "\n",
        "score = roc_auc_score(y_val, y_val_pred)\n",
        "print(score)"
      ],
      "execution_count": 38,
      "outputs": [
        {
          "output_type": "stream",
          "text": [
            "0.85835584242268\n"
          ],
          "name": "stdout"
        }
      ]
    },
    {
      "cell_type": "code",
      "metadata": {
        "id": "2oGtpTtZ3eb5"
      },
      "source": [
        "Results =Results.append({'Model': 'XGBoost', 'Validation Score': score}, ignore_index= True)"
      ],
      "execution_count": 39,
      "outputs": []
    },
    {
      "cell_type": "code",
      "metadata": {
        "id": "3UGBV9W2Bn-5",
        "colab": {
          "base_uri": "https://localhost:8080/",
          "height": 111
        },
        "outputId": "72a0240f-c430-46e9-8bce-848e15e26d12"
      },
      "source": [
        "Results"
      ],
      "execution_count": 40,
      "outputs": [
        {
          "output_type": "execute_result",
          "data": {
            "text/html": [
              "<div>\n",
              "<style scoped>\n",
              "    .dataframe tbody tr th:only-of-type {\n",
              "        vertical-align: middle;\n",
              "    }\n",
              "\n",
              "    .dataframe tbody tr th {\n",
              "        vertical-align: top;\n",
              "    }\n",
              "\n",
              "    .dataframe thead th {\n",
              "        text-align: right;\n",
              "    }\n",
              "</style>\n",
              "<table border=\"1\" class=\"dataframe\">\n",
              "  <thead>\n",
              "    <tr style=\"text-align: right;\">\n",
              "      <th></th>\n",
              "      <th>Model</th>\n",
              "      <th>Validation score</th>\n",
              "      <th>Validation Score</th>\n",
              "    </tr>\n",
              "  </thead>\n",
              "  <tbody>\n",
              "    <tr>\n",
              "      <th>0</th>\n",
              "      <td>Random Forest</td>\n",
              "      <td>NaN</td>\n",
              "      <td>0.856308</td>\n",
              "    </tr>\n",
              "    <tr>\n",
              "      <th>1</th>\n",
              "      <td>XGBoost</td>\n",
              "      <td>NaN</td>\n",
              "      <td>0.858356</td>\n",
              "    </tr>\n",
              "  </tbody>\n",
              "</table>\n",
              "</div>"
            ],
            "text/plain": [
              "           Model Validation score  Validation Score\n",
              "0  Random Forest              NaN          0.856308\n",
              "1        XGBoost              NaN          0.858356"
            ]
          },
          "metadata": {},
          "execution_count": 40
        }
      ]
    },
    {
      "cell_type": "markdown",
      "metadata": {
        "id": "Kipw2lk2CkS2"
      },
      "source": [
        "### **3. CatBoost**"
      ]
    },
    {
      "cell_type": "code",
      "metadata": {
        "id": "qxmkb2YvDwGa",
        "colab": {
          "base_uri": "https://localhost:8080/"
        },
        "outputId": "a62dbe2e-8e02-4cbd-d8ac-687d59d8b59f"
      },
      "source": [
        "!pip3 install catboost"
      ],
      "execution_count": 41,
      "outputs": [
        {
          "output_type": "stream",
          "text": [
            "Collecting catboost\n",
            "  Downloading catboost-0.26.1-cp37-none-manylinux1_x86_64.whl (67.4 MB)\n",
            "\u001b[K     |████████████████████████████████| 67.4 MB 31 kB/s \n",
            "\u001b[?25hRequirement already satisfied: plotly in /usr/local/lib/python3.7/dist-packages (from catboost) (4.4.1)\n",
            "Requirement already satisfied: matplotlib in /usr/local/lib/python3.7/dist-packages (from catboost) (3.2.2)\n",
            "Requirement already satisfied: pandas>=0.24.0 in /usr/local/lib/python3.7/dist-packages (from catboost) (1.1.5)\n",
            "Requirement already satisfied: graphviz in /usr/local/lib/python3.7/dist-packages (from catboost) (0.10.1)\n",
            "Requirement already satisfied: numpy>=1.16.0 in /usr/local/lib/python3.7/dist-packages (from catboost) (1.19.5)\n",
            "Requirement already satisfied: scipy in /usr/local/lib/python3.7/dist-packages (from catboost) (1.4.1)\n",
            "Requirement already satisfied: six in /usr/local/lib/python3.7/dist-packages (from catboost) (1.15.0)\n",
            "Requirement already satisfied: python-dateutil>=2.7.3 in /usr/local/lib/python3.7/dist-packages (from pandas>=0.24.0->catboost) (2.8.2)\n",
            "Requirement already satisfied: pytz>=2017.2 in /usr/local/lib/python3.7/dist-packages (from pandas>=0.24.0->catboost) (2018.9)\n",
            "Requirement already satisfied: kiwisolver>=1.0.1 in /usr/local/lib/python3.7/dist-packages (from matplotlib->catboost) (1.3.1)\n",
            "Requirement already satisfied: cycler>=0.10 in /usr/local/lib/python3.7/dist-packages (from matplotlib->catboost) (0.10.0)\n",
            "Requirement already satisfied: pyparsing!=2.0.4,!=2.1.2,!=2.1.6,>=2.0.1 in /usr/local/lib/python3.7/dist-packages (from matplotlib->catboost) (2.4.7)\n",
            "Requirement already satisfied: retrying>=1.3.3 in /usr/local/lib/python3.7/dist-packages (from plotly->catboost) (1.3.3)\n",
            "Installing collected packages: catboost\n",
            "Successfully installed catboost-0.26.1\n"
          ],
          "name": "stdout"
        }
      ]
    },
    {
      "cell_type": "code",
      "metadata": {
        "id": "cvosAFk-Cskg",
        "colab": {
          "base_uri": "https://localhost:8080/",
          "height": 238,
          "referenced_widgets": [
            "746cc1ff5ed045f99e8c85daab0cf03a"
          ]
        },
        "outputId": "e421aa9b-dab3-4d7e-a2dd-0011b0a86916"
      },
      "source": [
        "from catboost import CatBoostClassifier\n",
        "\n",
        "cat = CatBoostClassifier()\n",
        "\n",
        "cat.fit(x_train_scaled, y_train, plot=True, early_stopping_rounds=30, verbose=100)\n",
        "\n",
        "y_val_pred = cat.predict_proba(x_val_scaled)[:,1]\n",
        "\n",
        "score = roc_auc_score(y_val, y_val_pred)\n",
        "print(score)"
      ],
      "execution_count": 42,
      "outputs": [
        {
          "output_type": "display_data",
          "data": {
            "application/vnd.jupyter.widget-view+json": {
              "model_id": "746cc1ff5ed045f99e8c85daab0cf03a",
              "version_minor": 0,
              "version_major": 2
            },
            "text/plain": [
              "MetricVisualizer(layout=Layout(align_self='stretch', height='500px'))"
            ]
          },
          "metadata": {}
        },
        {
          "output_type": "stream",
          "text": [
            "Learning rate set to 0.124596\n",
            "0:\tlearn: 0.4964019\ttotal: 173ms\tremaining: 2m 53s\n",
            "100:\tlearn: 0.2640546\ttotal: 11.1s\tremaining: 1m 38s\n",
            "200:\tlearn: 0.2621656\ttotal: 22.2s\tremaining: 1m 28s\n",
            "300:\tlearn: 0.2608039\ttotal: 33.3s\tremaining: 1m 17s\n",
            "400:\tlearn: 0.2596961\ttotal: 44.5s\tremaining: 1m 6s\n",
            "500:\tlearn: 0.2586209\ttotal: 55.7s\tremaining: 55.5s\n",
            "600:\tlearn: 0.2575987\ttotal: 1m 7s\tremaining: 44.5s\n",
            "700:\tlearn: 0.2566135\ttotal: 1m 18s\tremaining: 33.4s\n",
            "800:\tlearn: 0.2557489\ttotal: 1m 29s\tremaining: 22.3s\n",
            "900:\tlearn: 0.2549947\ttotal: 1m 41s\tremaining: 11.1s\n",
            "999:\tlearn: 0.2541714\ttotal: 1m 52s\tremaining: 0us\n",
            "0.861474536765339\n"
          ],
          "name": "stdout"
        }
      ]
    },
    {
      "cell_type": "code",
      "metadata": {
        "id": "vMFGXhKk5U6K"
      },
      "source": [
        "Results = Results.append({'Model':'CatBoost', 'Validation Score': score}, ignore_index= True)"
      ],
      "execution_count": 43,
      "outputs": []
    },
    {
      "cell_type": "code",
      "metadata": {
        "colab": {
          "base_uri": "https://localhost:8080/",
          "height": 142
        },
        "id": "sK8EY9DT5zAV",
        "outputId": "b7a9f04f-70ea-4550-9243-a11837e0fe0a"
      },
      "source": [
        "Results"
      ],
      "execution_count": 44,
      "outputs": [
        {
          "output_type": "execute_result",
          "data": {
            "text/html": [
              "<div>\n",
              "<style scoped>\n",
              "    .dataframe tbody tr th:only-of-type {\n",
              "        vertical-align: middle;\n",
              "    }\n",
              "\n",
              "    .dataframe tbody tr th {\n",
              "        vertical-align: top;\n",
              "    }\n",
              "\n",
              "    .dataframe thead th {\n",
              "        text-align: right;\n",
              "    }\n",
              "</style>\n",
              "<table border=\"1\" class=\"dataframe\">\n",
              "  <thead>\n",
              "    <tr style=\"text-align: right;\">\n",
              "      <th></th>\n",
              "      <th>Model</th>\n",
              "      <th>Validation score</th>\n",
              "      <th>Validation Score</th>\n",
              "    </tr>\n",
              "  </thead>\n",
              "  <tbody>\n",
              "    <tr>\n",
              "      <th>0</th>\n",
              "      <td>Random Forest</td>\n",
              "      <td>NaN</td>\n",
              "      <td>0.856308</td>\n",
              "    </tr>\n",
              "    <tr>\n",
              "      <th>1</th>\n",
              "      <td>XGBoost</td>\n",
              "      <td>NaN</td>\n",
              "      <td>0.858356</td>\n",
              "    </tr>\n",
              "    <tr>\n",
              "      <th>2</th>\n",
              "      <td>CatBoost</td>\n",
              "      <td>NaN</td>\n",
              "      <td>0.861475</td>\n",
              "    </tr>\n",
              "  </tbody>\n",
              "</table>\n",
              "</div>"
            ],
            "text/plain": [
              "           Model Validation score  Validation Score\n",
              "0  Random Forest              NaN          0.856308\n",
              "1        XGBoost              NaN          0.858356\n",
              "2       CatBoost              NaN          0.861475"
            ]
          },
          "metadata": {},
          "execution_count": 44
        }
      ]
    },
    {
      "cell_type": "markdown",
      "metadata": {
        "id": "_0E9tyS_CvNs"
      },
      "source": [
        "### **4. LGBM**"
      ]
    },
    {
      "cell_type": "code",
      "metadata": {
        "id": "I0YHXHWuElxg",
        "colab": {
          "base_uri": "https://localhost:8080/"
        },
        "outputId": "4b25b0bc-f50b-43a7-9593-80eea7c70e8d"
      },
      "source": [
        "from lightgbm import LGBMClassifier\n",
        "from sklearn.metrics import roc_auc_score, accuracy_score\n",
        "\n",
        "lgbm = LGBMClassifier(num_leaves = 30, max_depth = 5, n_estimators = 550, learning_rate = 0.05, objective = 'binary', \n",
        "                      lambda_l2 = 12,\n",
        "                      max_bin = 100, metric = 'auc', is_unbalance = True, random_state = None, n_jobs = -1)\n",
        "\n",
        "lgbm.fit(x_train_scaled,y_train)\n",
        "\n",
        "y_val_pred = lgbm.predict_proba(x_val_scaled)[:,1]\n",
        "\n",
        "score = roc_auc_score(y_val, y_val_pred)\n",
        "print(score)"
      ],
      "execution_count": 45,
      "outputs": [
        {
          "output_type": "stream",
          "text": [
            "0.86276903948587\n"
          ],
          "name": "stdout"
        }
      ]
    },
    {
      "cell_type": "code",
      "metadata": {
        "id": "_c6P3Yx0FE2I"
      },
      "source": [
        "Results = Results.append({'Model':'LGBM',\"Validation Score\": score }, ignore_index= True)"
      ],
      "execution_count": 46,
      "outputs": []
    },
    {
      "cell_type": "code",
      "metadata": {
        "colab": {
          "base_uri": "https://localhost:8080/",
          "height": 173
        },
        "id": "r3kRuaJX-EcT",
        "outputId": "22f699af-da26-4c27-9b2e-161034aa3033"
      },
      "source": [
        "Results "
      ],
      "execution_count": 47,
      "outputs": [
        {
          "output_type": "execute_result",
          "data": {
            "text/html": [
              "<div>\n",
              "<style scoped>\n",
              "    .dataframe tbody tr th:only-of-type {\n",
              "        vertical-align: middle;\n",
              "    }\n",
              "\n",
              "    .dataframe tbody tr th {\n",
              "        vertical-align: top;\n",
              "    }\n",
              "\n",
              "    .dataframe thead th {\n",
              "        text-align: right;\n",
              "    }\n",
              "</style>\n",
              "<table border=\"1\" class=\"dataframe\">\n",
              "  <thead>\n",
              "    <tr style=\"text-align: right;\">\n",
              "      <th></th>\n",
              "      <th>Model</th>\n",
              "      <th>Validation score</th>\n",
              "      <th>Validation Score</th>\n",
              "    </tr>\n",
              "  </thead>\n",
              "  <tbody>\n",
              "    <tr>\n",
              "      <th>0</th>\n",
              "      <td>Random Forest</td>\n",
              "      <td>NaN</td>\n",
              "      <td>0.856308</td>\n",
              "    </tr>\n",
              "    <tr>\n",
              "      <th>1</th>\n",
              "      <td>XGBoost</td>\n",
              "      <td>NaN</td>\n",
              "      <td>0.858356</td>\n",
              "    </tr>\n",
              "    <tr>\n",
              "      <th>2</th>\n",
              "      <td>CatBoost</td>\n",
              "      <td>NaN</td>\n",
              "      <td>0.861475</td>\n",
              "    </tr>\n",
              "    <tr>\n",
              "      <th>3</th>\n",
              "      <td>LGBM</td>\n",
              "      <td>NaN</td>\n",
              "      <td>0.862769</td>\n",
              "    </tr>\n",
              "  </tbody>\n",
              "</table>\n",
              "</div>"
            ],
            "text/plain": [
              "           Model Validation score  Validation Score\n",
              "0  Random Forest              NaN          0.856308\n",
              "1        XGBoost              NaN          0.858356\n",
              "2       CatBoost              NaN          0.861475\n",
              "3           LGBM              NaN          0.862769"
            ]
          },
          "metadata": {},
          "execution_count": 47
        }
      ]
    },
    {
      "cell_type": "markdown",
      "metadata": {
        "id": "xT4QoAfd-GIT"
      },
      "source": [
        "##### **From the above table we can arrive at a conclusion that the model perform best with the LGBM model with a validation score of 0.862769.**"
      ]
    },
    {
      "cell_type": "code",
      "metadata": {
        "id": "UqljN_dAE5Gf"
      },
      "source": [
        "import matplotlib.pyplot as plt\n",
        "import seaborn as sns\n",
        "\n",
        "sns.set_style('darkgrid')"
      ],
      "execution_count": 49,
      "outputs": []
    },
    {
      "cell_type": "code",
      "metadata": {
        "colab": {
          "base_uri": "https://localhost:8080/",
          "height": 406
        },
        "id": "eFw-whq-l5H7",
        "outputId": "24d16afa-839d-4250-cad2-b5bcb8cc68ff"
      },
      "source": [
        "plt.figure(figsize = (10,6))\n",
        "sns.barplot(data = Results, y = 'Validation Score', x = 'Model')\n",
        "plt.title('Validation score v/s model', fontsize = 15)\n",
        "plt.ylim(0.84,0.87)\n",
        "plt.show()"
      ],
      "execution_count": 55,
      "outputs": [
        {
          "output_type": "display_data",
          "data": {
            "image/png": "[encoded data removed]",
            "text/plain": [
              "<Figure size 720x432 with 1 Axes>"
            ]
          },
          "metadata": {}
        }
      ]
    },
    {
      "cell_type": "code",
      "metadata": {
        "id": "Fs5OvApMmkVq"
      },
      "source": [
        ""
      ],
      "execution_count": null,
      "outputs": []
    }
  ]
}